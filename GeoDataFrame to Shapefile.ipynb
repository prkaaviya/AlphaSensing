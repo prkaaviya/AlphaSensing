{
 "cells": [
  {
   "cell_type": "code",
   "execution_count": 1,
   "metadata": {},
   "outputs": [
    {
     "name": "stdout",
     "output_type": "stream",
     "text": [
      "2020-02-15\n"
     ]
    }
   ],
   "source": [
    "date = input()"
   ]
  },
  {
   "cell_type": "code",
   "execution_count": 3,
   "metadata": {},
   "outputs": [],
   "source": [
    "import antpodTest as apd\n",
    "import matplotlib.pyplot as plt\n",
    "import seaborn as sns\n",
    "import geopandas as gpd"
   ]
  },
  {
   "cell_type": "code",
   "execution_count": 4,
   "metadata": {},
   "outputs": [
    {
     "name": "stderr",
     "output_type": "stream",
     "text": [
      "C:\\Users\\prkaa\\anaconda3\\envs\\test\\lib\\site-packages\\pyproj\\crs\\crs.py:53: FutureWarning: '+init=<authority>:<code>' syntax is deprecated. '<authority>:<code>' is the preferred initialization method. When making the change, be mindful of axis order changes: https://pyproj4.github.io/pyproj/stable/gotchas.html#axis-order-changes-in-proj-6\n",
      "  return _prepare_from_string(\" \".join(pjargs))\n",
      "C:\\Users\\prkaa\\anaconda3\\envs\\test\\lib\\site-packages\\rasterstats\\io.py:301: UserWarning: Setting nodata to -999; specify nodata explicitly\n",
      "  warnings.warn(\"Setting nodata to -999; specify nodata explicitly\")\n"
     ]
    },
    {
     "data": {
      "text/html": [
       "<div>\n",
       "<style scoped>\n",
       "    .dataframe tbody tr th:only-of-type {\n",
       "        vertical-align: middle;\n",
       "    }\n",
       "\n",
       "    .dataframe tbody tr th {\n",
       "        vertical-align: top;\n",
       "    }\n",
       "\n",
       "    .dataframe thead th {\n",
       "        text-align: right;\n",
       "    }\n",
       "</style>\n",
       "<table border=\"1\" class=\"dataframe\">\n",
       "  <thead>\n",
       "    <tr style=\"text-align: right;\">\n",
       "      <th></th>\n",
       "      <th>geometry</th>\n",
       "      <th>meanNDVI</th>\n",
       "    </tr>\n",
       "  </thead>\n",
       "  <tbody>\n",
       "    <tr>\n",
       "      <th>0</th>\n",
       "      <td>POLYGON ((80.06210 12.81309, 80.06210 12.81279...</td>\n",
       "      <td>0.492993</td>\n",
       "    </tr>\n",
       "    <tr>\n",
       "      <th>1</th>\n",
       "      <td>POLYGON ((80.06160 12.81279, 80.06210 12.81279...</td>\n",
       "      <td>0.589033</td>\n",
       "    </tr>\n",
       "    <tr>\n",
       "      <th>2</th>\n",
       "      <td>POLYGON ((80.06160 12.81229, 80.06210 12.81229...</td>\n",
       "      <td>0.631944</td>\n",
       "    </tr>\n",
       "    <tr>\n",
       "      <th>3</th>\n",
       "      <td>POLYGON ((80.06160 12.81179, 80.06210 12.81179...</td>\n",
       "      <td>0.588601</td>\n",
       "    </tr>\n",
       "    <tr>\n",
       "      <th>4</th>\n",
       "      <td>POLYGON ((80.06160 12.81129, 80.06210 12.81129...</td>\n",
       "      <td>0.587040</td>\n",
       "    </tr>\n",
       "    <tr>\n",
       "      <th>...</th>\n",
       "      <td>...</td>\n",
       "      <td>...</td>\n",
       "    </tr>\n",
       "    <tr>\n",
       "      <th>889</th>\n",
       "      <td>POLYGON ((80.07660 12.82029, 80.07703 12.82029...</td>\n",
       "      <td>0.415190</td>\n",
       "    </tr>\n",
       "    <tr>\n",
       "      <th>890</th>\n",
       "      <td>POLYGON ((80.07660 12.81979, 80.07700 12.81979...</td>\n",
       "      <td>0.327740</td>\n",
       "    </tr>\n",
       "    <tr>\n",
       "      <th>891</th>\n",
       "      <td>POLYGON ((80.07660 12.81929, 80.07697 12.81929...</td>\n",
       "      <td>0.326507</td>\n",
       "    </tr>\n",
       "    <tr>\n",
       "      <th>892</th>\n",
       "      <td>POLYGON ((80.07660 12.81879, 80.07694 12.81879...</td>\n",
       "      <td>0.476510</td>\n",
       "    </tr>\n",
       "    <tr>\n",
       "      <th>893</th>\n",
       "      <td>POLYGON ((80.07660 12.81829, 80.07678 12.81829...</td>\n",
       "      <td>0.308298</td>\n",
       "    </tr>\n",
       "  </tbody>\n",
       "</table>\n",
       "<p>879 rows × 2 columns</p>\n",
       "</div>"
      ],
      "text/plain": [
       "                                              geometry  meanNDVI\n",
       "0    POLYGON ((80.06210 12.81309, 80.06210 12.81279...  0.492993\n",
       "1    POLYGON ((80.06160 12.81279, 80.06210 12.81279...  0.589033\n",
       "2    POLYGON ((80.06160 12.81229, 80.06210 12.81229...  0.631944\n",
       "3    POLYGON ((80.06160 12.81179, 80.06210 12.81179...  0.588601\n",
       "4    POLYGON ((80.06160 12.81129, 80.06210 12.81129...  0.587040\n",
       "..                                                 ...       ...\n",
       "889  POLYGON ((80.07660 12.82029, 80.07703 12.82029...  0.415190\n",
       "890  POLYGON ((80.07660 12.81979, 80.07700 12.81979...  0.327740\n",
       "891  POLYGON ((80.07660 12.81929, 80.07697 12.81929...  0.326507\n",
       "892  POLYGON ((80.07660 12.81879, 80.07694 12.81879...  0.476510\n",
       "893  POLYGON ((80.07660 12.81829, 80.07678 12.81829...  0.308298\n",
       "\n",
       "[879 rows x 2 columns]"
      ]
     },
     "execution_count": 4,
     "metadata": {},
     "output_type": "execute_result"
    }
   ],
   "source": [
    "userID = \"APX00000\" #kanchi\n",
    "mapConfig = \"XX\"\n",
    "sensor = [\"L2A\", \"L1C\"]\n",
    "antpodProduct =  \"VXX\"\n",
    "VXXProducts =['NDVI', 'SAVI', 'AVI', 'EVI', 'ARVI', 'GNDVI', 'NDCI', 'NPCRI', 'PSRI', 'BSI', 'NDMI', 'NDWI', 'SI']\n",
    "files = apd.rasterCaller(userID, mapConfig, sensor, antpodProduct)\n",
    "meta = apd.openRaster(files, antpodProduct)\n",
    "list_date = apd.extractDates(meta)\n",
    "dataset = meta[date]\n",
    "geodf = apd.readShapefile(userID)\n",
    "geodf = apd.setGeoDFCRS(geodf, epsg=4326)\n",
    "geodf = apd.fillMeanIndexValues(dataset, geodf, VXXProducts)\n",
    "var = ['meanNDVI'] #'meanSAVI', 'meanEVI', 'meanARVI', 'meanGNDVI', 'meanNDCI', 'meanNPCRI', 'meanPSRI', 'meanBSI', 'meanNDMI', 'meanNDWI']\n",
    "col = ['geometry'] + var\n",
    "test = geodf[col]\n",
    "test = test.dropna()\n",
    "test"
   ]
  },
  {
   "cell_type": "code",
   "execution_count": 26,
   "metadata": {},
   "outputs": [
    {
     "data": {
      "text/html": [
       "<div>\n",
       "<style scoped>\n",
       "    .dataframe tbody tr th:only-of-type {\n",
       "        vertical-align: middle;\n",
       "    }\n",
       "\n",
       "    .dataframe tbody tr th {\n",
       "        vertical-align: top;\n",
       "    }\n",
       "\n",
       "    .dataframe thead th {\n",
       "        text-align: right;\n",
       "    }\n",
       "</style>\n",
       "<table border=\"1\" class=\"dataframe\">\n",
       "  <thead>\n",
       "    <tr style=\"text-align: right;\">\n",
       "      <th></th>\n",
       "      <th>geometry</th>\n",
       "      <th>meanNDVI</th>\n",
       "    </tr>\n",
       "  </thead>\n",
       "  <tbody>\n",
       "    <tr>\n",
       "      <th>0</th>\n",
       "      <td>POLYGON ((80.06210 12.81309, 80.06210 12.81279...</td>\n",
       "      <td>0.492993</td>\n",
       "    </tr>\n",
       "    <tr>\n",
       "      <th>1</th>\n",
       "      <td>POLYGON ((80.06160 12.81279, 80.06210 12.81279...</td>\n",
       "      <td>0.589033</td>\n",
       "    </tr>\n",
       "    <tr>\n",
       "      <th>2</th>\n",
       "      <td>POLYGON ((80.06160 12.81229, 80.06210 12.81229...</td>\n",
       "      <td>0.631944</td>\n",
       "    </tr>\n",
       "    <tr>\n",
       "      <th>3</th>\n",
       "      <td>POLYGON ((80.06160 12.81179, 80.06210 12.81179...</td>\n",
       "      <td>0.588601</td>\n",
       "    </tr>\n",
       "    <tr>\n",
       "      <th>4</th>\n",
       "      <td>POLYGON ((80.06160 12.81129, 80.06210 12.81129...</td>\n",
       "      <td>0.587040</td>\n",
       "    </tr>\n",
       "  </tbody>\n",
       "</table>\n",
       "</div>"
      ],
      "text/plain": [
       "                                            geometry  meanNDVI\n",
       "0  POLYGON ((80.06210 12.81309, 80.06210 12.81279...  0.492993\n",
       "1  POLYGON ((80.06160 12.81279, 80.06210 12.81279...  0.589033\n",
       "2  POLYGON ((80.06160 12.81229, 80.06210 12.81229...  0.631944\n",
       "3  POLYGON ((80.06160 12.81179, 80.06210 12.81179...  0.588601\n",
       "4  POLYGON ((80.06160 12.81129, 80.06210 12.81129...  0.587040"
      ]
     },
     "execution_count": 26,
     "metadata": {},
     "output_type": "execute_result"
    }
   ],
   "source": [
    "test = gpd.GeoDataFrame(test, geometry='geometry')\n",
    "test.head()"
   ]
  },
  {
   "cell_type": "code",
   "execution_count": 27,
   "metadata": {},
   "outputs": [],
   "source": [
    "test.to_file('clustering1.shp', driver='ESRI Shapefile')"
   ]
  }
 ],
 "metadata": {
  "kernelspec": {
   "display_name": "Python 3",
   "language": "python",
   "name": "python3"
  },
  "language_info": {
   "codemirror_mode": {
    "name": "ipython",
    "version": 3
   },
   "file_extension": ".py",
   "mimetype": "text/x-python",
   "name": "python",
   "nbconvert_exporter": "python",
   "pygments_lexer": "ipython3",
   "version": "3.8.4"
  }
 },
 "nbformat": 4,
 "nbformat_minor": 4
}
