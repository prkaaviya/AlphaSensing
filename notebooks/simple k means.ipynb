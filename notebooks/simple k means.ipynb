{
 "cells": [
  {
   "cell_type": "code",
   "execution_count": 1,
   "metadata": {},
   "outputs": [],
   "source": [
    "import numpy as np\n",
    "import matplotlib.pyplot as plt\n",
    "from sklearn.datasets import make_blobs"
   ]
  },
  {
   "cell_type": "code",
   "execution_count": 2,
   "metadata": {},
   "outputs": [],
   "source": [
    "dataset = make_blobs(n_samples=200, centers=4, n_features=2, cluster_std=1.5, random_state=50)"
   ]
  },
  {
   "cell_type": "code",
   "execution_count": 3,
   "metadata": {},
   "outputs": [
    {
     "data": {
      "text/plain": [
       "tuple"
      ]
     },
     "execution_count": 3,
     "metadata": {},
     "output_type": "execute_result"
    }
   ],
   "source": [
    "type(dataset)"
   ]
  },
  {
   "cell_type": "code",
   "execution_count": 4,
   "metadata": {},
   "outputs": [
    {
     "data": {
      "text/plain": [
       "200"
      ]
     },
     "execution_count": 4,
     "metadata": {},
     "output_type": "execute_result"
    }
   ],
   "source": [
    "len(dataset[1])"
   ]
  },
  {
   "cell_type": "code",
   "execution_count": 5,
   "metadata": {},
   "outputs": [
    {
     "data": {
      "text/plain": [
       "array([[ -1.15371815,   9.28608987],\n",
       "       [  1.01188629,  -6.85379429],\n",
       "       [ -2.28009973,   5.823956  ],\n",
       "       [ -1.61221254,   8.26520229],\n",
       "       [ -5.74143926,  -3.67713944],\n",
       "       [ -2.16143959,  -4.70869647],\n",
       "       [ -1.73033236,  11.19978868],\n",
       "       [ -0.69890087,  -5.21616418],\n",
       "       [ -0.18679327,  -6.38975954],\n",
       "       [ -6.28616029,  -2.17026594],\n",
       "       [ -5.10617138,  -2.86192364],\n",
       "       [ -4.11239658,   9.10246728],\n",
       "       [ -2.81643007,  -2.31235779],\n",
       "       [ -3.14622737,   1.62315659],\n",
       "       [ -5.68632748,  -0.80988341],\n",
       "       [ -1.98438698,   4.35815063],\n",
       "       [ -2.86762568,  10.95406344],\n",
       "       [ -1.19667116,  10.28506587],\n",
       "       [ -5.1805362 ,  -1.62845665],\n",
       "       [ -4.76737569,  -1.97691043],\n",
       "       [ -6.65126986,  -3.47559611],\n",
       "       [ -2.60583895,   3.46890231],\n",
       "       [ -4.48200422,  10.59320403],\n",
       "       [ -1.50081866,  11.13363054],\n",
       "       [ -2.01025101,   9.74393189],\n",
       "       [ -1.50073727,   4.11008632],\n",
       "       [ -3.66504685,   9.20395803],\n",
       "       [ -0.82230495,  -2.19023693],\n",
       "       [ -2.62740002,   5.57570924],\n",
       "       [ -0.26463468,  10.45980466],\n",
       "       [ -0.08689243,  12.54210715],\n",
       "       [ -5.95969839,  -1.0827312 ],\n",
       "       [ -6.33887773,  -0.0178704 ],\n",
       "       [ -0.74856481,  -5.62018736],\n",
       "       [  0.0778323 ,  -4.32415982],\n",
       "       [ -3.80216131,  -2.38476646],\n",
       "       [ -5.43567163,  -1.33988399],\n",
       "       [ -4.52815928,  -1.34414284],\n",
       "       [ -1.6110501 ,   6.98630085],\n",
       "       [ -2.41430197,   6.30062816],\n",
       "       [ -1.11411772,  13.23460424],\n",
       "       [ -7.02676205,  -3.58245341],\n",
       "       [ -2.07829922,   6.53026329],\n",
       "       [ -3.00740959,   6.17263136],\n",
       "       [ -0.64625473,  -4.87054637],\n",
       "       [  1.53484718,  -3.43072486],\n",
       "       [ -1.85178162,   9.59528035],\n",
       "       [ -0.22891248,   6.44557328],\n",
       "       [ -1.66297741,   6.32408157],\n",
       "       [ -4.07887298,   9.00009336],\n",
       "       [ -1.04459284,  -4.87470691],\n",
       "       [ -7.45528967,  -4.44890541],\n",
       "       [ -0.40216183,   5.26965586],\n",
       "       [ -1.31193058,   8.45639238],\n",
       "       [ -0.28894806,   2.75598211],\n",
       "       [  0.56849387,   6.02607342],\n",
       "       [ -1.60425619,  -3.03997547],\n",
       "       [ -5.01852995,   0.58412967],\n",
       "       [ -6.14106283,  -0.74567743],\n",
       "       [ -2.84107832,   5.28676897],\n",
       "       [ -1.29779202,  -5.49659101],\n",
       "       [ -0.52986008,  -2.87197694],\n",
       "       [ -5.48617438,   8.07010378],\n",
       "       [ -2.60749535,  -5.76683011],\n",
       "       [ -1.44261954,  -5.4304363 ],\n",
       "       [ -3.18006055,   9.47674515],\n",
       "       [  0.91835596,  -7.19012201],\n",
       "       [ -4.26470915,   3.48115826],\n",
       "       [ -3.12675472,  10.96580626],\n",
       "       [ -4.60194807,   8.02544674],\n",
       "       [  0.95392204,  -4.69735316],\n",
       "       [ -6.05784289,  -2.87734419],\n",
       "       [ -3.36590644,   7.78588223],\n",
       "       [  1.19167022,  -6.24164128],\n",
       "       [ -3.08178251,   6.29895877],\n",
       "       [ -0.10407438,   5.46082178],\n",
       "       [ -5.37971113,  -2.648336  ],\n",
       "       [  0.31758787,   4.73808487],\n",
       "       [ -2.37853158,   4.71114745],\n",
       "       [ -0.36082891,  -5.73218631],\n",
       "       [ -6.03088967,  -5.74047548],\n",
       "       [ -0.57181785,   6.30864231],\n",
       "       [ -5.67934494,  -1.83044747],\n",
       "       [ -4.88813391,  -2.9067135 ],\n",
       "       [ -5.85145465,  -1.43705584],\n",
       "       [ -7.28534578,  -1.84025279],\n",
       "       [ -3.33155815,  10.89229093],\n",
       "       [  0.22539849,  -5.06061752],\n",
       "       [ -3.06204768,  10.88349364],\n",
       "       [ -5.13770059,  -3.9995544 ],\n",
       "       [ -0.40859156,  -4.32378082],\n",
       "       [ -4.16118273,  10.77941797],\n",
       "       [  0.03599981,  -4.65130785],\n",
       "       [ -4.84729873,   4.35016752],\n",
       "       [ -2.37049987,   5.10057907],\n",
       "       [ -2.43801428,  -1.57508186],\n",
       "       [ -0.15463354, -11.15317348],\n",
       "       [ -2.17287376,   4.57745569],\n",
       "       [ -0.47663209,  -3.77615647],\n",
       "       [ -2.50625482,   5.1005762 ],\n",
       "       [ -7.70660885,  -3.10174943],\n",
       "       [ -1.44439901,  -5.84430742],\n",
       "       [ -3.57579011,   3.03630847],\n",
       "       [ -1.38171043,  11.85186398],\n",
       "       [ -1.5132011 ,   7.32425487],\n",
       "       [  2.09853541,  -6.31226711],\n",
       "       [ -2.86708215,   4.43767465],\n",
       "       [ -2.61083682,  -3.3887701 ],\n",
       "       [ -9.0919802 ,  -2.04457243],\n",
       "       [ -1.89077026,  11.43417491],\n",
       "       [ -0.04945525,  -5.75823794],\n",
       "       [ -4.81831814,  -4.15560995],\n",
       "       [ -2.81564733,  10.54292096],\n",
       "       [ -3.20200374,   8.66805328],\n",
       "       [ -5.72538932,  -3.15003148],\n",
       "       [ -1.38106008,   4.44976273],\n",
       "       [ -2.54173473,  12.17695144],\n",
       "       [ -1.87801286,  11.61797465],\n",
       "       [ -3.46106737,   4.06849103],\n",
       "       [  4.86314593,  -3.95668222],\n",
       "       [  1.03601834,   8.76880252],\n",
       "       [ -3.56271546,   7.40644829],\n",
       "       [ -1.60722984,   8.27182756],\n",
       "       [ -1.79526143,  10.16433856],\n",
       "       [  3.9499154 ,  -7.67542067],\n",
       "       [ -1.10815491,  10.79839742],\n",
       "       [ -3.05527683,   9.09819126],\n",
       "       [ -2.70087768,   5.69967303],\n",
       "       [ -1.74668606,   7.74650637],\n",
       "       [  0.93713836,  -5.94018569],\n",
       "       [ -3.71458238,  -3.89750276],\n",
       "       [  0.98481724,  -3.00571968],\n",
       "       [ -0.49519047,  -5.36760367],\n",
       "       [  0.3299337 ,   3.07408429],\n",
       "       [ -1.2417513 ,   9.34362782],\n",
       "       [  0.60955212,   3.47821644],\n",
       "       [  0.10133012,  -5.01013386],\n",
       "       [ -0.73185302,  10.3801948 ],\n",
       "       [ -2.74880241,   8.61122079],\n",
       "       [ -5.2291585 ,  -2.08361752],\n",
       "       [ -3.76765913,   9.56652465],\n",
       "       [ -0.8664897 ,   5.92433838],\n",
       "       [ -2.36839691,   7.01237683],\n",
       "       [ -2.17845423,  -3.74016972],\n",
       "       [ -6.54125615,  -3.80928812],\n",
       "       [ -5.3820197 ,  11.31149504],\n",
       "       [  1.11553116,  -5.36107921],\n",
       "       [ -3.16174048,   5.38083446],\n",
       "       [  1.09981647,  -7.82016517],\n",
       "       [ -6.78615039,  -4.30425838],\n",
       "       [ -1.81099925,   9.23818766],\n",
       "       [ -6.540581  ,  -2.11539252],\n",
       "       [ -3.5906693 ,   6.66014272],\n",
       "       [ -0.35480013,  -5.02103879],\n",
       "       [  0.09830502,  -6.51728219],\n",
       "       [ -2.30311292,   6.95451693],\n",
       "       [ -0.80659203,  10.01114573],\n",
       "       [ -0.72631877,  -5.6794105 ],\n",
       "       [ -0.65236375,  -9.29471755],\n",
       "       [  2.99076215,  -3.80658708],\n",
       "       [ -1.67901689,   4.71676882],\n",
       "       [ -0.43418715,   5.70473697],\n",
       "       [ -1.02128929,  -2.71773689],\n",
       "       [ -2.03140598,  -7.42955626],\n",
       "       [ -5.09549551,  -4.43733113],\n",
       "       [ -4.5902643 ,  -0.80063819],\n",
       "       [ -4.87567989,  -2.18192552],\n",
       "       [ -1.44806958,   5.2227502 ],\n",
       "       [  1.73836116,  -8.99851798],\n",
       "       [ -0.40654163,  -4.9126918 ],\n",
       "       [ -1.27867091,  -3.83293631],\n",
       "       [  0.08153937,  -4.14504734],\n",
       "       [ -6.82723928,  -0.95604384],\n",
       "       [  0.89935942,   5.79293968],\n",
       "       [  0.02270496,  -5.38693536],\n",
       "       [ -2.82613139,   7.66615053],\n",
       "       [ -4.39336308,  -2.89481673],\n",
       "       [ -0.33261705,  -4.40287783],\n",
       "       [ -2.69135854,  10.54483921],\n",
       "       [ -3.65418733,   4.2156313 ],\n",
       "       [  1.17807585,  -7.69762184],\n",
       "       [ -1.47304483,   3.86452369],\n",
       "       [ -2.2290171 ,   5.56265093],\n",
       "       [ -3.05132883,   9.41406599],\n",
       "       [ -6.27557287,  -0.17930219],\n",
       "       [ -0.58003281,  -3.37841616],\n",
       "       [ -6.15748744,  -2.18859966],\n",
       "       [ -5.16200513,  12.70403029],\n",
       "       [  0.95766319,   4.42050306],\n",
       "       [  2.17452629,  -7.39849806],\n",
       "       [ -2.89233913,   2.77003394],\n",
       "       [ -2.95285062,   3.64540577],\n",
       "       [ -3.5848985 ,  -0.94994256],\n",
       "       [ -0.60584944,   7.3570404 ],\n",
       "       [  1.02231543,  -4.89314102],\n",
       "       [ -1.18460955,  10.94547679],\n",
       "       [ -4.04298881,  -1.98750457],\n",
       "       [ -3.20479711,   6.32571557],\n",
       "       [ -3.82622267,  -1.59917766],\n",
       "       [ -0.81943482,  11.7647407 ]])"
      ]
     },
     "execution_count": 5,
     "metadata": {},
     "output_type": "execute_result"
    }
   ],
   "source": [
    "points = dataset[0]\n",
    "points"
   ]
  },
  {
   "cell_type": "code",
   "execution_count": 6,
   "metadata": {},
   "outputs": [],
   "source": [
    "from sklearn.cluster import KMeans"
   ]
  },
  {
   "cell_type": "code",
   "execution_count": 7,
   "metadata": {},
   "outputs": [],
   "source": [
    "kmeans = KMeans(n_clusters=4)"
   ]
  },
  {
   "cell_type": "code",
   "execution_count": 8,
   "metadata": {},
   "outputs": [
    {
     "data": {
      "text/plain": [
       "KMeans(n_clusters=4)"
      ]
     },
     "execution_count": 8,
     "metadata": {},
     "output_type": "execute_result"
    }
   ],
   "source": [
    "kmeans.fit(points)"
   ]
  },
  {
   "cell_type": "code",
   "execution_count": 9,
   "metadata": {},
   "outputs": [],
   "source": [
    "import seaborn as sns\n",
    "sns.set_style(\"darkgrid\")"
   ]
  },
  {
   "cell_type": "code",
   "execution_count": 10,
   "metadata": {},
   "outputs": [
    {
     "data": {
      "text/plain": [
       "<matplotlib.collections.PathCollection at 0x16985934400>"
      ]
     },
     "execution_count": 10,
     "metadata": {},
     "output_type": "execute_result"
    },
    {
     "data": {
      "image/png": "[encoded data removed]",
      "text/plain": [
       "<Figure size 432x288 with 1 Axes>"
      ]
     },
     "metadata": {},
     "output_type": "display_data"
    }
   ],
   "source": [
    "plt.scatter(dataset[0][:,0], dataset[0][:,1])"
   ]
  },
  {
   "cell_type": "code",
   "execution_count": 11,
   "metadata": {},
   "outputs": [
    {
     "name": "stdout",
     "output_type": "stream",
     "text": [
      "[[-1.90808931  5.14791029]\n",
      " [-5.45922685 -2.35556894]\n",
      " [-2.39930521 10.05258314]\n",
      " [ 0.06912515 -5.38143605]]\n"
     ]
    }
   ],
   "source": [
    "cluster = kmeans.cluster_centers_\n",
    "print(cluster)"
   ]
  },
  {
   "cell_type": "code",
   "execution_count": 12,
   "metadata": {},
   "outputs": [
    {
     "name": "stdout",
     "output_type": "stream",
     "text": [
      "[0 1 2 0 3 1 0 1 1 3 3 0 3 2 3 2 0 0 3 3 3 2 0 0 0 2 0 1 2 0 0 3 3 1 1 3 3\n",
      " 3 2 2 0 3 2 2 1 1 0 2 2 0 1 3 2 0 2 2 1 3 3 2 1 1 0 1 1 0 1 2 0 0 1 3 0 1\n",
      " 2 2 3 2 2 1 3 2 3 3 3 3 0 1 0 3 1 0 1 2 2 3 1 2 1 2 3 1 2 0 2 1 2 3 3 0 1\n",
      " 3 0 0 3 2 0 0 2 1 0 2 0 0 1 0 0 2 0 1 3 1 1 2 0 2 1 0 0 3 0 2 2 1 3 0 1 2\n",
      " 1 3 0 3 2 1 1 2 0 1 1 1 2 2 1 1 3 3 3 2 1 1 1 1 3 2 1 0 3 1 0 2 1 2 2 0 3\n",
      " 1 3 0 2 1 2 2 3 2 1 0 3 2 3 0]\n"
     ]
    }
   ],
   "source": [
    "ykm = kmeans.fit_predict(points)\n",
    "print(ykm)"
   ]
  },
  {
   "cell_type": "code",
   "execution_count": 13,
   "metadata": {},
   "outputs": [
    {
     "data": {
      "image/png": "[encoded data removed]",
      "text/plain": [
       "<Figure size 432x288 with 1 Axes>"
      ]
     },
     "metadata": {},
     "output_type": "display_data"
    }
   ],
   "source": [
    "plt.scatter(points[ykm==0, 0], points[ykm==0, 1], s=50, color='red')\n",
    "plt.scatter(points[ykm==1, 0], points[ykm==1, 1], s=50, color='blue')\n",
    "plt.scatter(points[ykm==2, 0], points[ykm==2, 1], s=50, color='yellow')\n",
    "plt.scatter(points[ykm==3, 0], points[ykm==3, 1], s=50, color='green')\n",
    "\n",
    "for center in cluster:\n",
    "    plt.scatter(center[0], center[1], s=100, color='black')"
   ]
  },
  {
   "cell_type": "code",
   "execution_count": 14,
   "metadata": {},
   "outputs": [
    {
     "name": "stdout",
     "output_type": "stream",
     "text": [
      "[9031.938855519911, 2405.7748291886114, 1416.9398266625979, 819.4679215223124, 705.1717960898491, 628.0605747054649, 557.4685414379858, 490.25967655893896, 436.9381161852181]\n"
     ]
    }
   ],
   "source": [
    "k_Range = range(1,10)\n",
    "sse =[]\n",
    "\n",
    "for k in k_Range:\n",
    "    km = KMeans(n_clusters=k)\n",
    "    km.fit(points)\n",
    "    sse.append(km.inertia_)\n",
    "print(sse)"
   ]
  },
  {
   "cell_type": "code",
   "execution_count": 15,
   "metadata": {},
   "outputs": [
    {
     "data": {
      "text/plain": [
       "[<matplotlib.lines.Line2D at 0x16985eaaf70>]"
      ]
     },
     "execution_count": 15,
     "metadata": {},
     "output_type": "execute_result"
    },
    {
     "data": {
      "image/png": "[encoded data removed]",
      "text/plain": [
       "<Figure size 432x288 with 1 Axes>"
      ]
     },
     "metadata": {},
     "output_type": "display_data"
    }
   ],
   "source": [
    "plt.plot(k_Range,sse)"
   ]
  },
  {
   "cell_type": "code",
   "execution_count": 20,
   "metadata": {},
   "outputs": [
    {
     "name": "stdout",
     "output_type": "stream",
     "text": [
      "Creating grids ... successful\n",
      "Finishing overlay process ... successful\n"
     ]
    }
   ],
   "source": [
    "import antpodGIS as apg\n",
    "import geopandas as gpd\n",
    "import rasterio as rio\n",
    "import rasterstats\n",
    "\n",
    "geo = \"FarmKanchi.geojson\"\n",
    "tiff = \"S:\\\\antpodGIS\\\\tiff\\\\APX00000-XX-L2A-VXX-2020-01-06.tif\"\n",
    "\n",
    "geodf = apg.retGeoDF(geo, status=True)\n",
    "\n",
    "datasetReader = rio.open(tiff)\n",
    "windowRaster, clipGeoData = apg.retClipGeoData(datasetReader, geodf, 1)\n",
    "transform = apg.retTransform(datasetReader, windowRaster)\n",
    "stats = rasterstats.zonal_stats(geodf.geometry, clipGeoData,\n",
    "                            nodata=-999, affine=transform)\n",
    "i=0\n",
    "for stat in stats:\n",
    "    try:\n",
    "        geodf.loc[i, 'ndvi'] = stat['mean']\n",
    "    except Exception as e:\n",
    "        print(str(e))\n",
    "    i=i+1"
   ]
  },
  {
   "cell_type": "code",
   "execution_count": 21,
   "metadata": {},
   "outputs": [
    {
     "data": {
      "text/html": [
       "<div>\n",
       "<style scoped>\n",
       "    .dataframe tbody tr th:only-of-type {\n",
       "        vertical-align: middle;\n",
       "    }\n",
       "\n",
       "    .dataframe tbody tr th {\n",
       "        vertical-align: top;\n",
       "    }\n",
       "\n",
       "    .dataframe thead th {\n",
       "        text-align: right;\n",
       "    }\n",
       "</style>\n",
       "<table border=\"1\" class=\"dataframe\">\n",
       "  <thead>\n",
       "    <tr style=\"text-align: right;\">\n",
       "      <th></th>\n",
       "      <th>id</th>\n",
       "      <th>geometry</th>\n",
       "      <th>ndvi</th>\n",
       "    </tr>\n",
       "  </thead>\n",
       "  <tbody>\n",
       "    <tr>\n",
       "      <th>0</th>\n",
       "      <td>1</td>\n",
       "      <td>POLYGON ((80.06210 12.81309, 80.06210 12.81279...</td>\n",
       "      <td>0.586341</td>\n",
       "    </tr>\n",
       "    <tr>\n",
       "      <th>1</th>\n",
       "      <td>1</td>\n",
       "      <td>POLYGON ((80.06160 12.81279, 80.06210 12.81279...</td>\n",
       "      <td>0.658985</td>\n",
       "    </tr>\n",
       "    <tr>\n",
       "      <th>2</th>\n",
       "      <td>1</td>\n",
       "      <td>POLYGON ((80.06160 12.81229, 80.06210 12.81229...</td>\n",
       "      <td>0.719659</td>\n",
       "    </tr>\n",
       "    <tr>\n",
       "      <th>3</th>\n",
       "      <td>1</td>\n",
       "      <td>POLYGON ((80.06160 12.81179, 80.06210 12.81179...</td>\n",
       "      <td>0.769298</td>\n",
       "    </tr>\n",
       "    <tr>\n",
       "      <th>4</th>\n",
       "      <td>1</td>\n",
       "      <td>POLYGON ((80.06160 12.81129, 80.06210 12.81129...</td>\n",
       "      <td>0.763692</td>\n",
       "    </tr>\n",
       "  </tbody>\n",
       "</table>\n",
       "</div>"
      ],
      "text/plain": [
       "   id                                           geometry      ndvi\n",
       "0   1  POLYGON ((80.06210 12.81309, 80.06210 12.81279...  0.586341\n",
       "1   1  POLYGON ((80.06160 12.81279, 80.06210 12.81279...  0.658985\n",
       "2   1  POLYGON ((80.06160 12.81229, 80.06210 12.81229...  0.719659\n",
       "3   1  POLYGON ((80.06160 12.81179, 80.06210 12.81179...  0.769298\n",
       "4   1  POLYGON ((80.06160 12.81129, 80.06210 12.81129...  0.763692"
      ]
     },
     "execution_count": 21,
     "metadata": {},
     "output_type": "execute_result"
    }
   ],
   "source": [
    "geodf.head()"
   ]
  },
  {
   "cell_type": "code",
   "execution_count": 22,
   "metadata": {},
   "outputs": [
    {
     "data": {
      "text/plain": [
       "<matplotlib.axes._subplots.AxesSubplot at 0x169887ecee0>"
      ]
     },
     "execution_count": 22,
     "metadata": {},
     "output_type": "execute_result"
    },
    {
     "data": {
      "image/png": "[encoded data removed]",
      "text/plain": [
       "<Figure size 432x288 with 1 Axes>"
      ]
     },
     "metadata": {},
     "output_type": "display_data"
    }
   ],
   "source": [
    "geodf.plot()"
   ]
  },
  {
   "cell_type": "code",
   "execution_count": null,
   "metadata": {},
   "outputs": [],
   "source": [
    "coordinates = [feature['geometry']['coordinates'] for feature in data['features']]"
   ]
  },
  {
   "cell_type": "code",
   "execution_count": 30,
   "metadata": {},
   "outputs": [
    {
     "ename": "TypeError",
     "evalue": "float() argument must be a string or a number, not 'Polygon'",
     "output_type": "error",
     "traceback": [
      "\u001b[1;31m---------------------------------------------------------------------------\u001b[0m",
      "\u001b[1;31mTypeError\u001b[0m                                 Traceback (most recent call last)",
      "\u001b[1;32m<ipython-input-30-b494f2fe4f0a>\u001b[0m in \u001b[0;36m<module>\u001b[1;34m\u001b[0m\n\u001b[0;32m      1\u001b[0m \u001b[0mkmeans2\u001b[0m \u001b[1;33m=\u001b[0m \u001b[0mKMeans\u001b[0m\u001b[1;33m(\u001b[0m\u001b[0mn_clusters\u001b[0m\u001b[1;33m=\u001b[0m\u001b[1;36m4\u001b[0m\u001b[1;33m)\u001b[0m\u001b[1;33m\u001b[0m\u001b[1;33m\u001b[0m\u001b[0m\n\u001b[0;32m      2\u001b[0m \u001b[1;33m\u001b[0m\u001b[0m\n\u001b[1;32m----> 3\u001b[1;33m \u001b[0mkm4\u001b[0m \u001b[1;33m=\u001b[0m \u001b[0mkmeans2\u001b[0m\u001b[1;33m.\u001b[0m\u001b[0mfit\u001b[0m\u001b[1;33m(\u001b[0m\u001b[0mgeodf\u001b[0m\u001b[1;33m.\u001b[0m\u001b[0mgeometry\u001b[0m\u001b[1;33m)\u001b[0m\u001b[1;33m\u001b[0m\u001b[1;33m\u001b[0m\u001b[0m\n\u001b[0m",
      "\u001b[1;32mc:\\users\\prkaa\\anaconda3\\envs\\play\\lib\\site-packages\\sklearn\\cluster\\_kmeans.py\u001b[0m in \u001b[0;36mfit\u001b[1;34m(self, X, y, sample_weight)\u001b[0m\n\u001b[0;32m    989\u001b[0m             )\n\u001b[0;32m    990\u001b[0m \u001b[1;33m\u001b[0m\u001b[0m\n\u001b[1;32m--> 991\u001b[1;33m         X = self._validate_data(X, accept_sparse='csr',\n\u001b[0m\u001b[0;32m    992\u001b[0m                                 \u001b[0mdtype\u001b[0m\u001b[1;33m=\u001b[0m\u001b[1;33m[\u001b[0m\u001b[0mnp\u001b[0m\u001b[1;33m.\u001b[0m\u001b[0mfloat64\u001b[0m\u001b[1;33m,\u001b[0m \u001b[0mnp\u001b[0m\u001b[1;33m.\u001b[0m\u001b[0mfloat32\u001b[0m\u001b[1;33m]\u001b[0m\u001b[1;33m,\u001b[0m\u001b[1;33m\u001b[0m\u001b[1;33m\u001b[0m\u001b[0m\n\u001b[0;32m    993\u001b[0m                                 \u001b[0morder\u001b[0m\u001b[1;33m=\u001b[0m\u001b[1;34m'C'\u001b[0m\u001b[1;33m,\u001b[0m \u001b[0mcopy\u001b[0m\u001b[1;33m=\u001b[0m\u001b[0mself\u001b[0m\u001b[1;33m.\u001b[0m\u001b[0mcopy_x\u001b[0m\u001b[1;33m,\u001b[0m\u001b[1;33m\u001b[0m\u001b[1;33m\u001b[0m\u001b[0m\n",
      "\u001b[1;32mc:\\users\\prkaa\\anaconda3\\envs\\play\\lib\\site-packages\\sklearn\\base.py\u001b[0m in \u001b[0;36m_validate_data\u001b[1;34m(self, X, y, reset, validate_separately, **check_params)\u001b[0m\n\u001b[0;32m    418\u001b[0m                     \u001b[1;34mf\"requires y to be passed, but the target y is None.\"\u001b[0m\u001b[1;33m\u001b[0m\u001b[1;33m\u001b[0m\u001b[0m\n\u001b[0;32m    419\u001b[0m                 )\n\u001b[1;32m--> 420\u001b[1;33m             \u001b[0mX\u001b[0m \u001b[1;33m=\u001b[0m \u001b[0mcheck_array\u001b[0m\u001b[1;33m(\u001b[0m\u001b[0mX\u001b[0m\u001b[1;33m,\u001b[0m \u001b[1;33m**\u001b[0m\u001b[0mcheck_params\u001b[0m\u001b[1;33m)\u001b[0m\u001b[1;33m\u001b[0m\u001b[1;33m\u001b[0m\u001b[0m\n\u001b[0m\u001b[0;32m    421\u001b[0m             \u001b[0mout\u001b[0m \u001b[1;33m=\u001b[0m \u001b[0mX\u001b[0m\u001b[1;33m\u001b[0m\u001b[1;33m\u001b[0m\u001b[0m\n\u001b[0;32m    422\u001b[0m         \u001b[1;32melse\u001b[0m\u001b[1;33m:\u001b[0m\u001b[1;33m\u001b[0m\u001b[1;33m\u001b[0m\u001b[0m\n",
      "\u001b[1;32mc:\\users\\prkaa\\anaconda3\\envs\\play\\lib\\site-packages\\sklearn\\utils\\validation.py\u001b[0m in \u001b[0;36minner_f\u001b[1;34m(*args, **kwargs)\u001b[0m\n\u001b[0;32m     71\u001b[0m                           FutureWarning)\n\u001b[0;32m     72\u001b[0m         \u001b[0mkwargs\u001b[0m\u001b[1;33m.\u001b[0m\u001b[0mupdate\u001b[0m\u001b[1;33m(\u001b[0m\u001b[1;33m{\u001b[0m\u001b[0mk\u001b[0m\u001b[1;33m:\u001b[0m \u001b[0marg\u001b[0m \u001b[1;32mfor\u001b[0m \u001b[0mk\u001b[0m\u001b[1;33m,\u001b[0m \u001b[0marg\u001b[0m \u001b[1;32min\u001b[0m \u001b[0mzip\u001b[0m\u001b[1;33m(\u001b[0m\u001b[0msig\u001b[0m\u001b[1;33m.\u001b[0m\u001b[0mparameters\u001b[0m\u001b[1;33m,\u001b[0m \u001b[0margs\u001b[0m\u001b[1;33m)\u001b[0m\u001b[1;33m}\u001b[0m\u001b[1;33m)\u001b[0m\u001b[1;33m\u001b[0m\u001b[1;33m\u001b[0m\u001b[0m\n\u001b[1;32m---> 73\u001b[1;33m         \u001b[1;32mreturn\u001b[0m \u001b[0mf\u001b[0m\u001b[1;33m(\u001b[0m\u001b[1;33m**\u001b[0m\u001b[0mkwargs\u001b[0m\u001b[1;33m)\u001b[0m\u001b[1;33m\u001b[0m\u001b[1;33m\u001b[0m\u001b[0m\n\u001b[0m\u001b[0;32m     74\u001b[0m     \u001b[1;32mreturn\u001b[0m \u001b[0minner_f\u001b[0m\u001b[1;33m\u001b[0m\u001b[1;33m\u001b[0m\u001b[0m\n\u001b[0;32m     75\u001b[0m \u001b[1;33m\u001b[0m\u001b[0m\n",
      "\u001b[1;32mc:\\users\\prkaa\\anaconda3\\envs\\play\\lib\\site-packages\\sklearn\\utils\\validation.py\u001b[0m in \u001b[0;36mcheck_array\u001b[1;34m(array, accept_sparse, accept_large_sparse, dtype, order, copy, force_all_finite, ensure_2d, allow_nd, ensure_min_samples, ensure_min_features, estimator)\u001b[0m\n\u001b[0;32m    597\u001b[0m                     \u001b[0marray\u001b[0m \u001b[1;33m=\u001b[0m \u001b[0marray\u001b[0m\u001b[1;33m.\u001b[0m\u001b[0mastype\u001b[0m\u001b[1;33m(\u001b[0m\u001b[0mdtype\u001b[0m\u001b[1;33m,\u001b[0m \u001b[0mcasting\u001b[0m\u001b[1;33m=\u001b[0m\u001b[1;34m\"unsafe\"\u001b[0m\u001b[1;33m,\u001b[0m \u001b[0mcopy\u001b[0m\u001b[1;33m=\u001b[0m\u001b[1;32mFalse\u001b[0m\u001b[1;33m)\u001b[0m\u001b[1;33m\u001b[0m\u001b[1;33m\u001b[0m\u001b[0m\n\u001b[0;32m    598\u001b[0m                 \u001b[1;32melse\u001b[0m\u001b[1;33m:\u001b[0m\u001b[1;33m\u001b[0m\u001b[1;33m\u001b[0m\u001b[0m\n\u001b[1;32m--> 599\u001b[1;33m                     \u001b[0marray\u001b[0m \u001b[1;33m=\u001b[0m \u001b[0mnp\u001b[0m\u001b[1;33m.\u001b[0m\u001b[0masarray\u001b[0m\u001b[1;33m(\u001b[0m\u001b[0marray\u001b[0m\u001b[1;33m,\u001b[0m \u001b[0morder\u001b[0m\u001b[1;33m=\u001b[0m\u001b[0morder\u001b[0m\u001b[1;33m,\u001b[0m \u001b[0mdtype\u001b[0m\u001b[1;33m=\u001b[0m\u001b[0mdtype\u001b[0m\u001b[1;33m)\u001b[0m\u001b[1;33m\u001b[0m\u001b[1;33m\u001b[0m\u001b[0m\n\u001b[0m\u001b[0;32m    600\u001b[0m             \u001b[1;32mexcept\u001b[0m \u001b[0mComplexWarning\u001b[0m\u001b[1;33m:\u001b[0m\u001b[1;33m\u001b[0m\u001b[1;33m\u001b[0m\u001b[0m\n\u001b[0;32m    601\u001b[0m                 raise ValueError(\"Complex data not supported\\n\"\n",
      "\u001b[1;32mc:\\users\\prkaa\\anaconda3\\envs\\play\\lib\\site-packages\\numpy\\core\\_asarray.py\u001b[0m in \u001b[0;36masarray\u001b[1;34m(a, dtype, order)\u001b[0m\n\u001b[0;32m     81\u001b[0m \u001b[1;33m\u001b[0m\u001b[0m\n\u001b[0;32m     82\u001b[0m     \"\"\"\n\u001b[1;32m---> 83\u001b[1;33m     \u001b[1;32mreturn\u001b[0m \u001b[0marray\u001b[0m\u001b[1;33m(\u001b[0m\u001b[0ma\u001b[0m\u001b[1;33m,\u001b[0m \u001b[0mdtype\u001b[0m\u001b[1;33m,\u001b[0m \u001b[0mcopy\u001b[0m\u001b[1;33m=\u001b[0m\u001b[1;32mFalse\u001b[0m\u001b[1;33m,\u001b[0m \u001b[0morder\u001b[0m\u001b[1;33m=\u001b[0m\u001b[0morder\u001b[0m\u001b[1;33m)\u001b[0m\u001b[1;33m\u001b[0m\u001b[1;33m\u001b[0m\u001b[0m\n\u001b[0m\u001b[0;32m     84\u001b[0m \u001b[1;33m\u001b[0m\u001b[0m\n\u001b[0;32m     85\u001b[0m \u001b[1;33m\u001b[0m\u001b[0m\n",
      "\u001b[1;32mc:\\users\\prkaa\\anaconda3\\envs\\play\\lib\\site-packages\\pandas\\core\\series.py\u001b[0m in \u001b[0;36m__array__\u001b[1;34m(self, dtype)\u001b[0m\n\u001b[0;32m    752\u001b[0m               dtype='datetime64[ns]')\n\u001b[0;32m    753\u001b[0m         \"\"\"\n\u001b[1;32m--> 754\u001b[1;33m         \u001b[1;32mreturn\u001b[0m \u001b[0mnp\u001b[0m\u001b[1;33m.\u001b[0m\u001b[0masarray\u001b[0m\u001b[1;33m(\u001b[0m\u001b[0mself\u001b[0m\u001b[1;33m.\u001b[0m\u001b[0marray\u001b[0m\u001b[1;33m,\u001b[0m \u001b[0mdtype\u001b[0m\u001b[1;33m)\u001b[0m\u001b[1;33m\u001b[0m\u001b[1;33m\u001b[0m\u001b[0m\n\u001b[0m\u001b[0;32m    755\u001b[0m \u001b[1;33m\u001b[0m\u001b[0m\n\u001b[0;32m    756\u001b[0m     \u001b[1;31m# ----------------------------------------------------------------------\u001b[0m\u001b[1;33m\u001b[0m\u001b[1;33m\u001b[0m\u001b[1;33m\u001b[0m\u001b[0m\n",
      "\u001b[1;32mc:\\users\\prkaa\\anaconda3\\envs\\play\\lib\\site-packages\\numpy\\core\\_asarray.py\u001b[0m in \u001b[0;36masarray\u001b[1;34m(a, dtype, order)\u001b[0m\n\u001b[0;32m     81\u001b[0m \u001b[1;33m\u001b[0m\u001b[0m\n\u001b[0;32m     82\u001b[0m     \"\"\"\n\u001b[1;32m---> 83\u001b[1;33m     \u001b[1;32mreturn\u001b[0m \u001b[0marray\u001b[0m\u001b[1;33m(\u001b[0m\u001b[0ma\u001b[0m\u001b[1;33m,\u001b[0m \u001b[0mdtype\u001b[0m\u001b[1;33m,\u001b[0m \u001b[0mcopy\u001b[0m\u001b[1;33m=\u001b[0m\u001b[1;32mFalse\u001b[0m\u001b[1;33m,\u001b[0m \u001b[0morder\u001b[0m\u001b[1;33m=\u001b[0m\u001b[0morder\u001b[0m\u001b[1;33m)\u001b[0m\u001b[1;33m\u001b[0m\u001b[1;33m\u001b[0m\u001b[0m\n\u001b[0m\u001b[0;32m     84\u001b[0m \u001b[1;33m\u001b[0m\u001b[0m\n\u001b[0;32m     85\u001b[0m \u001b[1;33m\u001b[0m\u001b[0m\n",
      "\u001b[1;31mTypeError\u001b[0m: float() argument must be a string or a number, not 'Polygon'"
     ]
    }
   ],
   "source": [
    "kmeans2 = KMeans(n_clusters=4)\n",
    "\n",
    "km4 = kmeans2.fit(geodf.geometry)"
   ]
  },
  {
   "cell_type": "code",
   "execution_count": 23,
   "metadata": {},
   "outputs": [
    {
     "ename": "ValueError",
     "evalue": "Expected 2D array, got 1D array instead:\narray=[0.5863414  0.65898531 0.71965867 0.76929806 0.76369198 0.68981449\n 0.62732903 0.64199082 0.66469114 0.57632452 0.45168444 0.61567991\n 0.50210438 0.26290212 0.19347022 0.19468609 0.58917571 0.57731969\n 0.65961338 0.75195785 0.72767092 0.67313409 0.57044535 0.36754615\n 0.5923845  0.56228494 0.30090449 0.54081192 0.53917481 0.25483953\n 0.16679324 0.20908326        nan 0.66243873 0.66998169 0.70293712\n 0.70995374 0.7068093  0.71850617 0.65275982 0.36095709 0.49869455\n 0.46506037 0.47606077 0.45222384 0.32570768 0.18805275 0.12342985\n 0.19551215        nan        nan 0.58066585 0.53726002 0.60202438\n 0.60118639 0.6736557  0.68683778 0.7334517  0.74605894 0.56327911\n 0.50812845 0.40668469 0.46403919 0.38255357 0.38991356 0.27153831\n 0.37618317 0.23657944 0.11605488 0.20461155 0.52798528        nan\n 0.59653866 0.55811827 0.53374896 0.63016605 0.65260979 0.65411162\n 0.47545498 0.53271793 0.52648299 0.56606327 0.64174883 0.66557999\n 0.74359915 0.38870617 0.32452685 0.35980244 0.41155173 0.32051424\n 0.26309401 0.14370903 0.18500768 0.21182506 0.21970127 0.26318031\n 0.48882973        nan 0.59093916 0.61247294 0.6174021  0.71282247\n 0.68998713 0.44092026 0.5430926  0.38226125 0.24845891 0.22432658\n 0.4381527  0.47041977 0.5201523  0.34069175 0.29655227 0.48751877\n 0.32971159 0.1971362  0.13443856 0.25798279 0.21988412 0.13297255\n 0.16840005 0.27405437 0.42866311 0.67556182 0.3148367  0.52533702\n 0.67624744 0.71097456 0.64274426 0.65168553 0.66847558 0.44635318\n 0.35251212 0.22649116 0.30441685 0.37165256 0.34639221 0.43755202\n 0.3379402  0.32681811 0.35842276 0.18165295 0.12514351 0.22532867\n 0.22331201 0.12673911 0.1137037  0.19319692 0.32509277 0.48134695\n 0.66955838 0.55179258 0.66468906 0.69984574 0.69506471 0.68403688\n 0.6652264  0.65356413 0.47531734 0.33288221 0.33570682 0.2775555\n 0.25824185 0.22448213 0.46039171 0.33391457 0.38615877 0.44020528\n 0.35060136 0.30639207 0.35091287 0.30531125 0.19875947 0.18769041\n 0.33987174 0.25367024 0.37807988 0.63616212 0.44654847 0.42889046\n 0.5563613  0.65743246 0.60591619 0.6901128  0.66497378 0.38219826\n 0.21886985 0.2699927  0.2132737  0.24571102 0.29849044 0.31164356\n 0.19721645 0.2774409  0.38036583 0.34267911 0.33485571 0.20338154\n 0.34561837 0.21408449 0.16277887 0.36435518 0.31916418 0.35984992\n        nan 0.69173239 0.64493522 0.70726865 0.75595668        nan\n        nan        nan        nan 0.62886243 0.43641507 0.5993737\n 0.50317554 0.39644408 0.43161824 0.57189125 0.35849127 0.32890126\n 0.28431856 0.22417114 0.25499452 0.23349525 0.25818026 0.23038944\n 0.22420893 0.20238318 0.28496957 0.31365684 0.23061044 0.16474514\n 0.36380531 0.35121914 0.43756022 0.38136984 0.58578174 0.4594435\n 0.22745242        nan 0.50659241 0.49964125 0.55725864 0.60516962\n 0.59463312 0.56087475 0.53023976 0.50111475 0.29362102 0.44846381\n 0.39335003 0.24302407 0.37087568 0.40356223 0.33651998 0.43346621\n 0.4955899  0.43312725 0.34419119 0.34000404 0.18596594 0.16780608\n 0.12396229 0.25210201 0.1830321  0.23052292 0.13686996 0.20000848\n 0.24666975 0.29177893 0.31330976 0.37134717 0.41727803 0.50369043\n 0.45703423 0.66585211 0.62036028 0.30000822 0.67970443 0.56994533\n 0.50097444 0.52510034 0.65478151 0.64345719 0.56405894 0.53374021\n 0.54898368 0.3482492  0.27937809 0.16461635 0.10459732 0.27580521\n 0.36715633 0.37870971 0.42204709 0.43058441 0.42223426 0.24324792\n 0.17838569 0.34436903 0.17854587 0.08529742 0.24809194 0.18784575\n 0.23940382 0.11818101 0.17944794 0.24518299 0.41015318 0.27860698\n 0.43077941 0.58518727 0.70870848 0.53099807 0.62596186 0.63099147\n 0.48686699 0.44743515 0.61976104 0.56008491 0.57651577 0.59932843\n 0.67622724 0.6887927  0.50449729 0.27333591 0.10683344 0.20777109\n 0.12322708 0.16004327 0.29410269 0.44914506 0.39565223 0.30069324\n 0.29039621 0.18924595 0.31414446 0.16117843 0.13544918 0.00987463\n 0.07058535 0.27234849 0.46784738 0.25532679 0.25262164 0.45266373\n 0.50883867 0.45569375 0.14931408 0.41239646 0.63152982 0.38231975\n 0.3998162  0.53638448 0.5093887  0.47098907 0.49682131 0.63422717\n 0.58053205 0.51099996 0.41785731 0.33352957 0.35197098 0.54982867\n 0.35586201 0.36281835 0.38960859 0.30659913 0.20195209 0.21041435\n 0.24099968 0.44969558 0.42697631 0.18485268 0.02309494 0.02438744\n 0.2275656  0.24595308 0.15727504 0.35678439 0.58067778 0.60745032\n 0.58704076 0.46607077 0.35641768 0.46025902 0.30074389 0.34299192\n 0.37979969 0.30556407 0.35073208 0.36006252 0.38896548 0.40031619\n 0.48896528 0.55084457 0.5422584  0.44391365 0.60093583 0.46570381\n 0.27453697 0.32608622 0.3391954  0.13811224 0.14472769 0.2562582\n 0.45344661 0.42960352 0.18324023 0.07230742 0.17266456 0.30409457\n 0.2435946  0.30741827 0.34485285 0.37979924 0.28225556 0.6789497\n 0.70679751 0.31925008 0.23135497 0.21348871 0.29547683 0.26491246\n 0.29024089 0.45068974 0.50564876 0.33323492 0.32186704 0.37990107\n 0.60929618 0.57338613 0.49768795 0.54111938 0.28538093 0.23970638\n 0.24497091 0.30277522 0.17694938 0.32827794 0.20086209 0.38456938\n 0.17236207 0.08108372 0.31799909 0.41400075 0.44860642 0.71664233\n 0.67990635 0.6271067  0.59307557 0.5847642  0.58491064 0.2473533\n 0.18083962 0.16355133 0.15513189 0.28598055 0.3680712  0.30768806\n 0.55082766 0.52697822 0.42810904 0.36726451 0.38138698 0.46991065\n 0.38200949 0.37645179 0.40682353 0.25652804 0.30892983 0.16523966\n 0.31864203 0.42523204 0.35675467 0.38282354 0.34602865 0.26912728\n 0.47629491 0.37085458 0.42148769 0.44374497 0.49672249 0.53780329\n 0.46113381 0.49658836 0.53437402 0.2631267  0.29178131 0.26387005\n 0.26023777 0.38142816 0.41442392 0.44724363 0.60404228 0.46986748\n 0.35292409 0.40729066 0.31597237 0.37823249 0.32293985 0.33956735\n 0.37133789 0.22001095 0.24066143 0.24530758 0.30780783 0.20664194\n 0.20336038 0.315353   0.38245663 0.23401848 0.4079579  0.61663671\n 0.62205395 0.5664921  0.49107564 0.53072372 0.50026272 0.59809442\n 0.5330064  0.5507189         nan 0.49068551 0.45481307 0.36971918\n 0.42782345 0.45423431 0.51406872 0.45277028 0.55547245 0.61675424\n 0.40994414 0.29755243 0.3627253  0.33718784 0.32858541 0.28498493\n 0.29307191 0.212854   0.16437415 0.1233581  0.16590119 0.28603816\n 0.23530885 0.22029109 0.41607094 0.35702605 0.24453374 0.25449189\n 0.71772029 0.69828961 0.68621218 0.64971361 0.53346111 0.50496658\n 0.64359882 0.52488475 0.52511348 0.48557886 0.52250395 0.44080441\n 0.13270326 0.45056722 0.33583764 0.30289585 0.32792821 0.40857676\n 0.45160246 0.44035342 0.41447809 0.48406031 0.31175196 0.24509149\n 0.4509048  0.4570999  0.25940235 0.65691816 0.44172125 0.1367383\n 0.22157101 0.26261487 0.34258461 0.46413925 0.5435801  0.19220421\n 0.44778948 0.31130259 0.2350239  0.52875802 0.51673856 0.4384214\n 0.33793881 0.45752344 0.42474814 0.33830821 0.34638853 0.43932882\n 0.45695106 0.44614549 0.50215443 0.52719764 0.2981717  0.45131253\n 0.48375671 0.41165411 0.4136682  0.34069179 0.33234543 0.45301373\n 0.24280592 0.21745529 0.24080531 0.23521028 0.51320065 0.39415484\n 0.20121066 0.41635596 0.48258441 0.31238874 0.2282177  0.22871247\n 0.30344476 0.39524097 0.33220522 0.26089128 0.30318104 0.34464825\n 0.27049729 0.48412433 0.41485543 0.3486376  0.41084808 0.43589758\n 0.24060645 0.40991688 0.51774419 0.40248997 0.31328252 0.27319464\n 0.31778776 0.54685572 0.47675676 0.46182117 0.55299343 0.51690389\n 0.39900541 0.22273151 0.26667334 0.44704025 0.26988202 0.19091807\n 0.25639814 0.40839261 0.52711188 0.44696704 0.23648063 0.39180642\n 0.55377773 0.35139113 0.23333523 0.25980954 0.25107666 0.34173957\n 0.36126415 0.45655927 0.5299546  0.46456698 0.27442841 0.3860135\n 0.39272699 0.40234049 0.53421068 0.53683862 0.40443451 0.50597062\n 0.54101481 0.36822395 0.29907452 0.24270043 0.27396567 0.39090732\n 0.44324761 0.51058031 0.32725747 0.25168671 0.19957609 0.2626718\n 0.27577212 0.27396064 0.28130997 0.36561062 0.3485917  0.44155323\n 0.60549077 0.36003932 0.24134634 0.42516622 0.27688883 0.23216461\n 0.26137593 0.20332879 0.25117572 0.5331491  0.55970001 0.6655836\n 0.52001486 0.36774336 0.54782657 0.69547689 0.61732027 0.58758692\n 0.57343404 0.48761047 0.36054522 0.46989128 0.5706865  0.47921329\n 0.35555064 0.6974789  0.52384588 0.45233845 0.40223733 0.37594134\n 0.21479058 0.22235173 0.24161384 0.37911823 0.39645602 0.23546598\n 0.29369455 0.36112562 0.31850048 0.59725818 0.55823738 0.44709376\n 0.35482831 0.317388   0.4660747  0.44978929 0.42184046 0.3849548\n 0.39003232 0.58625199 0.71293132 0.70887756 0.74109824 0.68099551\n 0.68857202 0.52119935 0.49125807 0.59303321 0.41970477 0.4031436\n 0.43801187 0.475914   0.51828538 0.52374522 0.58062056 0.50270938\n 0.41385823 0.24363297 0.28079853 0.22889466 0.29046148 0.39096633\n 0.39297259 0.25958755 0.26923861 0.36363763 0.61674077 0.60119603\n 0.43703299 0.39047193 0.42008065 0.64973595 0.54595753 0.52839366\n 0.39876266 0.50694017 0.50023335 0.69774179 0.65660703 0.66218724\n 0.66179408 0.66562156 0.67558149 0.45239026 0.60702855 0.56412879\n 0.59529397 0.49587465 0.48211459 0.52511724 0.58012668 0.39182378\n        nan 0.43340114 0.45924507 0.25645941 0.25783934 0.23998453\n 0.45265252 0.38571864 0.22184353 0.22551582 0.40943772 0.61361145\n 0.6288399  0.52185056 0.5218394  0.72986579 0.44964656 0.32598191\n 0.59609854 0.70821138 0.63271985 0.68050807 0.65425606 0.59155081\n 0.50737824 0.55099272        nan 0.41045242 0.35759498 0.27115513\n 0.23874686 0.32015235 0.34436586 0.26486468 0.15768671 0.19073955\n 0.57155234 0.49744565 0.57297009 0.5761932  0.61564908 0.31819753\n 0.52423894 0.7025695  0.63606152 0.6848522  0.57064801 0.60163461\n 0.29310971 0.44665187 0.3876087  0.32629783 0.3379758  0.22004633\n 0.2418589  0.30997135 0.47157849 0.61334293 0.48949855 0.55251451\n 0.52088324 0.55311757 0.41681383 0.44323442 0.45820816 0.39968839\n 0.29921985 0.26364513 0.46266549 0.34322803 0.56990335 0.62693425\n 0.50975866 0.42581845 0.31845134 0.2180724  0.3888647  0.40520763\n 0.46252609 0.39827856 0.31640646 0.35142929 0.29499451 0.46551613\n 0.48135413 0.47724634        nan 0.396846   0.4633534  0.50026787\n 0.38151878 0.31393716 0.32098219 0.31053361 0.40861788 0.425852\n        nan        nan].\nReshape your data either using array.reshape(-1, 1) if your data has a single feature or array.reshape(1, -1) if it contains a single sample.",
     "output_type": "error",
     "traceback": [
      "\u001b[1;31m---------------------------------------------------------------------------\u001b[0m",
      "\u001b[1;31mValueError\u001b[0m                                Traceback (most recent call last)",
      "\u001b[1;32m<ipython-input-23-b9499a58900d>\u001b[0m in \u001b[0;36m<module>\u001b[1;34m\u001b[0m\n\u001b[0;32m      1\u001b[0m \u001b[0mkmeans2\u001b[0m \u001b[1;33m=\u001b[0m \u001b[0mKMeans\u001b[0m\u001b[1;33m(\u001b[0m\u001b[0mn_clusters\u001b[0m\u001b[1;33m=\u001b[0m\u001b[1;36m4\u001b[0m\u001b[1;33m)\u001b[0m\u001b[1;33m\u001b[0m\u001b[1;33m\u001b[0m\u001b[0m\n\u001b[1;32m----> 2\u001b[1;33m \u001b[0mkmeans2\u001b[0m\u001b[1;33m.\u001b[0m\u001b[0mfit\u001b[0m\u001b[1;33m(\u001b[0m\u001b[0mgeodf\u001b[0m\u001b[1;33m.\u001b[0m\u001b[0mndvi\u001b[0m\u001b[1;33m)\u001b[0m\u001b[1;33m\u001b[0m\u001b[1;33m\u001b[0m\u001b[0m\n\u001b[0m\u001b[0;32m      3\u001b[0m \u001b[0mcluster\u001b[0m \u001b[1;33m=\u001b[0m \u001b[0mkmeans2\u001b[0m\u001b[1;33m.\u001b[0m\u001b[0mcluster_centers_\u001b[0m\u001b[1;33m\u001b[0m\u001b[1;33m\u001b[0m\u001b[0m\n\u001b[0;32m      4\u001b[0m \u001b[0mykm\u001b[0m \u001b[1;33m=\u001b[0m \u001b[0mkmeans2\u001b[0m\u001b[1;33m.\u001b[0m\u001b[0mfit_predict\u001b[0m\u001b[1;33m(\u001b[0m\u001b[0mgeodf\u001b[0m\u001b[1;33m.\u001b[0m\u001b[0mndvi\u001b[0m\u001b[1;33m)\u001b[0m\u001b[1;33m\u001b[0m\u001b[1;33m\u001b[0m\u001b[0m\n",
      "\u001b[1;32mc:\\users\\prkaa\\anaconda3\\envs\\play\\lib\\site-packages\\sklearn\\cluster\\_kmeans.py\u001b[0m in \u001b[0;36mfit\u001b[1;34m(self, X, y, sample_weight)\u001b[0m\n\u001b[0;32m    989\u001b[0m             )\n\u001b[0;32m    990\u001b[0m \u001b[1;33m\u001b[0m\u001b[0m\n\u001b[1;32m--> 991\u001b[1;33m         X = self._validate_data(X, accept_sparse='csr',\n\u001b[0m\u001b[0;32m    992\u001b[0m                                 \u001b[0mdtype\u001b[0m\u001b[1;33m=\u001b[0m\u001b[1;33m[\u001b[0m\u001b[0mnp\u001b[0m\u001b[1;33m.\u001b[0m\u001b[0mfloat64\u001b[0m\u001b[1;33m,\u001b[0m \u001b[0mnp\u001b[0m\u001b[1;33m.\u001b[0m\u001b[0mfloat32\u001b[0m\u001b[1;33m]\u001b[0m\u001b[1;33m,\u001b[0m\u001b[1;33m\u001b[0m\u001b[1;33m\u001b[0m\u001b[0m\n\u001b[0;32m    993\u001b[0m                                 \u001b[0morder\u001b[0m\u001b[1;33m=\u001b[0m\u001b[1;34m'C'\u001b[0m\u001b[1;33m,\u001b[0m \u001b[0mcopy\u001b[0m\u001b[1;33m=\u001b[0m\u001b[0mself\u001b[0m\u001b[1;33m.\u001b[0m\u001b[0mcopy_x\u001b[0m\u001b[1;33m,\u001b[0m\u001b[1;33m\u001b[0m\u001b[1;33m\u001b[0m\u001b[0m\n",
      "\u001b[1;32mc:\\users\\prkaa\\anaconda3\\envs\\play\\lib\\site-packages\\sklearn\\base.py\u001b[0m in \u001b[0;36m_validate_data\u001b[1;34m(self, X, y, reset, validate_separately, **check_params)\u001b[0m\n\u001b[0;32m    418\u001b[0m                     \u001b[1;34mf\"requires y to be passed, but the target y is None.\"\u001b[0m\u001b[1;33m\u001b[0m\u001b[1;33m\u001b[0m\u001b[0m\n\u001b[0;32m    419\u001b[0m                 )\n\u001b[1;32m--> 420\u001b[1;33m             \u001b[0mX\u001b[0m \u001b[1;33m=\u001b[0m \u001b[0mcheck_array\u001b[0m\u001b[1;33m(\u001b[0m\u001b[0mX\u001b[0m\u001b[1;33m,\u001b[0m \u001b[1;33m**\u001b[0m\u001b[0mcheck_params\u001b[0m\u001b[1;33m)\u001b[0m\u001b[1;33m\u001b[0m\u001b[1;33m\u001b[0m\u001b[0m\n\u001b[0m\u001b[0;32m    421\u001b[0m             \u001b[0mout\u001b[0m \u001b[1;33m=\u001b[0m \u001b[0mX\u001b[0m\u001b[1;33m\u001b[0m\u001b[1;33m\u001b[0m\u001b[0m\n\u001b[0;32m    422\u001b[0m         \u001b[1;32melse\u001b[0m\u001b[1;33m:\u001b[0m\u001b[1;33m\u001b[0m\u001b[1;33m\u001b[0m\u001b[0m\n",
      "\u001b[1;32mc:\\users\\prkaa\\anaconda3\\envs\\play\\lib\\site-packages\\sklearn\\utils\\validation.py\u001b[0m in \u001b[0;36minner_f\u001b[1;34m(*args, **kwargs)\u001b[0m\n\u001b[0;32m     71\u001b[0m                           FutureWarning)\n\u001b[0;32m     72\u001b[0m         \u001b[0mkwargs\u001b[0m\u001b[1;33m.\u001b[0m\u001b[0mupdate\u001b[0m\u001b[1;33m(\u001b[0m\u001b[1;33m{\u001b[0m\u001b[0mk\u001b[0m\u001b[1;33m:\u001b[0m \u001b[0marg\u001b[0m \u001b[1;32mfor\u001b[0m \u001b[0mk\u001b[0m\u001b[1;33m,\u001b[0m \u001b[0marg\u001b[0m \u001b[1;32min\u001b[0m \u001b[0mzip\u001b[0m\u001b[1;33m(\u001b[0m\u001b[0msig\u001b[0m\u001b[1;33m.\u001b[0m\u001b[0mparameters\u001b[0m\u001b[1;33m,\u001b[0m \u001b[0margs\u001b[0m\u001b[1;33m)\u001b[0m\u001b[1;33m}\u001b[0m\u001b[1;33m)\u001b[0m\u001b[1;33m\u001b[0m\u001b[1;33m\u001b[0m\u001b[0m\n\u001b[1;32m---> 73\u001b[1;33m         \u001b[1;32mreturn\u001b[0m \u001b[0mf\u001b[0m\u001b[1;33m(\u001b[0m\u001b[1;33m**\u001b[0m\u001b[0mkwargs\u001b[0m\u001b[1;33m)\u001b[0m\u001b[1;33m\u001b[0m\u001b[1;33m\u001b[0m\u001b[0m\n\u001b[0m\u001b[0;32m     74\u001b[0m     \u001b[1;32mreturn\u001b[0m \u001b[0minner_f\u001b[0m\u001b[1;33m\u001b[0m\u001b[1;33m\u001b[0m\u001b[0m\n\u001b[0;32m     75\u001b[0m \u001b[1;33m\u001b[0m\u001b[0m\n",
      "\u001b[1;32mc:\\users\\prkaa\\anaconda3\\envs\\play\\lib\\site-packages\\sklearn\\utils\\validation.py\u001b[0m in \u001b[0;36mcheck_array\u001b[1;34m(array, accept_sparse, accept_large_sparse, dtype, order, copy, force_all_finite, ensure_2d, allow_nd, ensure_min_samples, ensure_min_features, estimator)\u001b[0m\n\u001b[0;32m    618\u001b[0m             \u001b[1;31m# If input is 1D raise error\u001b[0m\u001b[1;33m\u001b[0m\u001b[1;33m\u001b[0m\u001b[1;33m\u001b[0m\u001b[0m\n\u001b[0;32m    619\u001b[0m             \u001b[1;32mif\u001b[0m \u001b[0marray\u001b[0m\u001b[1;33m.\u001b[0m\u001b[0mndim\u001b[0m \u001b[1;33m==\u001b[0m \u001b[1;36m1\u001b[0m\u001b[1;33m:\u001b[0m\u001b[1;33m\u001b[0m\u001b[1;33m\u001b[0m\u001b[0m\n\u001b[1;32m--> 620\u001b[1;33m                 raise ValueError(\n\u001b[0m\u001b[0;32m    621\u001b[0m                     \u001b[1;34m\"Expected 2D array, got 1D array instead:\\narray={}.\\n\"\u001b[0m\u001b[1;33m\u001b[0m\u001b[1;33m\u001b[0m\u001b[0m\n\u001b[0;32m    622\u001b[0m                     \u001b[1;34m\"Reshape your data either using array.reshape(-1, 1) if \"\u001b[0m\u001b[1;33m\u001b[0m\u001b[1;33m\u001b[0m\u001b[0m\n",
      "\u001b[1;31mValueError\u001b[0m: Expected 2D array, got 1D array instead:\narray=[0.5863414  0.65898531 0.71965867 0.76929806 0.76369198 0.68981449\n 0.62732903 0.64199082 0.66469114 0.57632452 0.45168444 0.61567991\n 0.50210438 0.26290212 0.19347022 0.19468609 0.58917571 0.57731969\n 0.65961338 0.75195785 0.72767092 0.67313409 0.57044535 0.36754615\n 0.5923845  0.56228494 0.30090449 0.54081192 0.53917481 0.25483953\n 0.16679324 0.20908326        nan 0.66243873 0.66998169 0.70293712\n 0.70995374 0.7068093  0.71850617 0.65275982 0.36095709 0.49869455\n 0.46506037 0.47606077 0.45222384 0.32570768 0.18805275 0.12342985\n 0.19551215        nan        nan 0.58066585 0.53726002 0.60202438\n 0.60118639 0.6736557  0.68683778 0.7334517  0.74605894 0.56327911\n 0.50812845 0.40668469 0.46403919 0.38255357 0.38991356 0.27153831\n 0.37618317 0.23657944 0.11605488 0.20461155 0.52798528        nan\n 0.59653866 0.55811827 0.53374896 0.63016605 0.65260979 0.65411162\n 0.47545498 0.53271793 0.52648299 0.56606327 0.64174883 0.66557999\n 0.74359915 0.38870617 0.32452685 0.35980244 0.41155173 0.32051424\n 0.26309401 0.14370903 0.18500768 0.21182506 0.21970127 0.26318031\n 0.48882973        nan 0.59093916 0.61247294 0.6174021  0.71282247\n 0.68998713 0.44092026 0.5430926  0.38226125 0.24845891 0.22432658\n 0.4381527  0.47041977 0.5201523  0.34069175 0.29655227 0.48751877\n 0.32971159 0.1971362  0.13443856 0.25798279 0.21988412 0.13297255\n 0.16840005 0.27405437 0.42866311 0.67556182 0.3148367  0.52533702\n 0.67624744 0.71097456 0.64274426 0.65168553 0.66847558 0.44635318\n 0.35251212 0.22649116 0.30441685 0.37165256 0.34639221 0.43755202\n 0.3379402  0.32681811 0.35842276 0.18165295 0.12514351 0.22532867\n 0.22331201 0.12673911 0.1137037  0.19319692 0.32509277 0.48134695\n 0.66955838 0.55179258 0.66468906 0.69984574 0.69506471 0.68403688\n 0.6652264  0.65356413 0.47531734 0.33288221 0.33570682 0.2775555\n 0.25824185 0.22448213 0.46039171 0.33391457 0.38615877 0.44020528\n 0.35060136 0.30639207 0.35091287 0.30531125 0.19875947 0.18769041\n 0.33987174 0.25367024 0.37807988 0.63616212 0.44654847 0.42889046\n 0.5563613  0.65743246 0.60591619 0.6901128  0.66497378 0.38219826\n 0.21886985 0.2699927  0.2132737  0.24571102 0.29849044 0.31164356\n 0.19721645 0.2774409  0.38036583 0.34267911 0.33485571 0.20338154\n 0.34561837 0.21408449 0.16277887 0.36435518 0.31916418 0.35984992\n        nan 0.69173239 0.64493522 0.70726865 0.75595668        nan\n        nan        nan        nan 0.62886243 0.43641507 0.5993737\n 0.50317554 0.39644408 0.43161824 0.57189125 0.35849127 0.32890126\n 0.28431856 0.22417114 0.25499452 0.23349525 0.25818026 0.23038944\n 0.22420893 0.20238318 0.28496957 0.31365684 0.23061044 0.16474514\n 0.36380531 0.35121914 0.43756022 0.38136984 0.58578174 0.4594435\n 0.22745242        nan 0.50659241 0.49964125 0.55725864 0.60516962\n 0.59463312 0.56087475 0.53023976 0.50111475 0.29362102 0.44846381\n 0.39335003 0.24302407 0.37087568 0.40356223 0.33651998 0.43346621\n 0.4955899  0.43312725 0.34419119 0.34000404 0.18596594 0.16780608\n 0.12396229 0.25210201 0.1830321  0.23052292 0.13686996 0.20000848\n 0.24666975 0.29177893 0.31330976 0.37134717 0.41727803 0.50369043\n 0.45703423 0.66585211 0.62036028 0.30000822 0.67970443 0.56994533\n 0.50097444 0.52510034 0.65478151 0.64345719 0.56405894 0.53374021\n 0.54898368 0.3482492  0.27937809 0.16461635 0.10459732 0.27580521\n 0.36715633 0.37870971 0.42204709 0.43058441 0.42223426 0.24324792\n 0.17838569 0.34436903 0.17854587 0.08529742 0.24809194 0.18784575\n 0.23940382 0.11818101 0.17944794 0.24518299 0.41015318 0.27860698\n 0.43077941 0.58518727 0.70870848 0.53099807 0.62596186 0.63099147\n 0.48686699 0.44743515 0.61976104 0.56008491 0.57651577 0.59932843\n 0.67622724 0.6887927  0.50449729 0.27333591 0.10683344 0.20777109\n 0.12322708 0.16004327 0.29410269 0.44914506 0.39565223 0.30069324\n 0.29039621 0.18924595 0.31414446 0.16117843 0.13544918 0.00987463\n 0.07058535 0.27234849 0.46784738 0.25532679 0.25262164 0.45266373\n 0.50883867 0.45569375 0.14931408 0.41239646 0.63152982 0.38231975\n 0.3998162  0.53638448 0.5093887  0.47098907 0.49682131 0.63422717\n 0.58053205 0.51099996 0.41785731 0.33352957 0.35197098 0.54982867\n 0.35586201 0.36281835 0.38960859 0.30659913 0.20195209 0.21041435\n 0.24099968 0.44969558 0.42697631 0.18485268 0.02309494 0.02438744\n 0.2275656  0.24595308 0.15727504 0.35678439 0.58067778 0.60745032\n 0.58704076 0.46607077 0.35641768 0.46025902 0.30074389 0.34299192\n 0.37979969 0.30556407 0.35073208 0.36006252 0.38896548 0.40031619\n 0.48896528 0.55084457 0.5422584  0.44391365 0.60093583 0.46570381\n 0.27453697 0.32608622 0.3391954  0.13811224 0.14472769 0.2562582\n 0.45344661 0.42960352 0.18324023 0.07230742 0.17266456 0.30409457\n 0.2435946  0.30741827 0.34485285 0.37979924 0.28225556 0.6789497\n 0.70679751 0.31925008 0.23135497 0.21348871 0.29547683 0.26491246\n 0.29024089 0.45068974 0.50564876 0.33323492 0.32186704 0.37990107\n 0.60929618 0.57338613 0.49768795 0.54111938 0.28538093 0.23970638\n 0.24497091 0.30277522 0.17694938 0.32827794 0.20086209 0.38456938\n 0.17236207 0.08108372 0.31799909 0.41400075 0.44860642 0.71664233\n 0.67990635 0.6271067  0.59307557 0.5847642  0.58491064 0.2473533\n 0.18083962 0.16355133 0.15513189 0.28598055 0.3680712  0.30768806\n 0.55082766 0.52697822 0.42810904 0.36726451 0.38138698 0.46991065\n 0.38200949 0.37645179 0.40682353 0.25652804 0.30892983 0.16523966\n 0.31864203 0.42523204 0.35675467 0.38282354 0.34602865 0.26912728\n 0.47629491 0.37085458 0.42148769 0.44374497 0.49672249 0.53780329\n 0.46113381 0.49658836 0.53437402 0.2631267  0.29178131 0.26387005\n 0.26023777 0.38142816 0.41442392 0.44724363 0.60404228 0.46986748\n 0.35292409 0.40729066 0.31597237 0.37823249 0.32293985 0.33956735\n 0.37133789 0.22001095 0.24066143 0.24530758 0.30780783 0.20664194\n 0.20336038 0.315353   0.38245663 0.23401848 0.4079579  0.61663671\n 0.62205395 0.5664921  0.49107564 0.53072372 0.50026272 0.59809442\n 0.5330064  0.5507189         nan 0.49068551 0.45481307 0.36971918\n 0.42782345 0.45423431 0.51406872 0.45277028 0.55547245 0.61675424\n 0.40994414 0.29755243 0.3627253  0.33718784 0.32858541 0.28498493\n 0.29307191 0.212854   0.16437415 0.1233581  0.16590119 0.28603816\n 0.23530885 0.22029109 0.41607094 0.35702605 0.24453374 0.25449189\n 0.71772029 0.69828961 0.68621218 0.64971361 0.53346111 0.50496658\n 0.64359882 0.52488475 0.52511348 0.48557886 0.52250395 0.44080441\n 0.13270326 0.45056722 0.33583764 0.30289585 0.32792821 0.40857676\n 0.45160246 0.44035342 0.41447809 0.48406031 0.31175196 0.24509149\n 0.4509048  0.4570999  0.25940235 0.65691816 0.44172125 0.1367383\n 0.22157101 0.26261487 0.34258461 0.46413925 0.5435801  0.19220421\n 0.44778948 0.31130259 0.2350239  0.52875802 0.51673856 0.4384214\n 0.33793881 0.45752344 0.42474814 0.33830821 0.34638853 0.43932882\n 0.45695106 0.44614549 0.50215443 0.52719764 0.2981717  0.45131253\n 0.48375671 0.41165411 0.4136682  0.34069179 0.33234543 0.45301373\n 0.24280592 0.21745529 0.24080531 0.23521028 0.51320065 0.39415484\n 0.20121066 0.41635596 0.48258441 0.31238874 0.2282177  0.22871247\n 0.30344476 0.39524097 0.33220522 0.26089128 0.30318104 0.34464825\n 0.27049729 0.48412433 0.41485543 0.3486376  0.41084808 0.43589758\n 0.24060645 0.40991688 0.51774419 0.40248997 0.31328252 0.27319464\n 0.31778776 0.54685572 0.47675676 0.46182117 0.55299343 0.51690389\n 0.39900541 0.22273151 0.26667334 0.44704025 0.26988202 0.19091807\n 0.25639814 0.40839261 0.52711188 0.44696704 0.23648063 0.39180642\n 0.55377773 0.35139113 0.23333523 0.25980954 0.25107666 0.34173957\n 0.36126415 0.45655927 0.5299546  0.46456698 0.27442841 0.3860135\n 0.39272699 0.40234049 0.53421068 0.53683862 0.40443451 0.50597062\n 0.54101481 0.36822395 0.29907452 0.24270043 0.27396567 0.39090732\n 0.44324761 0.51058031 0.32725747 0.25168671 0.19957609 0.2626718\n 0.27577212 0.27396064 0.28130997 0.36561062 0.3485917  0.44155323\n 0.60549077 0.36003932 0.24134634 0.42516622 0.27688883 0.23216461\n 0.26137593 0.20332879 0.25117572 0.5331491  0.55970001 0.6655836\n 0.52001486 0.36774336 0.54782657 0.69547689 0.61732027 0.58758692\n 0.57343404 0.48761047 0.36054522 0.46989128 0.5706865  0.47921329\n 0.35555064 0.6974789  0.52384588 0.45233845 0.40223733 0.37594134\n 0.21479058 0.22235173 0.24161384 0.37911823 0.39645602 0.23546598\n 0.29369455 0.36112562 0.31850048 0.59725818 0.55823738 0.44709376\n 0.35482831 0.317388   0.4660747  0.44978929 0.42184046 0.3849548\n 0.39003232 0.58625199 0.71293132 0.70887756 0.74109824 0.68099551\n 0.68857202 0.52119935 0.49125807 0.59303321 0.41970477 0.4031436\n 0.43801187 0.475914   0.51828538 0.52374522 0.58062056 0.50270938\n 0.41385823 0.24363297 0.28079853 0.22889466 0.29046148 0.39096633\n 0.39297259 0.25958755 0.26923861 0.36363763 0.61674077 0.60119603\n 0.43703299 0.39047193 0.42008065 0.64973595 0.54595753 0.52839366\n 0.39876266 0.50694017 0.50023335 0.69774179 0.65660703 0.66218724\n 0.66179408 0.66562156 0.67558149 0.45239026 0.60702855 0.56412879\n 0.59529397 0.49587465 0.48211459 0.52511724 0.58012668 0.39182378\n        nan 0.43340114 0.45924507 0.25645941 0.25783934 0.23998453\n 0.45265252 0.38571864 0.22184353 0.22551582 0.40943772 0.61361145\n 0.6288399  0.52185056 0.5218394  0.72986579 0.44964656 0.32598191\n 0.59609854 0.70821138 0.63271985 0.68050807 0.65425606 0.59155081\n 0.50737824 0.55099272        nan 0.41045242 0.35759498 0.27115513\n 0.23874686 0.32015235 0.34436586 0.26486468 0.15768671 0.19073955\n 0.57155234 0.49744565 0.57297009 0.5761932  0.61564908 0.31819753\n 0.52423894 0.7025695  0.63606152 0.6848522  0.57064801 0.60163461\n 0.29310971 0.44665187 0.3876087  0.32629783 0.3379758  0.22004633\n 0.2418589  0.30997135 0.47157849 0.61334293 0.48949855 0.55251451\n 0.52088324 0.55311757 0.41681383 0.44323442 0.45820816 0.39968839\n 0.29921985 0.26364513 0.46266549 0.34322803 0.56990335 0.62693425\n 0.50975866 0.42581845 0.31845134 0.2180724  0.3888647  0.40520763\n 0.46252609 0.39827856 0.31640646 0.35142929 0.29499451 0.46551613\n 0.48135413 0.47724634        nan 0.396846   0.4633534  0.50026787\n 0.38151878 0.31393716 0.32098219 0.31053361 0.40861788 0.425852\n        nan        nan].\nReshape your data either using array.reshape(-1, 1) if your data has a single feature or array.reshape(1, -1) if it contains a single sample."
     ]
    }
   ],
   "source": [
    "cluster = kmeans2.cluster_centers_\n",
    "ykm = kmeans2.fit_predict(geodf.ndvi)"
   ]
  },
  {
   "cell_type": "code",
   "execution_count": null,
   "metadata": {},
   "outputs": [],
   "source": [
    "k_Range = range(1,10)\n",
    "sse =[]\n",
    "\n",
    "for k in k_Range:\n",
    "    km = KMeans(n_clusters=k)\n",
    "    km.fit(points)\n",
    "    sse.append(km.inertia_)\n",
    "print(sse)\n",
    "plt.plot(k_Range,sse)"
   ]
  }
 ],
 "metadata": {
  "kernelspec": {
   "display_name": "Python 3",
   "language": "python",
   "name": "python3"
  },
  "language_info": {
   "codemirror_mode": {
    "name": "ipython",
    "version": 3
   },
   "file_extension": ".py",
   "mimetype": "text/x-python",
   "name": "python",
   "nbconvert_exporter": "python",
   "pygments_lexer": "ipython3",
   "version": "3.8.4"
  }
 },
 "nbformat": 4,
 "nbformat_minor": 4
}
