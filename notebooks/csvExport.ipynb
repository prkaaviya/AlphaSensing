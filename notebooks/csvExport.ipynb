{
 "cells": [
  {
   "cell_type": "code",
   "execution_count": null,
   "metadata": {},
   "outputs": [],
   "source": [
    "date = input()"
   ]
  },
  {
   "cell_type": "code",
   "execution_count": null,
   "metadata": {},
   "outputs": [],
   "source": [
    "import antpodTest as apd\n",
    "import matplotlib.pyplot as plt\n",
    "import seaborn as sns\n",
    "import geopandas as gpd"
   ]
  },
  {
   "cell_type": "code",
   "execution_count": null,
   "metadata": {},
   "outputs": [],
   "source": [
    "userID = \"APX00000\" #kanchi\n",
    "mapConfig = \"XX\"\n",
    "sensor = [\"L2A\", \"L1C\"]\n",
    "antpodProduct =  \"VXX\"\n",
    "VXXProducts =['NDVI', 'SAVI', 'AVI', 'EVI', 'ARVI', 'GNDVI', 'NDCI', 'NPCRI', 'PSRI', 'BSI', 'NDMI', 'NDWI', 'SI']"
   ]
  },
  {
   "cell_type": "code",
   "execution_count": null,
   "metadata": {},
   "outputs": [],
   "source": [
    "files = apd.rasterCaller(userID, mapConfig, sensor, antpodProduct)\n",
    "meta = apd.openRaster(files, antpodProduct)\n",
    "list_date = apd.extractDates(meta)"
   ]
  },
  {
   "cell_type": "code",
   "execution_count": null,
   "metadata": {},
   "outputs": [],
   "source": [
    "dataset = meta[date]\n",
    "geodf = apd.readShapefile(userID)\n",
    "geodf = apd.setGeoDFCRS(geodf, epsg=4326)\n",
    "geodf = apd.fillMeanIndexValues(dataset, geodf, VXXProducts)"
   ]
  },
  {
   "cell_type": "code",
   "execution_count": null,
   "metadata": {},
   "outputs": [],
   "source": [
    "var = ['meanNDVI','meanSAVI', 'meanEVI', 'meanARVI', 'meanGNDVI', 'meanNDCI', 'meanNPCRI', 'meanPSRI', 'meanBSI', 'meanNDMI', 'meanNDWI']\n",
    "col = ['geometry'] + var\n",
    "test = geodf[col]\n",
    "test = test.dropna()"
   ]
  },
  {
   "cell_type": "code",
   "execution_count": null,
   "metadata": {},
   "outputs": [],
   "source": [
    "test"
   ]
  },
  {
   "cell_type": "code",
   "execution_count": null,
   "metadata": {},
   "outputs": [],
   "source": [
    "test.plot('meanNDVI', figsize = (12,12), cmap = 'RdYlGn',  legend = True)\n",
    "test.boundary.plot(ax=plt.gca(),color='k')\n",
    "plt.title(date)\n",
    "plt.tight_layout()"
   ]
  },
  {
   "cell_type": "code",
   "execution_count": null,
   "metadata": {},
   "outputs": [],
   "source": [
    "test.describe()"
   ]
  },
  {
   "cell_type": "code",
   "execution_count": null,
   "metadata": {},
   "outputs": [],
   "source": [
    "csvFile = \"Sample-\" + date + \".csv\"\n",
    "test.to_csv(csvFile)\n",
    "print(\"Done\")"
   ]
  },
  {
   "cell_type": "code",
   "execution_count": null,
   "metadata": {},
   "outputs": [],
   "source": [
    "#_ = sns.pairplot(test[var], kind='reg', diag_kind='kde')"
   ]
  }
 ],
 "metadata": {
  "kernelspec": {
   "display_name": "Python 3",
   "language": "python",
   "name": "python3"
  },
  "language_info": {
   "codemirror_mode": {
    "name": "ipython",
    "version": 3
   },
   "file_extension": ".py",
   "mimetype": "text/x-python",
   "name": "python",
   "nbconvert_exporter": "python",
   "pygments_lexer": "ipython3",
   "version": "3.7.6"
  }
 },
 "nbformat": 4,
 "nbformat_minor": 4
}
