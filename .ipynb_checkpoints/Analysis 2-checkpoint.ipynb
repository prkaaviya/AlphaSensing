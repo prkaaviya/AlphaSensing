{
 "cells": [
  {
   "cell_type": "code",
   "execution_count": 1,
   "metadata": {},
   "outputs": [
    {
     "name": "stderr",
     "output_type": "stream",
     "text": [
      "PROJ: proj_create_from_database: Cannot find proj.db\n"
     ]
    }
   ],
   "source": [
    "import antpodTest as apd\n",
    "import matplotlib.pyplot as plt\n",
    "import seaborn as sns\n",
    "import shapely"
   ]
  },
  {
   "cell_type": "code",
   "execution_count": 2,
   "metadata": {},
   "outputs": [],
   "source": [
    "userID = \"APX00000\"\n",
    "mapConfig = \"XX\"\n",
    "sensor = [\"L2A\", \"L1C\"]\n",
    "antpodProduct =  \"VXX\"\n",
    "VXXProducts =['NDVI' ,'SAVI','EVI','ARVI','GNDVI', 'NDCI', 'NPRCI', 'PSRI', 'BSI', 'NDMI', 'NDWI']"
   ]
  },
  {
   "cell_type": "code",
   "execution_count": 3,
   "metadata": {},
   "outputs": [
    {
     "data": {
      "text/plain": [
       "['APX00000-XX-L2A-VXX-2020-01-01.tif',\n",
       " 'APX00000-XX-L2A-VXX-2020-01-06.tif',\n",
       " 'APX00000-XX-L2A-VXX-2020-01-11.tif',\n",
       " 'APX00000-XX-L2A-VXX-2020-01-16.tif',\n",
       " 'APX00000-XX-L2A-VXX-2020-01-21.tif',\n",
       " 'APX00000-XX-L2A-VXX-2020-01-26.tif',\n",
       " 'APX00000-XX-L2A-VXX-2020-01-31.tif',\n",
       " 'APX00000-XX-L2A-VXX-2020-02-05.tif',\n",
       " 'APX00000-XX-L2A-VXX-2020-02-10.tif',\n",
       " 'APX00000-XX-L2A-VXX-2020-02-15.tif',\n",
       " 'APX00000-XX-L2A-VXX-2020-02-20.tif',\n",
       " 'APX00000-XX-L2A-VXX-2020-02-25.tif',\n",
       " 'APX00000-XX-L2A-VXX-2020-03-01.tif',\n",
       " 'APX00000-XX-L2A-VXX-2020-03-06.tif',\n",
       " 'APX00000-XX-L2A-VXX-2020-03-11.tif',\n",
       " 'APX00000-XX-L2A-VXX-2020-03-16.tif',\n",
       " 'APX00000-XX-L2A-VXX-2020-03-21.tif',\n",
       " 'APX00000-XX-L2A-VXX-2020-03-26.tif',\n",
       " 'APX00000-XX-L2A-VXX-2020-03-31.tif',\n",
       " 'APX00000-XX-L2A-VXX-2020-04-05.tif',\n",
       " 'APX00000-XX-L2A-VXX-2020-04-10.tif',\n",
       " 'APX00000-XX-L2A-VXX-2020-04-15.tif',\n",
       " 'APX00000-XX-L2A-VXX-2020-04-20.tif',\n",
       " 'APX00000-XX-L2A-VXX-2020-04-25.tif',\n",
       " 'APX00000-XX-L2A-VXX-2020-04-30.tif',\n",
       " 'APX00000-XX-L2A-VXX-2020-05-05.tif',\n",
       " 'APX00000-XX-L2A-VXX-2020-05-10.tif',\n",
       " 'APX00000-XX-L2A-VXX-2020-05-15.tif',\n",
       " 'APX00000-XX-L2A-VXX-2020-05-20.tif',\n",
       " 'APX00000-XX-L2A-VXX-2020-05-25.tif',\n",
       " 'APX00000-XX-L2A-VXX-2020-05-30.tif',\n",
       " 'APX00000-XX-L2A-VXX-2020-06-04.tif',\n",
       " 'APX00000-XX-L2A-VXX-2020-06-09.tif',\n",
       " 'APX00000-XX-L2A-VXX-2020-06-14.tif',\n",
       " 'APX00000-XX-L2A-VXX-2020-06-19.tif',\n",
       " 'APX00000-XX-L2A-VXX-2020-06-24.tif',\n",
       " 'APX00000-XX-L2A-VXX-2020-06-29.tif',\n",
       " 'APX00000-XX-L2A-VXX-2020-07-04.tif']"
      ]
     },
     "execution_count": 3,
     "metadata": {},
     "output_type": "execute_result"
    }
   ],
   "source": [
    "files = apd.rasterCaller(userID, mapConfig, sensor, antpodProduct)\n",
    "files"
   ]
  },
  {
   "cell_type": "code",
   "execution_count": 4,
   "metadata": {},
   "outputs": [],
   "source": [
    "meta = apd.openRaster(files, antpodProduct)\n",
    "#numpyListofList = apd.readMultipleDatasetReader(meta)"
   ]
  },
  {
   "cell_type": "code",
   "execution_count": 5,
   "metadata": {},
   "outputs": [
    {
     "data": {
      "text/plain": [
       "['2020-01-01',\n",
       " '2020-01-06',\n",
       " '2020-01-11',\n",
       " '2020-01-16',\n",
       " '2020-01-21',\n",
       " '2020-01-26',\n",
       " '2020-01-31',\n",
       " '2020-02-05',\n",
       " '2020-02-10',\n",
       " '2020-02-15',\n",
       " '2020-02-20',\n",
       " '2020-02-25',\n",
       " '2020-03-01',\n",
       " '2020-03-06',\n",
       " '2020-03-11',\n",
       " '2020-03-16',\n",
       " '2020-03-21',\n",
       " '2020-03-26',\n",
       " '2020-03-31',\n",
       " '2020-04-05',\n",
       " '2020-04-10',\n",
       " '2020-04-15',\n",
       " '2020-04-20',\n",
       " '2020-04-25',\n",
       " '2020-04-30',\n",
       " '2020-05-05',\n",
       " '2020-05-10',\n",
       " '2020-05-15',\n",
       " '2020-05-20',\n",
       " '2020-05-25',\n",
       " '2020-05-30',\n",
       " '2020-06-04',\n",
       " '2020-06-09',\n",
       " '2020-06-14',\n",
       " '2020-06-19',\n",
       " '2020-06-24',\n",
       " '2020-06-29',\n",
       " '2020-07-04']"
      ]
     },
     "execution_count": 5,
     "metadata": {},
     "output_type": "execute_result"
    }
   ],
   "source": [
    "list_dates = apd.extractDates(meta)\n",
    "list_dates"
   ]
  },
  {
   "cell_type": "code",
   "execution_count": 6,
   "metadata": {},
   "outputs": [
    {
     "data": {
      "text/plain": [
       "'2020-01-01'"
      ]
     },
     "execution_count": 6,
     "metadata": {},
     "output_type": "execute_result"
    }
   ],
   "source": [
    "date = list_dates[0]\n",
    "date"
   ]
  },
  {
   "cell_type": "code",
   "execution_count": 7,
   "metadata": {},
   "outputs": [
    {
     "data": {
      "text/plain": [
       "13"
      ]
     },
     "execution_count": 7,
     "metadata": {},
     "output_type": "execute_result"
    }
   ],
   "source": [
    "dataset = meta[date]\n",
    "dataset.count"
   ]
  },
  {
   "cell_type": "code",
   "execution_count": 11,
   "metadata": {},
   "outputs": [
    {
     "data": {
      "text/plain": [
       "<matplotlib.axes._subplots.AxesSubplot at 0x25b72585250>"
      ]
     },
     "execution_count": 11,
     "metadata": {},
     "output_type": "execute_result"
    },
    {
     "data": {
      "image/png": "[encoded data removed]",
      "text/plain": [
       "<Figure size 432x288 with 1 Axes>"
      ]
     },
     "metadata": {
      "needs_background": "light"
     },
     "output_type": "display_data"
    }
   ],
   "source": [
    "geodf = apd.readShapefile(userID)\n",
    "geodf = apd.setGeoDFCRS(geodf, epsg=4326)\n",
    "geodf.plot()"
   ]
  },
  {
   "cell_type": "code",
   "execution_count": null,
   "metadata": {},
   "outputs": [],
   "source": [
    "geodf = apd.fillMeanIndexValues(dataset, geodf, VI2Products)"
   ]
  },
  {
   "cell_type": "code",
   "execution_count": null,
   "metadata": {},
   "outputs": [],
   "source": [
    "for index, row in geodf.iterrows():\n",
    "    geodf['area'] = geodf['geometry'].area\n",
    "geodf"
   ]
  },
  {
   "cell_type": "code",
   "execution_count": null,
   "metadata": {},
   "outputs": [],
   "source": [
    "geodf['area'].head(2)"
   ]
  },
  {
   "cell_type": "code",
   "execution_count": null,
   "metadata": {},
   "outputs": [],
   "source": [
    "geodf.crs"
   ]
  },
  {
   "cell_type": "code",
   "execution_count": null,
   "metadata": {},
   "outputs": [],
   "source": [
    "geodf.plot('meanNDVI', figsize = (13,13), cmap = 'RdYlGn',  legend = True)\n",
    "geodf.boundary.plot(ax=plt.gca(),color='k')\n",
    "plt.tight_layout()"
   ]
  },
  {
   "cell_type": "code",
   "execution_count": null,
   "metadata": {},
   "outputs": [],
   "source": [
    "for date in list_dates:\n",
    "    for prod,values in products.items() :\n",
    "        files = apd.rasterCaller(userID, mapConfig, sensor, prod)\n",
    "        meta = apd.openRaster(files, prod)\n",
    "        numpyListofList = apd.readMultipleDatasetReader(meta)\n",
    "        list_dates = apd.extractDates(meta)\n",
    "        print(\"Acquistion date: \", date)\n",
    "        dataset = meta[date]\n",
    "        geodf = apd.fillMeanIndexValues(dataset, geodf, values)\n",
    "        csvFile = \"APX-\" +\"XX1-\" +  date + \"-MEAN-INDICES.csv\"\n",
    "        geodf.to_csv(csvFile)\n",
    "\n",
    "geodf"
   ]
  }
 ],
 "metadata": {
  "kernelspec": {
   "display_name": "Python 3",
   "language": "python",
   "name": "python3"
  },
  "language_info": {
   "codemirror_mode": {
    "name": "ipython",
    "version": 3
   },
   "file_extension": ".py",
   "mimetype": "text/x-python",
   "name": "python",
   "nbconvert_exporter": "python",
   "pygments_lexer": "ipython3",
   "version": "3.8.3"
  }
 },
 "nbformat": 4,
 "nbformat_minor": 4
}
