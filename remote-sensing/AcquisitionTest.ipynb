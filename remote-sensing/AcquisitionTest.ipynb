{
 "cells": [
  {
   "cell_type": "code",
   "execution_count": 1,
   "metadata": {},
   "outputs": [
    {
     "ename": "ModuleNotFoundError",
     "evalue": "No module named 'apgis'",
     "output_type": "error",
     "traceback": [
      "\u001b[1;31m---------------------------------------------------------------------------\u001b[0m",
      "\u001b[1;31mModuleNotFoundError\u001b[0m                       Traceback (most recent call last)",
      "\u001b[1;32m<ipython-input-1-5744d4a1f881>\u001b[0m in \u001b[0;36m<module>\u001b[1;34m\u001b[0m\n\u001b[0;32m      1\u001b[0m \u001b[1;32mimport\u001b[0m \u001b[0mee\u001b[0m\u001b[1;33m\u001b[0m\u001b[1;33m\u001b[0m\u001b[0m\n\u001b[0;32m      2\u001b[0m \u001b[1;33m\u001b[0m\u001b[0m\n\u001b[1;32m----> 3\u001b[1;33m \u001b[1;32mimport\u001b[0m \u001b[0mapgis\u001b[0m\u001b[1;33m\u001b[0m\u001b[1;33m\u001b[0m\u001b[0m\n\u001b[0m\u001b[0;32m      4\u001b[0m \u001b[1;32mfrom\u001b[0m \u001b[0mapgis\u001b[0m \u001b[1;32mimport\u001b[0m \u001b[0mDate\u001b[0m\u001b[1;33m\u001b[0m\u001b[1;33m\u001b[0m\u001b[0m\n\u001b[0;32m      5\u001b[0m \u001b[1;32mfrom\u001b[0m \u001b[0mapgis\u001b[0m\u001b[1;33m.\u001b[0m\u001b[0mapresource\u001b[0m \u001b[1;32mimport\u001b[0m \u001b[0mResource\u001b[0m \u001b[1;32mas\u001b[0m \u001b[0mResource\u001b[0m\u001b[1;33m\u001b[0m\u001b[1;33m\u001b[0m\u001b[0m\n",
      "\u001b[1;31mModuleNotFoundError\u001b[0m: No module named 'apgis'"
     ]
    }
   ],
   "source": [
    "import ee\n",
    "\n",
    "import apgis\n",
    "from apgis import Date\n",
    "from apgis.apresource import Resource as Resource\n",
    "\n",
    "import geemap\n",
    "Map = geemap.Map(zoom=1)\n",
    "Map.add_basemap(\"SATELLITE\")"
   ]
  },
  {
   "cell_type": "markdown",
   "metadata": {},
   "source": [
    "## Initialize EE and Display list of remote Resources"
   ]
  },
  {
   "cell_type": "code",
   "execution_count": 2,
   "metadata": {},
   "outputs": [
    {
     "name": "stdout",
     "output_type": "stream",
     "text": [
      "1.karayambedu1_L.geojson\n",
      "2.karayambedu2_S.geojson\n",
      "3.karayambedu3_S.geojson\n",
      "4.karayambedu4_P.geojson\n",
      "5.lanka_XXXL.geojson\n",
      "6.mambakkam1_L.geojson\n",
      "7.mettupalayam1_S.geojson\n",
      "8.mettupalayam2_S.geojson\n",
      "9.mettupalayam3_S.geojson\n",
      "10.mettupalayam4_M.geojson\n",
      "11.mettupalayam5_P.geojson\n",
      "12.valparai1_M.geojson\n",
      "13.valparai2_P.geojson\n"
     ]
    }
   ],
   "source": [
    "apgis.eeInitialize()\n",
    "Resource.showAvailable()"
   ]
  },
  {
   "cell_type": "markdown",
   "metadata": {},
   "source": [
    "## Generate Collection and Base Image"
   ]
  },
  {
   "cell_type": "code",
   "execution_count": 40,
   "metadata": {},
   "outputs": [
    {
     "name": "stdout",
     "output_type": "stream",
     "text": [
      "4\n"
     ]
    }
   ],
   "source": [
    "remotefileName = \"mettupalayam4_M\"\n",
    "\n",
    "drange = (Date(\"2020-01-10\"), Date(\"2020-01-30\"))\n",
    "resource = Resource(remotefile=f\"{remotefileName}.geojson\")\n",
    "\n",
    "S2 = apgis.gee.genCollection(sensor=\"L2A\", daterange=drange, geometry=resource.field.eeROI)\n",
    "print(S2.size().getInfo())\n",
    "\n",
    "image = S2.first().clip(resource.field.eeROI.buffer(2000))"
   ]
  },
  {
   "cell_type": "markdown",
   "metadata": {},
   "source": [
    "## Visual Parameters\n"
   ]
  },
  {
   "cell_type": "code",
   "execution_count": 41,
   "metadata": {},
   "outputs": [],
   "source": [
    "S2TC = {\n",
    "    'min': 0, \n",
    "    'max': 255,\n",
    "    'bands': ['TCI_R', 'TCI_G', 'TCI_B']\n",
    "}\n",
    "\n",
    "ndmiVis = {\n",
    "   'min': -1, \n",
    "   'max': 1, \n",
    "   'palette': ['FFFFFF', '513927', '5B5430', '587147', '438F72', '00AAAD', '006666', '004C4C', '000000']\n",
    "}\n",
    "\n",
    "ndviVis = {\n",
    "   'min': 0.0, \n",
    "   'max': 1.0, \n",
    "   'palette': ['FFFFFF', 'CE7E45', 'DF923D', 'F1B555', 'FCD163', '99B718', '74A901', '66A000', '529400', \n",
    "               '3E8601', '207401', '056201', '004C00', '023B01', '012E01', '011D01', '011301']\n",
    "}\n",
    "\n",
    "ndvi7Vis = {\n",
    "    'min': 0.0, \n",
    "    'max': 1.0, \n",
    "    'palette': ['FFFFFF', 'DF923D', 'F1B555', 'FCD163', '74A901', '529400', '207401']\n",
    "}\n",
    "\n",
    "ndmi2Vis = {\n",
    "    'min': 2, \n",
    "    'max': 10, \n",
    "    'palette': [\"ffffff\",\"85baf5\",\"0b74ea\",\"0d41e1\",\"163eb6\",\"1a3174\"]\n",
    "}\n",
    "\n",
    "ndvi2Vis = {\n",
    "    'min': 0, \n",
    "    'max': 10, \n",
    "    'palette': ['FFFFFF', 'CE7E45', 'DF923D', 'F1B555', 'FCD163', '99B718', '74A901', '66A000', '529400', \n",
    "                '3E8601', '207401', '056201', '004C00', '023B01', '012E01', '011D01', '011301']\n",
    "}"
   ]
  },
  {
   "cell_type": "markdown",
   "metadata": {},
   "source": [
    "## Functions"
   ]
  },
  {
   "cell_type": "code",
   "execution_count": 42,
   "metadata": {},
   "outputs": [],
   "source": [
    "def bufferGeo(resource, buffer):\n",
    "    d1 = ee.Geometry.Point(resource.field.eeROI.centroid().coordinates())\n",
    "    d2 = ee.Geometry.Point(ee.List(resource.field.eeROI.coordinates().get(0)).get(0))\n",
    "    bufferVal = d1.distance(d2).add(buffer)\n",
    "    bufferGeo = ee.Geometry.Point(resource.field.centroid).buffer(bufferVal)\n",
    "    return bufferGeo\n",
    "\n",
    "def renderNDMI(ndmi):\n",
    "    ndmiRounded = ndmi.toFloat().multiply(10).toInt()\n",
    "    ndmiFocal = ndmiRounded.toFloat().focal_median(kernelType=\"square\", radius=5)\n",
    "    ndmiRender = apgis.mask.generateRangeMask(image=ndmiFocal, low=2, high=10)\n",
    "    return ndmiRender\n",
    "\n",
    "def renderNDVI(ndvi):\n",
    "    ndviRounded = ndvi.toFloat().multiply(10).toInt()\n",
    "    ndviFocal = ndviRounded.toFloat().focal_median(kernelType=\"square\", radius=5)\n",
    "    ndviRender = apgis.mask.generateRangeMask(image=ndviFocal, low=0, high=10)\n",
    "    return ndviRender\n",
    "\n",
    "def renderVector(renderImage):\n",
    "    render = renderImage.toInt().reduceToVectors(scale=1)\n",
    "    return render\n",
    "\n",
    "def layerCoding(renderImage):\n",
    "    renderFeature = renderVector(renderImage)\n",
    "    renderCoded = renderImage.reduceRegions(collection=renderFeature, reducer=ee.Reducer.mode().setOutputs(['layerID']), scale=1)\n",
    "    return renderCoded\n",
    "\n",
    "def mergeLayerPolygons(fCollection):\n",
    "    layers = [int(float(i)) for i in fCollection.aggregate_histogram(\"layerID\").getInfo().keys()]\n",
    "    \n",
    "    featureList = []\n",
    "    for layer in layers:\n",
    "        filterLayer = ee.Filter.rangeContains(field=\"layerID\", minValue=layer, maxValue=layer)\n",
    "        layerCollection = fCollection.filter(filterLayer)\n",
    "        \n",
    "        layerFeature = layerCollection.union(5).first().set({\"layerID\": layer})\n",
    "        featureList.append(layerFeature)\n",
    "        \n",
    "    return ee.FeatureCollection(featureList)\n",
    "\n",
    "def accumulateRawValue(indexImage, resource):\n",
    "    latlon = ee.Image.pixelLonLat().reproject(indexImage.projection())\n",
    "    coords = latlon.select(['longitude', 'latitude']).reduceRegion(reducer=ee.Reducer.toList(), geometry=resource.field.eeAOI, scale=10)\n",
    "    \n",
    "    lat = ee.List(coords.get('latitude'))\n",
    "    lon = ee.List(coords.get('longitude'))\n",
    "    coordinates = lon.zip(lat)\n",
    "    \n",
    "    def getFeature(latlon):\n",
    "        point = ee.Geometry.Point(latlon)\n",
    "        return ee.Feature(point)\n",
    "    \n",
    "    pointFeatures = ee.FeatureCollection(coordinates.map(getFeature))\n",
    "\n",
    "    for index in indexImage.bandNames().getInfo():\n",
    "        reduceIndexValues = ee.Reducer.first().setOutputs([index])\n",
    "        pointFeatures = indexImage.reduceRegions(collection=pointFeatures, reducer=reduceIndexValues, scale=10)\n",
    "\n",
    "    return pointFeatures\n",
    "\n",
    "def setLatLon(feature):\n",
    "    latlon = feature.geometry().coordinates()\n",
    "    feature = feature.set({\"longitude\": latlon.get(0), \"latitude\": latlon.get(1)})\n",
    "    return feature\n",
    "\n",
    "def setArea(feature):\n",
    "    area = feature.area(5)\n",
    "    feature = feature.set({\"area\": area})\n",
    "    return feature\n",
    "\n",
    "def scoreBuilder(rawData):\n",
    "    filterLowNDVI = ee.Filter.lte(\"NDVI\", 0.4)\n",
    "    lowCol = rawData.filter(filterLowNDVI)\n",
    "    \n",
    "    NDVIscore = lowCol.size().divide(rawData.size()).multiply(100).round()\n",
    "    NDVImean = round(rawData.aggregate_mean(\"NDVI\").getInfo(), 2)\n",
    "    NDMImean = round(rawData.aggregate_mean(\"NDMI\").getInfo(), 2)\n",
    "    \n",
    "    rawData = rawData.set({\n",
    "        \"NDVI Score\": NDVIscore, \n",
    "        \"NDVI Mean\": NDVImean, \n",
    "        \"NDMI Mean\": NDMImean\n",
    "    })\n",
    "    \n",
    "    return rawData\n",
    "\n",
    "def getCleanSZ(ndviLayerCol, resource):\n",
    "    filterSZ = ee.Filter.rangeContains(field=\"layerID\", minValue=0, maxValue=3)\n",
    "    szLayers = ndviLayerCol.filter(filterSZ)\n",
    "    \n",
    "    def setSZLayer(feature):\n",
    "        feature = feature.set({\"layerID\": 1})\n",
    "        return feature\n",
    "\n",
    "    szLayered = szLayers.map(setSZLayer)\n",
    "    \n",
    "    szImage = szLayered.reduceToImage(['layerID'], ee.Reducer.first().setOutputs(['SZ']))\n",
    "    cleanSZ = szImage.reduceToVectors(geometry=resource.field.eeAOI, scale=1) #something fishy here\n",
    "    \n",
    "    return cleanSZ\n",
    "    \n",
    "def areaLayers(bigSZLayers, threshArea):\n",
    "    bigSZFeatures = bigSZLayers.toList(bigSZLayers.size())\n",
    "    \n",
    "    def makeFeatureCollectionList(feature, imageList):\n",
    "        fCollection = ee.FeatureCollection([feature])\n",
    "        image = fCollection.reduceToImage(['label'], ee.Reducer.first().setOutputs(['SZ'])).clip(feature)\n",
    "        imageList = ee.List(imageList).add(image)\n",
    "        return imageList\n",
    "\n",
    "    clusterImageList = bigSZFeatures.iterate(makeFeatureCollectionList, ee.List([]))\n",
    "    return clusterImageList\n",
    "\n",
    "def fixSNIC(feature):\n",
    "    featureOld = ee.Feature(feature)\n",
    "    featureNew = ee.Feature(featureOld.geometry())\n",
    "\n",
    "    mean = ee.Number(featureOld.get(\"mean\"))\n",
    "    layerID = mean.multiply(10).int()\n",
    "    \n",
    "    featureNew = featureNew.set({\"layerID\": layerID, \"meanNDVI\": mean})\n",
    "    return featureNew\n",
    "\n",
    "def splitSZLayers(areaSZ, threshArea):\n",
    "    filterBigArea = ee.Filter.gte(\"area\", threshArea)\n",
    "    filterSmallArea = ee.Filter.lt(\"area\", threshArea)\n",
    "\n",
    "    bigSZ = areaSZ.filter(filterBigArea)\n",
    "    smallSZ = areaSZ.filter(filterSmallArea)\n",
    "\n",
    "    return bigSZ, smallSZ\n",
    "\n",
    "def getClusterFeatureList(imageGeo, fList):\n",
    "    fList = ee.List(fList)\n",
    "    clusters = imageGeo.reduceToVectors(geometry=imageGeo.geometry(), scale=1)\n",
    "    clusters = clusters.toList(clusters.size())\n",
    "    fList = fList.add(clusters)\n",
    "    return fList\n",
    "\n",
    "def makeSZRender(ndviLayerCol, ndvi, resource):\n",
    "    cleanSZ = getCleanSZ(ndviLayerCol, resource)\n",
    "    areaSZ = cleanSZ.map(setArea)\n",
    "    \n",
    "    threshArea = resource.field.eeAOI.area(5).multiply(0.2).round().getInfo()\n",
    "    threshPixel = round(threshArea/100)\n",
    "\n",
    "    bigSZLayers, smallSZLayers = splitSZLayers(areaSZ, threshArea)\n",
    "    \n",
    "    clusterImageList = areaLayers(bigSZLayers, threshArea)\n",
    "    clusterCollection = ee.ImageCollection.fromImages(clusterImageList)\n",
    "    \n",
    "    def applySNIC(clusterImage):\n",
    "        seeds = ee.Algorithms.Image.Segmentation.seedGrid(size=round(threshPixel/4), gridType='hex')\n",
    "        geoClusterImage = ee.Algorithms.Image.Segmentation.SNIC(image=clusterImage, size=round(threshPixel/2), compactness=5, seeds=seeds).select(['clusters']).clip(clusterImage.geometry())\n",
    "        return geoClusterImage\n",
    "    \n",
    "    geoClusters = clusterCollection.map(applySNIC)    \n",
    "    \n",
    "    clusterFeatureList = ee.List(geoClusters.iterate(getClusterFeatureList, ee.List([]))).flatten()\n",
    "    SNICCol = ee.FeatureCollection(clusterFeatureList).merge(smallSZLayers)\n",
    "    SNICCol = ndvi.reduceRegions(collection=SNICCol, reducer=ee.Reducer.mean()).map(fixSNIC)\n",
    "    \n",
    "    return SNICCol"
   ]
  },
  {
   "cell_type": "markdown",
   "metadata": {},
   "source": [
    "## Generate NDVI and NDMI"
   ]
  },
  {
   "cell_type": "code",
   "execution_count": 43,
   "metadata": {},
   "outputs": [],
   "source": [
    "ndvi = apgis.index.generateIndex(image=image, sensor=\"L2A\", index=\"NDVI\").clip(resource.field.eeAOI)\n",
    "ndmi = apgis.index.generateIndex(image=image, sensor=\"L2A\", index=\"NDMI\").clip(bufferGeo(resource, 50))"
   ]
  },
  {
   "cell_type": "markdown",
   "metadata": {},
   "source": [
    "## Generate the Render base images"
   ]
  },
  {
   "cell_type": "code",
   "execution_count": 44,
   "metadata": {},
   "outputs": [],
   "source": [
    "ndviRender = renderNDVI(ndvi)\n",
    "ndmiRender = renderNDMI(ndmi)"
   ]
  },
  {
   "cell_type": "markdown",
   "metadata": {},
   "source": [
    "## Generate Layer Coded Render Vectors"
   ]
  },
  {
   "cell_type": "code",
   "execution_count": 45,
   "metadata": {},
   "outputs": [],
   "source": [
    "ndviLayerRender = layerCoding(ndviRender)\n",
    "ndmiLayerRender = layerCoding(ndmiRender)"
   ]
  },
  {
   "cell_type": "markdown",
   "metadata": {},
   "source": [
    "## Merge Layer Polygons"
   ]
  },
  {
   "cell_type": "code",
   "execution_count": 46,
   "metadata": {},
   "outputs": [
    {
     "name": "stdout",
     "output_type": "stream",
     "text": [
      "NDVI {'1': 1, '2': 1, '3': 1, '4': 2, '5': 1, '6': 1, '7': 1}\n",
      "NDMI {'2': 1, '3': 1, '4': 1, '5': 1, '6': 1}\n"
     ]
    }
   ],
   "source": [
    "ndviLayerCol = mergeLayerPolygons(ndviLayerRender)\n",
    "ndmiLayerCol = mergeLayerPolygons(ndmiLayerRender)\n",
    "\n",
    "# print(\"NDVI\", ndviLayerCol.aggregate_histogram(\"layerID\").getInfo())\n",
    "# print(\"NDMI\", ndmiLayerCol.aggregate_histogram(\"layerID\").getInfo())"
   ]
  },
  {
   "cell_type": "markdown",
   "metadata": {},
   "source": [
    "## Combine Indexes and Accumulate Raw Values"
   ]
  },
  {
   "cell_type": "code",
   "execution_count": 47,
   "metadata": {},
   "outputs": [],
   "source": [
    "indexes = ndvi.addBands(ndmi)\n",
    "rawData = accumulateRawValue(indexes, resource)\n",
    "scoredData = scoreBuilder(rawData)"
   ]
  },
  {
   "cell_type": "markdown",
   "metadata": {},
   "source": [
    "## StressZone Render"
   ]
  },
  {
   "cell_type": "code",
   "execution_count": 48,
   "metadata": {},
   "outputs": [],
   "source": [
    "SZRender = makeSZRender(ndviLayerCol, ndvi, resource)"
   ]
  },
  {
   "cell_type": "markdown",
   "metadata": {},
   "source": [
    "## Export Build\n",
    "## For reference only\n",
    "```\n",
    "exportsReference = {\n",
    "    \"Resource\": resource.geojson.geojson,\n",
    "    \"Raw Data\": rawData,\n",
    "    \"Render NDVI\": ndviLayerCol,\n",
    "    \"Render NDMI\": ndmiLayerCol,\n",
    "    \"Render SZ\": SZRender\n",
    "}\n",
    "```\n",
    "## Export"
   ]
  },
  {
   "cell_type": "code",
   "execution_count": 2,
   "metadata": {},
   "outputs": [
    {
     "ename": "NameError",
     "evalue": "name 'rawData' is not defined",
     "output_type": "error",
     "traceback": [
      "\u001b[1;31m---------------------------------------------------------------------------\u001b[0m",
      "\u001b[1;31mNameError\u001b[0m                                 Traceback (most recent call last)",
      "\u001b[1;32m<ipython-input-2-a9d457ebc62c>\u001b[0m in \u001b[0;36m<module>\u001b[1;34m\u001b[0m\n\u001b[0;32m      1\u001b[0m exportList = {\n\u001b[1;32m----> 2\u001b[1;33m     \u001b[1;34m\"RawData\"\u001b[0m\u001b[1;33m:\u001b[0m \u001b[0mrawData\u001b[0m\u001b[1;33m,\u001b[0m\u001b[1;33m\u001b[0m\u001b[1;33m\u001b[0m\u001b[0m\n\u001b[0m\u001b[0;32m      3\u001b[0m     \u001b[1;34m\"NDVIRender\"\u001b[0m\u001b[1;33m:\u001b[0m \u001b[0mndviLayerCol\u001b[0m\u001b[1;33m,\u001b[0m\u001b[1;33m\u001b[0m\u001b[1;33m\u001b[0m\u001b[0m\n\u001b[0;32m      4\u001b[0m     \u001b[1;34m\"NDMIRender\"\u001b[0m\u001b[1;33m:\u001b[0m \u001b[0mndmiLayerCol\u001b[0m\u001b[1;33m,\u001b[0m\u001b[1;33m\u001b[0m\u001b[1;33m\u001b[0m\u001b[0m\n\u001b[0;32m      5\u001b[0m     \u001b[1;34m\"SZRender\"\u001b[0m\u001b[1;33m:\u001b[0m \u001b[0mSZRender\u001b[0m\u001b[1;33m\u001b[0m\u001b[1;33m\u001b[0m\u001b[0m\n",
      "\u001b[1;31mNameError\u001b[0m: name 'rawData' is not defined"
     ]
    }
   ],
   "source": [
    "exportList = {\n",
    "    \"RawData\": rawData, \n",
    "    \"NDVIRender\": ndviLayerCol, \n",
    "    \"NDMIRender\": ndmiLayerCol, \n",
    "    \"SZRender\": SZRender\n",
    "}"
   ]
  },
  {
   "cell_type": "code",
   "execution_count": 1,
   "metadata": {},
   "outputs": [
    {
     "ename": "NameError",
     "evalue": "name 'exportList' is not defined",
     "output_type": "error",
     "traceback": [
      "\u001b[1;31m---------------------------------------------------------------------------\u001b[0m",
      "\u001b[1;31mNameError\u001b[0m                                 Traceback (most recent call last)",
      "\u001b[1;32m<ipython-input-1-aeeaf2178510>\u001b[0m in \u001b[0;36m<module>\u001b[1;34m\u001b[0m\n\u001b[0;32m      1\u001b[0m \u001b[0mtasklist\u001b[0m \u001b[1;33m=\u001b[0m \u001b[1;33m[\u001b[0m\u001b[1;33m]\u001b[0m\u001b[1;33m\u001b[0m\u001b[1;33m\u001b[0m\u001b[0m\n\u001b[1;32m----> 2\u001b[1;33m \u001b[1;32mfor\u001b[0m \u001b[0mexportName\u001b[0m\u001b[1;33m,\u001b[0m \u001b[0mexportObj\u001b[0m \u001b[1;32min\u001b[0m \u001b[0mexportList\u001b[0m\u001b[1;33m.\u001b[0m\u001b[0mitems\u001b[0m\u001b[1;33m(\u001b[0m\u001b[1;33m)\u001b[0m\u001b[1;33m:\u001b[0m\u001b[1;33m\u001b[0m\u001b[1;33m\u001b[0m\u001b[0m\n\u001b[0m\u001b[0;32m      3\u001b[0m     \u001b[0mfilePrefix\u001b[0m \u001b[1;33m=\u001b[0m \u001b[1;34mf\"{remotefileName}-2-TestExportAcq\"\u001b[0m\u001b[1;33m\u001b[0m\u001b[1;33m\u001b[0m\u001b[0m\n\u001b[0;32m      4\u001b[0m     task = ee.batch.Export.table.toCloudStorage(collection= exportObj, \n\u001b[0;32m      5\u001b[0m                                                 \u001b[0mbucket\u001b[0m\u001b[1;33m=\u001b[0m\u001b[1;34m\"antpod-apgis-exports\"\u001b[0m\u001b[1;33m,\u001b[0m\u001b[1;33m\u001b[0m\u001b[1;33m\u001b[0m\u001b[0m\n",
      "\u001b[1;31mNameError\u001b[0m: name 'exportList' is not defined"
     ]
    }
   ],
   "source": [
    "tasklist = []\n",
    "for exportName, exportObj in exportList.items():\n",
    "    filePrefix = f\"{remotefileName}-2-TestExportAcq\"\n",
    "    task = ee.batch.Export.table.toCloudStorage(collection= exportObj, \n",
    "                                                bucket=\"antpod-apgis-exports\", \n",
    "                                                fileNamePrefix=f\"{filePrefix}-{exportName}\",\n",
    "                                                fileFormat= 'GeoJSON')\n",
    "    tasklist.append(task)"
   ]
  },
  {
   "cell_type": "code",
   "execution_count": 51,
   "metadata": {},
   "outputs": [],
   "source": [
    "for task in tasklist:\n",
    "    task.start()"
   ]
  },
  {
   "cell_type": "code",
   "execution_count": 92,
   "metadata": {},
   "outputs": [
    {
     "data": {
      "text/plain": [
       "{'state': 'COMPLETED',\n",
       " 'description': 'myExportTableTask',\n",
       " 'creation_timestamp_ms': 1599583962253,\n",
       " 'update_timestamp_ms': 1599584034338,\n",
       " 'start_timestamp_ms': 1599584026889,\n",
       " 'task_type': 'EXPORT_FEATURES',\n",
       " 'destination_uris': ['https://console.developers.google.com/storage/browser/antpod-apgis-exports/'],\n",
       " 'id': 'OGHJC44XJ4NVL4JJRSLMQ6D4',\n",
       " 'name': 'projects/earthengine-legacy/operations/OGHJC44XJ4NVL4JJRSLMQ6D4'}"
      ]
     },
     "execution_count": 92,
     "metadata": {},
     "output_type": "execute_result"
    }
   ],
   "source": [
    "tasklist[3].status()"
   ]
  },
  {
   "cell_type": "code",
   "execution_count": null,
   "metadata": {},
   "outputs": [],
   "source": []
  },
  {
   "cell_type": "code",
   "execution_count": null,
   "metadata": {},
   "outputs": [],
   "source": []
  }
 ],
 "metadata": {
  "kernelspec": {
   "display_name": "Python 3",
   "language": "python",
   "name": "python3"
  },
  "language_info": {
   "codemirror_mode": {
    "name": "ipython",
    "version": 3
   },
   "file_extension": ".py",
   "mimetype": "text/x-python",
   "name": "python",
   "nbconvert_exporter": "python",
   "pygments_lexer": "ipython3",
   "version": "3.8.4"
  }
 },
 "nbformat": 4,
 "nbformat_minor": 4
}
