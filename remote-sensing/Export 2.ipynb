{
 "cells": [
  {
   "cell_type": "code",
   "execution_count": 1,
   "metadata": {},
   "outputs": [],
   "source": [
    "import ee\n",
    "import sys\n",
    "sys.path.insert(1,'s:/alpha/apGIS-0.4.0/')\n",
    "from apgis import *\n",
    "from apgis.gisgeodf import *\n",
    "from apgis.apresource import *\n",
    "from apgis.gisgeodf import *\n",
    "from apgis.gisraster import *\n",
    "from apgis.geespatial import *\n",
    "from apgis.apjsonio import *\n",
    "import contextily as ctx\n",
    "from apgis.apresource import *\n",
    "import matplotlib.pyplot as plt\n",
    "eeInitialize(internalConfig=True)"
   ]
  },
  {
   "cell_type": "code",
   "execution_count": 2,
   "metadata": {
    "scrolled": true
   },
   "outputs": [
    {
     "data": {
      "text/html": [
       "<div>\n",
       "<style scoped>\n",
       "    .dataframe tbody tr th:only-of-type {\n",
       "        vertical-align: middle;\n",
       "    }\n",
       "\n",
       "    .dataframe tbody tr th {\n",
       "        vertical-align: top;\n",
       "    }\n",
       "\n",
       "    .dataframe thead th {\n",
       "        text-align: right;\n",
       "    }\n",
       "</style>\n",
       "<table border=\"1\" class=\"dataframe\">\n",
       "  <thead>\n",
       "    <tr style=\"text-align: right;\">\n",
       "      <th></th>\n",
       "      <th>geometry</th>\n",
       "    </tr>\n",
       "  </thead>\n",
       "  <tbody>\n",
       "    <tr>\n",
       "      <th>0</th>\n",
       "      <td>POLYGON ((80.05419 12.75933, 80.05419 12.75925...</td>\n",
       "    </tr>\n",
       "    <tr>\n",
       "      <th>1</th>\n",
       "      <td>POLYGON ((80.05415 12.75925, 80.05419 12.75925...</td>\n",
       "    </tr>\n",
       "    <tr>\n",
       "      <th>2</th>\n",
       "      <td>POLYGON ((80.05403 12.75895, 80.05419 12.75895...</td>\n",
       "    </tr>\n",
       "    <tr>\n",
       "      <th>3</th>\n",
       "      <td>POLYGON ((80.05391 12.75865, 80.05419 12.75865...</td>\n",
       "    </tr>\n",
       "    <tr>\n",
       "      <th>4</th>\n",
       "      <td>POLYGON ((80.05449 12.75982, 80.05449 12.75955...</td>\n",
       "    </tr>\n",
       "    <tr>\n",
       "      <th>...</th>\n",
       "      <td>...</td>\n",
       "    </tr>\n",
       "    <tr>\n",
       "      <th>174</th>\n",
       "      <td>POLYGON ((80.06131 12.75955, 80.06109 12.75955...</td>\n",
       "    </tr>\n",
       "    <tr>\n",
       "      <th>175</th>\n",
       "      <td>POLYGON ((80.06109 12.75955, 80.06131 12.75955...</td>\n",
       "    </tr>\n",
       "    <tr>\n",
       "      <th>176</th>\n",
       "      <td>POLYGON ((80.06109 12.75925, 80.06125 12.75925...</td>\n",
       "    </tr>\n",
       "    <tr>\n",
       "      <th>177</th>\n",
       "      <td>POLYGON ((80.06109 12.75895, 80.06119 12.75895...</td>\n",
       "    </tr>\n",
       "    <tr>\n",
       "      <th>178</th>\n",
       "      <td>POLYGON ((80.06109 12.75865, 80.06113 12.75865...</td>\n",
       "    </tr>\n",
       "  </tbody>\n",
       "</table>\n",
       "<p>179 rows × 1 columns</p>\n",
       "</div>"
      ],
      "text/plain": [
       "                                              geometry\n",
       "0    POLYGON ((80.05419 12.75933, 80.05419 12.75925...\n",
       "1    POLYGON ((80.05415 12.75925, 80.05419 12.75925...\n",
       "2    POLYGON ((80.05403 12.75895, 80.05419 12.75895...\n",
       "3    POLYGON ((80.05391 12.75865, 80.05419 12.75865...\n",
       "4    POLYGON ((80.05449 12.75982, 80.05449 12.75955...\n",
       "..                                                 ...\n",
       "174  POLYGON ((80.06131 12.75955, 80.06109 12.75955...\n",
       "175  POLYGON ((80.06109 12.75955, 80.06131 12.75955...\n",
       "176  POLYGON ((80.06109 12.75925, 80.06125 12.75925...\n",
       "177  POLYGON ((80.06109 12.75895, 80.06119 12.75895...\n",
       "178  POLYGON ((80.06109 12.75865, 80.06113 12.75865...\n",
       "\n",
       "[179 rows x 1 columns]"
      ]
     },
     "execution_count": 2,
     "metadata": {},
     "output_type": "execute_result"
    }
   ],
   "source": [
    "farm1 = makeGridDF(\"farm1.geojson\", \"epsg:4326\", spacing=0.0003)\n",
    "farm1 = dropColumns(farm1, ['antpod', 'request'])\n",
    "farm1"
   ]
  },
  {
   "cell_type": "code",
   "execution_count": 16,
   "metadata": {},
   "outputs": [],
   "source": [
    "farm2 = farm1.copy()"
   ]
  },
  {
   "cell_type": "code",
   "execution_count": 17,
   "metadata": {},
   "outputs": [],
   "source": [
    "x1 = gpd.GeoDataFrame()\n",
    "x2 = gpd.GeoDataFrame()"
   ]
  },
  {
   "cell_type": "code",
   "execution_count": 18,
   "metadata": {},
   "outputs": [],
   "source": [
    "r1 = Raster(\"S:\\\\alpha\\\\remote-sensing\\\\imagery\\\\exports\\\\AP-demo000-1494dfd6f29afbc31ddf4e35aeb61c83-930-L2A-NDVI-2020-08-08.tif\")\n",
    "r2 = Raster(\"S:\\\\alpha\\\\remote-sensing\\\\imagery\\\\exports\\\\AP-demo000-1494dfd6f29afbc31ddf4e35aeb61c83-930-L2A-NDVI-2020-08-13.tif\")"
   ]
  },
  {
   "cell_type": "code",
   "execution_count": 23,
   "metadata": {},
   "outputs": [
    {
     "data": {
      "text/html": [
       "<div>\n",
       "<style scoped>\n",
       "    .dataframe tbody tr th:only-of-type {\n",
       "        vertical-align: middle;\n",
       "    }\n",
       "\n",
       "    .dataframe tbody tr th {\n",
       "        vertical-align: top;\n",
       "    }\n",
       "\n",
       "    .dataframe thead th {\n",
       "        text-align: right;\n",
       "    }\n",
       "</style>\n",
       "<table border=\"1\" class=\"dataframe\">\n",
       "  <thead>\n",
       "    <tr style=\"text-align: right;\">\n",
       "      <th></th>\n",
       "      <th>meanNDVI</th>\n",
       "      <th>geometry</th>\n",
       "    </tr>\n",
       "  </thead>\n",
       "  <tbody>\n",
       "    <tr>\n",
       "      <th>0</th>\n",
       "      <td>NaN</td>\n",
       "      <td>POLYGON ((80.05419 12.75933, 80.05419 12.75925...</td>\n",
       "    </tr>\n",
       "    <tr>\n",
       "      <th>1</th>\n",
       "      <td>0.485871</td>\n",
       "      <td>POLYGON ((80.05415 12.75925, 80.05419 12.75925...</td>\n",
       "    </tr>\n",
       "    <tr>\n",
       "      <th>2</th>\n",
       "      <td>0.512641</td>\n",
       "      <td>POLYGON ((80.05403 12.75895, 80.05419 12.75895...</td>\n",
       "    </tr>\n",
       "    <tr>\n",
       "      <th>3</th>\n",
       "      <td>NaN</td>\n",
       "      <td>POLYGON ((80.05391 12.75865, 80.05419 12.75865...</td>\n",
       "    </tr>\n",
       "    <tr>\n",
       "      <th>4</th>\n",
       "      <td>0.493594</td>\n",
       "      <td>POLYGON ((80.05449 12.75982, 80.05449 12.75955...</td>\n",
       "    </tr>\n",
       "    <tr>\n",
       "      <th>...</th>\n",
       "      <td>...</td>\n",
       "      <td>...</td>\n",
       "    </tr>\n",
       "    <tr>\n",
       "      <th>174</th>\n",
       "      <td>0.544133</td>\n",
       "      <td>POLYGON ((80.06131 12.75955, 80.06109 12.75955...</td>\n",
       "    </tr>\n",
       "    <tr>\n",
       "      <th>175</th>\n",
       "      <td>0.497769</td>\n",
       "      <td>POLYGON ((80.06109 12.75955, 80.06131 12.75955...</td>\n",
       "    </tr>\n",
       "    <tr>\n",
       "      <th>176</th>\n",
       "      <td>0.480368</td>\n",
       "      <td>POLYGON ((80.06109 12.75925, 80.06125 12.75925...</td>\n",
       "    </tr>\n",
       "    <tr>\n",
       "      <th>177</th>\n",
       "      <td>0.462307</td>\n",
       "      <td>POLYGON ((80.06109 12.75895, 80.06119 12.75895...</td>\n",
       "    </tr>\n",
       "    <tr>\n",
       "      <th>178</th>\n",
       "      <td>0.484296</td>\n",
       "      <td>POLYGON ((80.06109 12.75865, 80.06113 12.75865...</td>\n",
       "    </tr>\n",
       "  </tbody>\n",
       "</table>\n",
       "<p>179 rows × 2 columns</p>\n",
       "</div>"
      ],
      "text/plain": [
       "     meanNDVI                                           geometry\n",
       "0         NaN  POLYGON ((80.05419 12.75933, 80.05419 12.75925...\n",
       "1    0.485871  POLYGON ((80.05415 12.75925, 80.05419 12.75925...\n",
       "2    0.512641  POLYGON ((80.05403 12.75895, 80.05419 12.75895...\n",
       "3         NaN  POLYGON ((80.05391 12.75865, 80.05419 12.75865...\n",
       "4    0.493594  POLYGON ((80.05449 12.75982, 80.05449 12.75955...\n",
       "..        ...                                                ...\n",
       "174  0.544133  POLYGON ((80.06131 12.75955, 80.06109 12.75955...\n",
       "175  0.497769  POLYGON ((80.06109 12.75955, 80.06131 12.75955...\n",
       "176  0.480368  POLYGON ((80.06109 12.75925, 80.06125 12.75925...\n",
       "177  0.462307  POLYGON ((80.06109 12.75895, 80.06119 12.75895...\n",
       "178  0.484296  POLYGON ((80.06109 12.75865, 80.06113 12.75865...\n",
       "\n",
       "[179 rows x 2 columns]"
      ]
     },
     "execution_count": 23,
     "metadata": {},
     "output_type": "execute_result"
    }
   ],
   "source": [
    "x1 = r1.assignMean(farm1)\n",
    "x1"
   ]
  },
  {
   "cell_type": "code",
   "execution_count": 24,
   "metadata": {
    "scrolled": false
   },
   "outputs": [
    {
     "data": {
      "text/html": [
       "<div>\n",
       "<style scoped>\n",
       "    .dataframe tbody tr th:only-of-type {\n",
       "        vertical-align: middle;\n",
       "    }\n",
       "\n",
       "    .dataframe tbody tr th {\n",
       "        vertical-align: top;\n",
       "    }\n",
       "\n",
       "    .dataframe thead th {\n",
       "        text-align: right;\n",
       "    }\n",
       "</style>\n",
       "<table border=\"1\" class=\"dataframe\">\n",
       "  <thead>\n",
       "    <tr style=\"text-align: right;\">\n",
       "      <th></th>\n",
       "      <th>meanNDVI</th>\n",
       "      <th>geometry</th>\n",
       "    </tr>\n",
       "  </thead>\n",
       "  <tbody>\n",
       "    <tr>\n",
       "      <th>0</th>\n",
       "      <td>NaN</td>\n",
       "      <td>POLYGON ((80.05419 12.75933, 80.05419 12.75925...</td>\n",
       "    </tr>\n",
       "    <tr>\n",
       "      <th>1</th>\n",
       "      <td>0.080704</td>\n",
       "      <td>POLYGON ((80.05415 12.75925, 80.05419 12.75925...</td>\n",
       "    </tr>\n",
       "    <tr>\n",
       "      <th>2</th>\n",
       "      <td>0.082922</td>\n",
       "      <td>POLYGON ((80.05403 12.75895, 80.05419 12.75895...</td>\n",
       "    </tr>\n",
       "    <tr>\n",
       "      <th>3</th>\n",
       "      <td>NaN</td>\n",
       "      <td>POLYGON ((80.05391 12.75865, 80.05419 12.75865...</td>\n",
       "    </tr>\n",
       "    <tr>\n",
       "      <th>4</th>\n",
       "      <td>0.083329</td>\n",
       "      <td>POLYGON ((80.05449 12.75982, 80.05449 12.75955...</td>\n",
       "    </tr>\n",
       "    <tr>\n",
       "      <th>...</th>\n",
       "      <td>...</td>\n",
       "      <td>...</td>\n",
       "    </tr>\n",
       "    <tr>\n",
       "      <th>174</th>\n",
       "      <td>0.082982</td>\n",
       "      <td>POLYGON ((80.06131 12.75955, 80.06109 12.75955...</td>\n",
       "    </tr>\n",
       "    <tr>\n",
       "      <th>175</th>\n",
       "      <td>0.081602</td>\n",
       "      <td>POLYGON ((80.06109 12.75955, 80.06131 12.75955...</td>\n",
       "    </tr>\n",
       "    <tr>\n",
       "      <th>176</th>\n",
       "      <td>0.083857</td>\n",
       "      <td>POLYGON ((80.06109 12.75925, 80.06125 12.75925...</td>\n",
       "    </tr>\n",
       "    <tr>\n",
       "      <th>177</th>\n",
       "      <td>0.083362</td>\n",
       "      <td>POLYGON ((80.06109 12.75895, 80.06119 12.75895...</td>\n",
       "    </tr>\n",
       "    <tr>\n",
       "      <th>178</th>\n",
       "      <td>0.077261</td>\n",
       "      <td>POLYGON ((80.06109 12.75865, 80.06113 12.75865...</td>\n",
       "    </tr>\n",
       "  </tbody>\n",
       "</table>\n",
       "<p>179 rows × 2 columns</p>\n",
       "</div>"
      ],
      "text/plain": [
       "     meanNDVI                                           geometry\n",
       "0         NaN  POLYGON ((80.05419 12.75933, 80.05419 12.75925...\n",
       "1    0.080704  POLYGON ((80.05415 12.75925, 80.05419 12.75925...\n",
       "2    0.082922  POLYGON ((80.05403 12.75895, 80.05419 12.75895...\n",
       "3         NaN  POLYGON ((80.05391 12.75865, 80.05419 12.75865...\n",
       "4    0.083329  POLYGON ((80.05449 12.75982, 80.05449 12.75955...\n",
       "..        ...                                                ...\n",
       "174  0.082982  POLYGON ((80.06131 12.75955, 80.06109 12.75955...\n",
       "175  0.081602  POLYGON ((80.06109 12.75955, 80.06131 12.75955...\n",
       "176  0.083857  POLYGON ((80.06109 12.75925, 80.06125 12.75925...\n",
       "177  0.083362  POLYGON ((80.06109 12.75895, 80.06119 12.75895...\n",
       "178  0.077261  POLYGON ((80.06109 12.75865, 80.06113 12.75865...\n",
       "\n",
       "[179 rows x 2 columns]"
      ]
     },
     "execution_count": 24,
     "metadata": {},
     "output_type": "execute_result"
    }
   ],
   "source": [
    "x2 = r2.assignMean(farm2)\n",
    "x2"
   ]
  },
  {
   "cell_type": "code",
   "execution_count": 25,
   "metadata": {},
   "outputs": [
    {
     "data": {
      "text/html": [
       "<div>\n",
       "<style scoped>\n",
       "    .dataframe tbody tr th:only-of-type {\n",
       "        vertical-align: middle;\n",
       "    }\n",
       "\n",
       "    .dataframe tbody tr th {\n",
       "        vertical-align: top;\n",
       "    }\n",
       "\n",
       "    .dataframe thead th {\n",
       "        text-align: right;\n",
       "    }\n",
       "</style>\n",
       "<table border=\"1\" class=\"dataframe\">\n",
       "  <thead>\n",
       "    <tr style=\"text-align: right;\">\n",
       "      <th></th>\n",
       "      <th>meanNDVI</th>\n",
       "      <th>geometry</th>\n",
       "    </tr>\n",
       "  </thead>\n",
       "  <tbody>\n",
       "    <tr>\n",
       "      <th>0</th>\n",
       "      <td>NaN</td>\n",
       "      <td>POLYGON ((80.05419 12.75933, 80.05419 12.75925...</td>\n",
       "    </tr>\n",
       "    <tr>\n",
       "      <th>1</th>\n",
       "      <td>0.485871</td>\n",
       "      <td>POLYGON ((80.05415 12.75925, 80.05419 12.75925...</td>\n",
       "    </tr>\n",
       "    <tr>\n",
       "      <th>2</th>\n",
       "      <td>0.512641</td>\n",
       "      <td>POLYGON ((80.05403 12.75895, 80.05419 12.75895...</td>\n",
       "    </tr>\n",
       "    <tr>\n",
       "      <th>3</th>\n",
       "      <td>NaN</td>\n",
       "      <td>POLYGON ((80.05391 12.75865, 80.05419 12.75865...</td>\n",
       "    </tr>\n",
       "    <tr>\n",
       "      <th>4</th>\n",
       "      <td>0.493594</td>\n",
       "      <td>POLYGON ((80.05449 12.75982, 80.05449 12.75955...</td>\n",
       "    </tr>\n",
       "    <tr>\n",
       "      <th>...</th>\n",
       "      <td>...</td>\n",
       "      <td>...</td>\n",
       "    </tr>\n",
       "    <tr>\n",
       "      <th>174</th>\n",
       "      <td>0.544133</td>\n",
       "      <td>POLYGON ((80.06131 12.75955, 80.06109 12.75955...</td>\n",
       "    </tr>\n",
       "    <tr>\n",
       "      <th>175</th>\n",
       "      <td>0.497769</td>\n",
       "      <td>POLYGON ((80.06109 12.75955, 80.06131 12.75955...</td>\n",
       "    </tr>\n",
       "    <tr>\n",
       "      <th>176</th>\n",
       "      <td>0.480368</td>\n",
       "      <td>POLYGON ((80.06109 12.75925, 80.06125 12.75925...</td>\n",
       "    </tr>\n",
       "    <tr>\n",
       "      <th>177</th>\n",
       "      <td>0.462307</td>\n",
       "      <td>POLYGON ((80.06109 12.75895, 80.06119 12.75895...</td>\n",
       "    </tr>\n",
       "    <tr>\n",
       "      <th>178</th>\n",
       "      <td>0.484296</td>\n",
       "      <td>POLYGON ((80.06109 12.75865, 80.06113 12.75865...</td>\n",
       "    </tr>\n",
       "  </tbody>\n",
       "</table>\n",
       "<p>179 rows × 2 columns</p>\n",
       "</div>"
      ],
      "text/plain": [
       "     meanNDVI                                           geometry\n",
       "0         NaN  POLYGON ((80.05419 12.75933, 80.05419 12.75925...\n",
       "1    0.485871  POLYGON ((80.05415 12.75925, 80.05419 12.75925...\n",
       "2    0.512641  POLYGON ((80.05403 12.75895, 80.05419 12.75895...\n",
       "3         NaN  POLYGON ((80.05391 12.75865, 80.05419 12.75865...\n",
       "4    0.493594  POLYGON ((80.05449 12.75982, 80.05449 12.75955...\n",
       "..        ...                                                ...\n",
       "174  0.544133  POLYGON ((80.06131 12.75955, 80.06109 12.75955...\n",
       "175  0.497769  POLYGON ((80.06109 12.75955, 80.06131 12.75955...\n",
       "176  0.480368  POLYGON ((80.06109 12.75925, 80.06125 12.75925...\n",
       "177  0.462307  POLYGON ((80.06109 12.75895, 80.06119 12.75895...\n",
       "178  0.484296  POLYGON ((80.06109 12.75865, 80.06113 12.75865...\n",
       "\n",
       "[179 rows x 2 columns]"
      ]
     },
     "execution_count": 25,
     "metadata": {},
     "output_type": "execute_result"
    }
   ],
   "source": [
    "x1"
   ]
  },
  {
   "cell_type": "code",
   "execution_count": 26,
   "metadata": {},
   "outputs": [
    {
     "data": {
      "text/plain": [
       "<matplotlib.axes._subplots.AxesSubplot at 0x1deccea23d0>"
      ]
     },
     "execution_count": 26,
     "metadata": {},
     "output_type": "execute_result"
    },
    {
     "data": {
      "image/png": "[encoded data removed]",
      "text/plain": [
       "<Figure size 720x720 with 2 Axes>"
      ]
     },
     "metadata": {
      "needs_background": "light"
     },
     "output_type": "display_data"
    },
    {
     "data": {
      "image/png": "[encoded data removed]",
      "text/plain": [
       "<Figure size 720x720 with 2 Axes>"
      ]
     },
     "metadata": {
      "needs_background": "light"
     },
     "output_type": "display_data"
    }
   ],
   "source": [
    "x1.plot('meanNDVI', figsize =(10,10), cmap = 'RdYlGn', legend=True, vmin=-1, vmax=1)\n",
    "x2.plot('meanNDVI', figsize =(10,10), cmap = 'RdYlGn', legend=True, vmin=-1, vmax=1)"
   ]
  }
 ],
 "metadata": {
  "kernelspec": {
   "display_name": "Python 3",
   "language": "python",
   "name": "python3"
  },
  "language_info": {
   "codemirror_mode": {
    "name": "ipython",
    "version": 3
   },
   "file_extension": ".py",
   "mimetype": "text/x-python",
   "name": "python",
   "nbconvert_exporter": "python",
   "pygments_lexer": "ipython3",
   "version": "3.8.4"
  }
 },
 "nbformat": 4,
 "nbformat_minor": 4
}
