{
 "cells": [
  {
   "cell_type": "code",
   "execution_count": 1,
   "metadata": {},
   "outputs": [],
   "source": [
    "import ee\n",
    "import sys\n",
    "sys.path.insert(1,'w:/antpod/alpha/apGIS-0.4.0/')\n",
    "from apgis import *\n",
    "from apgis.gisgeodf import *\n",
    "\n",
    "from apgis.gisgeodf import *\n",
    "from apgis.gisraster import *\n",
    "from apgis.geespatial import *\n",
    "import contextily as ctx\n",
    "from apgis.apresource import *\n",
    "import matplotlib.pyplot as plt\n",
    "plt.style.use('seaborn-deep')\n",
    "eeInitialize(internalConfig=True)"
   ]
  },
  {
   "cell_type": "code",
   "execution_count": 2,
   "metadata": {},
   "outputs": [],
   "source": [
    "geo20 = apjsonio.geojsonRead(\"acre20.geojson\")"
   ]
  },
  {
   "cell_type": "code",
   "execution_count": 3,
   "metadata": {},
   "outputs": [],
   "source": [
    "r23ndvi = Raster(\"W:\\\\antpod\\\\testprk\\\\Batch Export\\\\AP-demo000-fb8459fb51896de9bb2c1a4c8b44566d-104-L2A-NDVI-2020-08-23.tif\")\n",
    "r23ndwi = Raster(\"W:\\\\antpod\\\\testprk\\\\Batch Export\\\\AP-demo000-fb8459fb51896de9bb2c1a4c8b44566d-104-L2A-NDWI-2020-08-23.tif\")\n",
    "r28ndvi = Raster(\"W:\\\\antpod\\\\testprk\\\\Batch Export\\\\AP-demo000-fb8459fb51896de9bb2c1a4c8b44566d-104-L2A-NDVI-2020-08-28.tif\")\n",
    "r28ndwi = Raster(\"W:\\\\antpod\\\\testprk\\\\Batch Export\\\\AP-demo000-fb8459fb51896de9bb2c1a4c8b44566d-104-L2A-NDWI-2020-08-28.tif\")"
   ]
  },
  {
   "cell_type": "code",
   "execution_count": 4,
   "metadata": {},
   "outputs": [
    {
     "ename": "NameError",
     "evalue": "name 'acre20' is not defined",
     "output_type": "error",
     "traceback": [
      "\u001b[1;31m---------------------------------------------------------------------------\u001b[0m",
      "\u001b[1;31mNameError\u001b[0m                                 Traceback (most recent call last)",
      "\u001b[1;32m<ipython-input-4-570f7b924fb8>\u001b[0m in \u001b[0;36m<module>\u001b[1;34m\u001b[0m\n\u001b[1;32m----> 1\u001b[1;33m \u001b[0maug23ndvi\u001b[0m \u001b[1;33m=\u001b[0m \u001b[0mr23ndvi\u001b[0m\u001b[1;33m.\u001b[0m\u001b[0massignMean\u001b[0m\u001b[1;33m(\u001b[0m\u001b[0macre20\u001b[0m\u001b[1;33m)\u001b[0m\u001b[1;33m\u001b[0m\u001b[1;33m\u001b[0m\u001b[0m\n\u001b[0m\u001b[0;32m      2\u001b[0m \u001b[0maug23ndwi\u001b[0m \u001b[1;33m=\u001b[0m \u001b[0mr23ndwi\u001b[0m\u001b[1;33m.\u001b[0m\u001b[0massignMean\u001b[0m\u001b[1;33m(\u001b[0m\u001b[0macre20\u001b[0m\u001b[1;33m)\u001b[0m\u001b[1;33m\u001b[0m\u001b[1;33m\u001b[0m\u001b[0m\n\u001b[0;32m      3\u001b[0m \u001b[0maug28ndvi\u001b[0m \u001b[1;33m=\u001b[0m \u001b[0mr28ndvi\u001b[0m\u001b[1;33m.\u001b[0m\u001b[0massignMean\u001b[0m\u001b[1;33m(\u001b[0m\u001b[0macre20\u001b[0m\u001b[1;33m)\u001b[0m\u001b[1;33m\u001b[0m\u001b[1;33m\u001b[0m\u001b[0m\n\u001b[0;32m      4\u001b[0m \u001b[0maug28ndwi\u001b[0m \u001b[1;33m=\u001b[0m \u001b[0mr28ndwi\u001b[0m\u001b[1;33m.\u001b[0m\u001b[0massignMean\u001b[0m\u001b[1;33m(\u001b[0m\u001b[0macre20\u001b[0m\u001b[1;33m)\u001b[0m\u001b[1;33m\u001b[0m\u001b[1;33m\u001b[0m\u001b[0m\n",
      "\u001b[1;31mNameError\u001b[0m: name 'acre20' is not defined"
     ]
    }
   ],
   "source": [
    "aug23ndvi = r23ndvi.assignMean(acre20)\n",
    "aug23ndwi = r23ndwi.assignMean(acre20)\n",
    "aug28ndvi = r28ndvi.assignMean(acre20)\n",
    "aug28ndwi = r28ndwi.assignMean(acre20)"
   ]
  }
 ],
 "metadata": {
  "kernelspec": {
   "display_name": "Python 3",
   "language": "python",
   "name": "python3"
  },
  "language_info": {
   "codemirror_mode": {
    "name": "ipython",
    "version": 3
   },
   "file_extension": ".py",
   "mimetype": "text/x-python",
   "name": "python",
   "nbconvert_exporter": "python",
   "pygments_lexer": "ipython3",
   "version": "3.8.5"
  }
 },
 "nbformat": 4,
 "nbformat_minor": 4
}
