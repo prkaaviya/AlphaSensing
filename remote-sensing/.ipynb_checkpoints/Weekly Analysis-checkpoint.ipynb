{
 "cells": [
  {
   "cell_type": "code",
   "execution_count": null,
   "metadata": {},
   "outputs": [],
   "source": [
    "import ee\n",
    "import sys\n",
    "sys.path.insert(1,'s:/alpha/apGIS-0.4.0/')\n",
    "from apgis import *\n",
    "from apgis.gisgeodf import *\n",
    "from apgis.gisgeodf import *\n",
    "from apgis.gisraster import *\n",
    "from apgis.geespatial import *\n",
    "import contextily as ctx\n",
    "from apgis.apresource import *\n",
    "import matplotlib.pyplot as plt\n",
    "plt.style.use('seaborn-deep')"
   ]
  },
  {
   "cell_type": "code",
   "execution_count": null,
   "metadata": {},
   "outputs": [],
   "source": [
    "eeInitialize(internalConfig=True)"
   ]
  },
  {
   "cell_type": "code",
   "execution_count": null,
   "metadata": {},
   "outputs": [],
   "source": [
    "geo10 = apjsonio.geojsonRead(\"acre10.geojson\")\n",
    "geo20 = apjsonio.geojsonRead(\"acre20.geojson\")\n",
    "geo10 = ee.Geometry.Polygon(geo10[\"features\"][0][\"geometry\"][\"coordinates\"])\n",
    "geo20 = ee.Geometry.Polygon(geo20[\"features\"][0][\"geometry\"][\"coordinates\"])"
   ]
  },
  {
   "cell_type": "code",
   "execution_count": 1,
   "metadata": {},
   "outputs": [],
   "source": [
    "from glob import glob\n",
    "files3 = glob(\"s:\\\\alpha\\\\remote-sensing\\\\imagery\\\\exports\\\\*930*-08-03.tif\")\n",
    "files8 = glob(\"s:\\\\alpha\\\\remote-sensing\\\\imagery\\\\exports\\\\*930*08-08.tif\")\n",
    "files13 = glob(\"s:\\\\alpha\\\\remote-sensing\\\\imagery\\\\exports\\\\*930*08-13.tif\")\n",
    "files18 = glob(\"s:\\\\alpha\\\\remote-sensing\\\\imagery\\\\exports\\\\*930*-08-18.tif\")\n",
    "files23 = glob(\"s:\\\\alpha\\\\remote-sensing\\\\imagery\\\\exports\\\\*930*-08-23.tif\")\n",
    "files28 = glob(\"s:\\\\alpha\\\\remote-sensing\\\\imagery\\\\exports\\\\*930*-08-28.tif\")"
   ]
  },
  {
   "cell_type": "code",
   "execution_count": null,
   "metadata": {},
   "outputs": [],
   "source": [
    "acre10 = makeGridDF(\"acre20.geojson\", \"epsg:4326\", spacing=0.0003)\n",
    "r8ndvi = Raster(files8[1])\n",
    "r13ndvi = Raster(files13[1])\n",
    "r18ndvi = Raster(files18[1])\n",
    "r23ndvi = Raster(files23[1])\n",
    "r28ndvi = Raster(files28[1])\n",
    "\n",
    "aug8 = gpd.GeoDataFrame()\n",
    "# aug13 = gpd.GeoDataFrame()\n",
    "# aug18 = gpd.GeoDataFrame()\n",
    "# aug23 = gpd.GeoDataFrame()\n",
    "# aug28 = gpd.GeoDataFrame()\n",
    "\n",
    "aug8 = r8ndvi.assignMean(acre10)\n",
    "# # aug8 = r23ndwi.assignMean(aug8)\n",
    "# aug13 = r13ndvi.assignMean(acre10.copy())\n",
    "# # aug13 = r28ndwi.assignMean(aug13)\n",
    "# aug18 = r18ndvi.assignMean(acre10.copy())\n",
    "# # aug18 = r23ndwi.assignMean(aug18)\n",
    "# aug23 = r23ndvi.assignMean(acre10.copy())\n",
    "# # aug23 = r28ndwi.assignMean(aug23)\n",
    "# aug28 = r28ndvi.assignMean(acre10.copy())\n",
    "# # aug28 = r23ndwi.assignMean(aug28)"
   ]
  },
  {
   "cell_type": "code",
   "execution_count": null,
   "metadata": {},
   "outputs": [],
   "source": []
  },
  {
   "cell_type": "code",
   "execution_count": null,
   "metadata": {},
   "outputs": [],
   "source": [
    "acre10"
   ]
  },
  {
   "cell_type": "code",
   "execution_count": null,
   "metadata": {},
   "outputs": [],
   "source": [
    "r8ndvi.month"
   ]
  },
  {
   "cell_type": "code",
   "execution_count": null,
   "metadata": {},
   "outputs": [],
   "source": [
    "aug8"
   ]
  },
  {
   "cell_type": "code",
   "execution_count": null,
   "metadata": {},
   "outputs": [],
   "source": [
    "aug = [aug8,aug13,aug18,aug23,aug28]"
   ]
  },
  {
   "cell_type": "code",
   "execution_count": null,
   "metadata": {},
   "outputs": [],
   "source": [
    "for a in aug:\n",
    "    a.plot('meanNDVI', figsize =(10,10), cmap = 'RdYlGn', legend=True)\n",
    "    plt.axis('off')\n",
    "    plt.title('NDVI')"
   ]
  },
  {
   "cell_type": "code",
   "execution_count": null,
   "metadata": {},
   "outputs": [],
   "source": [
    "acre10 = makeGridDF(\"acre10.geojson\", \"epsg:4326\", spacing=0.0003)\n",
    "acre20 = makeGridDF(\"acre20.geojson\", \"epsg:4326\", spacing=0.0003)\n",
    "\n",
    "r23ndvi = Raster(\"W:\\\\antpod\\\\testprk\\\\Batch Export\\\\AP-demo000-fb8459fb51896de9bb2c1a4c8b44566d-104-L2A-NDVI-2020-08-23.tif\")\n",
    "r23ndwi = Raster(\"W:\\\\antpod\\\\testprk\\\\Batch Export\\\\AP-demo000-fb8459fb51896de9bb2c1a4c8b44566d-104-L2A-NDWI-2020-08-23.tif\")\n",
    "r28ndvi = Raster(\"W:\\\\antpod\\\\testprk\\\\Batch Export\\\\AP-demo000-fb8459fb51896de9bb2c1a4c8b44566d-104-L2A-NDVI-2020-08-28.tif\")\n",
    "r28ndwi = Raster(\"W:\\\\antpod\\\\testprk\\\\Batch Export\\\\AP-demo000-fb8459fb51896de9bb2c1a4c8b44566d-104-L2A-NDWI-2020-08-28.tif\")"
   ]
  },
  {
   "cell_type": "markdown",
   "metadata": {},
   "source": [
    "ACRE 10"
   ]
  },
  {
   "cell_type": "code",
   "execution_count": null,
   "metadata": {},
   "outputs": [],
   "source": [
    "import geopandas as gpd\n",
    "aug23 = gpd.GeoDataFrame()\n",
    "aug28 = gpd.GeoDataFrame()"
   ]
  },
  {
   "cell_type": "code",
   "execution_count": null,
   "metadata": {
    "scrolled": true
   },
   "outputs": [],
   "source": [
    "aug23_10 = r23ndvi.assignMean(acre10.copy())\n",
    "aug23_10 = r23ndwi.assignMean(aug23_10)\n",
    "aug28_10 = r28ndvi.assignMean(acre10.copy())\n",
    "aug28_10 = r28ndwi.assignMean(aug28_10)"
   ]
  },
  {
   "cell_type": "code",
   "execution_count": null,
   "metadata": {
    "scrolled": true
   },
   "outputs": [],
   "source": [
    "aug23_10"
   ]
  },
  {
   "cell_type": "code",
   "execution_count": null,
   "metadata": {
    "scrolled": true
   },
   "outputs": [],
   "source": [
    "aug23_10 = aug23_10.drop('id', axis=1)\n",
    "aug23_10"
   ]
  },
  {
   "cell_type": "code",
   "execution_count": null,
   "metadata": {},
   "outputs": [],
   "source": [
    "aug23_10.to_csv(\"output.csv\")"
   ]
  },
  {
   "cell_type": "code",
   "execution_count": null,
   "metadata": {},
   "outputs": [],
   "source": [
    "x = aug23_10.to_dict()"
   ]
  },
  {
   "cell_type": "code",
   "execution_count": null,
   "metadata": {},
   "outputs": [],
   "source": [
    "x"
   ]
  },
  {
   "cell_type": "code",
   "execution_count": null,
   "metadata": {},
   "outputs": [],
   "source": [
    "def getScore(dataframe, column, threshold): \n",
    "    score = len(dataframe[(dataframe[column]>threshold)])/dataframe.shape[0] \n",
    "    score = score*100\n",
    "    return round(score,3)"
   ]
  },
  {
   "cell_type": "code",
   "execution_count": null,
   "metadata": {},
   "outputs": [],
   "source": [
    "aug23ndviscore10 = getScore(aug23_10, 'meanNDVI', 0.5)\n",
    "aug23ndviscore10"
   ]
  },
  {
   "cell_type": "code",
   "execution_count": null,
   "metadata": {},
   "outputs": [],
   "source": [
    "aug23ndwiscore10 = getScore(aug23_10, 'meanNDWI', -0.55)\n",
    "aug23ndwiscore10"
   ]
  },
  {
   "cell_type": "code",
   "execution_count": null,
   "metadata": {},
   "outputs": [],
   "source": [
    "aug28ndviscore10 = getScore(aug28_10, 'meanNDVI', 0.5)\n",
    "aug28ndviscore10"
   ]
  },
  {
   "cell_type": "code",
   "execution_count": null,
   "metadata": {},
   "outputs": [],
   "source": [
    "aug28ndwiscore10 = getScore(aug28_10, 'meanNDWI', -0.55)\n",
    "aug28ndwiscore10"
   ]
  },
  {
   "cell_type": "code",
   "execution_count": null,
   "metadata": {},
   "outputs": [],
   "source": [
    "def getChange(newscore, oldscore):\n",
    "    difference = newscore - oldscore\n",
    "    change = difference/oldscore\n",
    "    changePercent = change * 100\n",
    "    return round(changePercent)"
   ]
  },
  {
   "cell_type": "code",
   "execution_count": null,
   "metadata": {},
   "outputs": [],
   "source": [
    "ndviGrowth10 = getChange(aug28ndviscore10, aug23ndviscore10)\n",
    "ndviGrowth10"
   ]
  },
  {
   "cell_type": "code",
   "execution_count": null,
   "metadata": {},
   "outputs": [],
   "source": [
    "ndwiGrowth10 = getChange(aug28ndwiscore10, aug23ndwiscore10)\n",
    "ndwiGrowth10"
   ]
  },
  {
   "cell_type": "code",
   "execution_count": null,
   "metadata": {
    "scrolled": false
   },
   "outputs": [],
   "source": [
    "f = plt.figure(figsize=(10,10))\n",
    "\n",
    "ax = f.add_subplot(121)\n",
    "aug23_10.plot('meanNDVI', cmap = 'RdYlGn', ax=ax, legend=True)\n",
    "plt.axis('off')\n",
    "plt.title('Aug23 NDVI')\n",
    "\n",
    "ax2 = f.add_subplot(122)\n",
    "plt.axis('off')\n",
    "aug28_10.plot('meanNDVI', cmap = 'RdYlGn', ax=ax2, legend=True)\n",
    "plt.title('Aug28 NDVI')"
   ]
  },
  {
   "cell_type": "code",
   "execution_count": null,
   "metadata": {},
   "outputs": [],
   "source": [
    "f = plt.figure(figsize=(10,10))\n",
    "\n",
    "ax = f.add_subplot(121)\n",
    "aug23_10.plot('meanNDWI', cmap = 'Blues', ax=ax, legend=True)\n",
    "plt.axis('off')\n",
    "plt.title('Aug23 NDWI')\n",
    "\n",
    "ax2 = f.add_subplot(122)\n",
    "plt.axis('off')\n",
    "aug28_10.plot('meanNDWI', cmap = 'Blues', ax=ax2, legend=True)\n",
    "plt.title('Aug28 NDWI')"
   ]
  },
  {
   "cell_type": "code",
   "execution_count": null,
   "metadata": {},
   "outputs": [],
   "source": [
    "aug23_10.describe()"
   ]
  },
  {
   "cell_type": "code",
   "execution_count": null,
   "metadata": {
    "scrolled": true
   },
   "outputs": [],
   "source": [
    "aug28_10.describe()"
   ]
  },
  {
   "cell_type": "markdown",
   "metadata": {},
   "source": [
    "ACRE 20"
   ]
  },
  {
   "cell_type": "code",
   "execution_count": null,
   "metadata": {},
   "outputs": [],
   "source": [
    "aug23_20 = gpd.GeoDataFrame()\n",
    "aug28_20 = gpd.GeoDataFrame()\n",
    "aug23_20 = r23ndvi.assignMean(acre20.copy())\n",
    "aug23_20 = r23ndwi.assignMean(aug23_20)\n",
    "aug28_20 = r28ndvi.assignMean(acre20.copy())\n",
    "aug28_20 = r28ndwi.assignMean(aug28_20)"
   ]
  },
  {
   "cell_type": "code",
   "execution_count": null,
   "metadata": {},
   "outputs": [],
   "source": [
    "aug23ndviscore20 = getScore(aug23_20, 'meanNDVI', 0.45)\n",
    "aug23ndviscore20"
   ]
  },
  {
   "cell_type": "code",
   "execution_count": null,
   "metadata": {},
   "outputs": [],
   "source": [
    "aug23ndwiscore20 = getScore(aug23_20, 'meanNDWI', -0.40)\n",
    "aug23ndwiscore20"
   ]
  },
  {
   "cell_type": "code",
   "execution_count": null,
   "metadata": {},
   "outputs": [],
   "source": [
    "aug28ndviscore20 = getScore(aug28_20, 'meanNDVI', 0.45)\n",
    "aug28ndviscore20"
   ]
  },
  {
   "cell_type": "code",
   "execution_count": null,
   "metadata": {},
   "outputs": [],
   "source": [
    "aug28ndwiscore20 = getScore(aug28_20, 'meanNDWI', -0.40)\n",
    "aug28ndwiscore20"
   ]
  },
  {
   "cell_type": "code",
   "execution_count": null,
   "metadata": {
    "scrolled": true
   },
   "outputs": [],
   "source": [
    "f = plt.figure(figsize=(10,10))\n",
    "\n",
    "ax = f.add_subplot(121)\n",
    "aug23_20.plot('meanNDVI', cmap = 'RdYlGn', ax=ax, legend=True)\n",
    "plt.axis('off')\n",
    "plt.title('Aug23 NDVI')\n",
    "\n",
    "ax2 = f.add_subplot(122)\n",
    "plt.axis('off')\n",
    "aug28_20.plot('meanNDVI', cmap = 'RdYlGn', ax=ax2, legend=True)\n",
    "plt.title('Aug28 NDVI')"
   ]
  },
  {
   "cell_type": "code",
   "execution_count": null,
   "metadata": {
    "scrolled": false
   },
   "outputs": [],
   "source": [
    "f = plt.figure(figsize=(10,10))\n",
    "\n",
    "ax = f.add_subplot(121)\n",
    "aug23_20.plot('meanNDWI', cmap = 'Blues', ax=ax, legend=True)\n",
    "plt.axis('off')\n",
    "plt.title('Aug23 NDWI')\n",
    "\n",
    "ax2 = f.add_subplot(122)\n",
    "plt.axis('off')\n",
    "aug28_20.plot('meanNDWI', cmap = 'Blues', ax=ax2, legend=True)\n",
    "plt.title('Aug28 NDWI')"
   ]
  },
  {
   "cell_type": "code",
   "execution_count": null,
   "metadata": {},
   "outputs": [],
   "source": [
    "aug23_20.describe()"
   ]
  },
  {
   "cell_type": "code",
   "execution_count": null,
   "metadata": {
    "scrolled": true
   },
   "outputs": [],
   "source": [
    "aug28_20.describe()"
   ]
  },
  {
   "cell_type": "code",
   "execution_count": null,
   "metadata": {},
   "outputs": [],
   "source": [
    "ndviGrowth20 = getChange(aug28ndviscore20, aug23ndviscore20)\n",
    "ndviGrowth20"
   ]
  },
  {
   "cell_type": "code",
   "execution_count": null,
   "metadata": {},
   "outputs": [],
   "source": [
    "ndwiGrowth = getChange(aug28ndwiscore20, aug23ndwiscore20)\n",
    "ndwiGrowth"
   ]
  }
 ],
 "metadata": {
  "kernelspec": {
   "display_name": "Python 3",
   "language": "python",
   "name": "python3"
  },
  "language_info": {
   "codemirror_mode": {
    "name": "ipython",
    "version": 3
   },
   "file_extension": ".py",
   "mimetype": "text/x-python",
   "name": "python",
   "nbconvert_exporter": "python",
   "pygments_lexer": "ipython3",
   "version": "3.8.4"
  }
 },
 "nbformat": 4,
 "nbformat_minor": 4
}
