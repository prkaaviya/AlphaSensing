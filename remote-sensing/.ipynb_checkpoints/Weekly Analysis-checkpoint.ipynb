{
 "cells": [
  {
   "cell_type": "code",
   "execution_count": 1,
   "metadata": {},
   "outputs": [],
   "source": [
    "import ee\n",
    "import sys\n",
    "sys.path.insert(1,'w:/antpod/alpha/apGIS-0.4.0/')\n",
    "from apgis import *\n",
    "from apgis.gisgeodf import *\n",
    "from apgis.gisgeodf import *\n",
    "from apgis.gisraster import *\n",
    "from apgis.geespatial import *\n",
    "import contextily as ctx\n",
    "from apgis.apresource import *\n",
    "import matplotlib.pyplot as plt\n",
    "plt.style.use('seaborn-deep')\n",
    "eeInitialize(internalConfig=True)"
   ]
  },
  {
   "cell_type": "code",
   "execution_count": 2,
   "metadata": {},
   "outputs": [],
   "source": [
    "geo10 = apjsonio.geojsonRead(\"acre10.geojson\")\n",
    "geo20 = apjsonio.geojsonRead(\"acre20.geojson\")\n",
    "geo10 = ee.Geometry.Polygon(geo10[\"features\"][0][\"geometry\"][\"coordinates\"])\n",
    "geo20 = ee.Geometry.Polygon(geo20[\"features\"][0][\"geometry\"][\"coordinates\"])"
   ]
  },
  {
   "cell_type": "code",
   "execution_count": 3,
   "metadata": {},
   "outputs": [],
   "source": [
    "acre10 = makeGridDF(\"acre10.geojson\", \"epsg:4326\", spacing=0.0003)\n",
    "acre20 = makeGridDF(\"acre20.geojson\", \"epsg:4326\", spacing=0.0003)\n",
    "\n",
    "r23ndvi = Raster(\"W:\\\\antpod\\\\testprk\\\\Batch Export\\\\AP-demo000-fb8459fb51896de9bb2c1a4c8b44566d-104-L2A-NDVI-2020-08-23.tif\")\n",
    "r23ndwi = Raster(\"W:\\\\antpod\\\\testprk\\\\Batch Export\\\\AP-demo000-fb8459fb51896de9bb2c1a4c8b44566d-104-L2A-NDWI-2020-08-23.tif\")\n",
    "r28ndvi = Raster(\"W:\\\\antpod\\\\testprk\\\\Batch Export\\\\AP-demo000-fb8459fb51896de9bb2c1a4c8b44566d-104-L2A-NDVI-2020-08-28.tif\")\n",
    "r28ndwi = Raster(\"W:\\\\antpod\\\\testprk\\\\Batch Export\\\\AP-demo000-fb8459fb51896de9bb2c1a4c8b44566d-104-L2A-NDWI-2020-08-28.tif\")"
   ]
  },
  {
   "cell_type": "markdown",
   "metadata": {},
   "source": [
    "ACRE 10"
   ]
  },
  {
   "cell_type": "code",
   "execution_count": 4,
   "metadata": {},
   "outputs": [],
   "source": [
    "import geopandas as gpd\n",
    "aug23 = gpd.GeoDataFrame()\n",
    "aug28 = gpd.GeoDataFrame()"
   ]
  },
  {
   "cell_type": "code",
   "execution_count": 5,
   "metadata": {
    "scrolled": true
   },
   "outputs": [],
   "source": [
    "aug23_10 = r23ndvi.assignMean(acre10.copy())\n",
    "aug23_10 = r23ndwi.assignMean(aug23_10)\n",
    "aug28_10 = r28ndvi.assignMean(acre10.copy())\n",
    "aug28_10 = r28ndwi.assignMean(aug28_10)"
   ]
  },
  {
   "cell_type": "code",
   "execution_count": 6,
   "metadata": {
    "scrolled": true
   },
   "outputs": [
    {
     "data": {
      "text/html": [
       "<div>\n",
       "<style scoped>\n",
       "    .dataframe tbody tr th:only-of-type {\n",
       "        vertical-align: middle;\n",
       "    }\n",
       "\n",
       "    .dataframe tbody tr th {\n",
       "        vertical-align: top;\n",
       "    }\n",
       "\n",
       "    .dataframe thead th {\n",
       "        text-align: right;\n",
       "    }\n",
       "</style>\n",
       "<table border=\"1\" class=\"dataframe\">\n",
       "  <thead>\n",
       "    <tr style=\"text-align: right;\">\n",
       "      <th></th>\n",
       "      <th>id</th>\n",
       "      <th>meanNDVI</th>\n",
       "      <th>meanNDWI</th>\n",
       "      <th>geometry</th>\n",
       "    </tr>\n",
       "  </thead>\n",
       "  <tbody>\n",
       "    <tr>\n",
       "      <th>0</th>\n",
       "      <td>0</td>\n",
       "      <td>0.463330</td>\n",
       "      <td>-0.488192</td>\n",
       "      <td>POLYGON ((80.06329 12.80785, 80.06359 12.80785...</td>\n",
       "    </tr>\n",
       "    <tr>\n",
       "      <th>1</th>\n",
       "      <td>0</td>\n",
       "      <td>0.475252</td>\n",
       "      <td>-0.498321</td>\n",
       "      <td>POLYGON ((80.06329 12.80755, 80.06359 12.80755...</td>\n",
       "    </tr>\n",
       "    <tr>\n",
       "      <th>2</th>\n",
       "      <td>0</td>\n",
       "      <td>0.480651</td>\n",
       "      <td>-0.506540</td>\n",
       "      <td>POLYGON ((80.06329 12.80725, 80.06359 12.80725...</td>\n",
       "    </tr>\n",
       "    <tr>\n",
       "      <th>3</th>\n",
       "      <td>0</td>\n",
       "      <td>0.456463</td>\n",
       "      <td>-0.498263</td>\n",
       "      <td>POLYGON ((80.06329 12.80695, 80.06359 12.80695...</td>\n",
       "    </tr>\n",
       "    <tr>\n",
       "      <th>4</th>\n",
       "      <td>0</td>\n",
       "      <td>0.461658</td>\n",
       "      <td>-0.489714</td>\n",
       "      <td>POLYGON ((80.06329 12.80665, 80.06359 12.80665...</td>\n",
       "    </tr>\n",
       "    <tr>\n",
       "      <th>5</th>\n",
       "      <td>0</td>\n",
       "      <td>0.390998</td>\n",
       "      <td>-0.465844</td>\n",
       "      <td>POLYGON ((80.06359 12.80785, 80.06389 12.80785...</td>\n",
       "    </tr>\n",
       "    <tr>\n",
       "      <th>6</th>\n",
       "      <td>0</td>\n",
       "      <td>0.377489</td>\n",
       "      <td>-0.451299</td>\n",
       "      <td>POLYGON ((80.06359 12.80755, 80.06389 12.80755...</td>\n",
       "    </tr>\n",
       "    <tr>\n",
       "      <th>7</th>\n",
       "      <td>0</td>\n",
       "      <td>0.364442</td>\n",
       "      <td>-0.442767</td>\n",
       "      <td>POLYGON ((80.06359 12.80725, 80.06389 12.80725...</td>\n",
       "    </tr>\n",
       "    <tr>\n",
       "      <th>8</th>\n",
       "      <td>0</td>\n",
       "      <td>0.370753</td>\n",
       "      <td>-0.447478</td>\n",
       "      <td>POLYGON ((80.06359 12.80695, 80.06389 12.80695...</td>\n",
       "    </tr>\n",
       "    <tr>\n",
       "      <th>9</th>\n",
       "      <td>0</td>\n",
       "      <td>0.367706</td>\n",
       "      <td>-0.441307</td>\n",
       "      <td>POLYGON ((80.06359 12.80665, 80.06389 12.80665...</td>\n",
       "    </tr>\n",
       "    <tr>\n",
       "      <th>10</th>\n",
       "      <td>0</td>\n",
       "      <td>0.304664</td>\n",
       "      <td>-0.424362</td>\n",
       "      <td>POLYGON ((80.06389 12.80785, 80.06419 12.80785...</td>\n",
       "    </tr>\n",
       "    <tr>\n",
       "      <th>11</th>\n",
       "      <td>0</td>\n",
       "      <td>0.308700</td>\n",
       "      <td>-0.414101</td>\n",
       "      <td>POLYGON ((80.06389 12.80755, 80.06419 12.80755...</td>\n",
       "    </tr>\n",
       "    <tr>\n",
       "      <th>12</th>\n",
       "      <td>0</td>\n",
       "      <td>0.438164</td>\n",
       "      <td>-0.476897</td>\n",
       "      <td>POLYGON ((80.06389 12.80725, 80.06419 12.80725...</td>\n",
       "    </tr>\n",
       "    <tr>\n",
       "      <th>13</th>\n",
       "      <td>0</td>\n",
       "      <td>0.596644</td>\n",
       "      <td>-0.570177</td>\n",
       "      <td>POLYGON ((80.06389 12.80695, 80.06419 12.80695...</td>\n",
       "    </tr>\n",
       "    <tr>\n",
       "      <th>14</th>\n",
       "      <td>0</td>\n",
       "      <td>0.573164</td>\n",
       "      <td>-0.549008</td>\n",
       "      <td>POLYGON ((80.06389 12.80665, 80.06419 12.80665...</td>\n",
       "    </tr>\n",
       "    <tr>\n",
       "      <th>15</th>\n",
       "      <td>0</td>\n",
       "      <td>0.362280</td>\n",
       "      <td>-0.444767</td>\n",
       "      <td>POLYGON ((80.06419 12.80785, 80.06449 12.80785...</td>\n",
       "    </tr>\n",
       "    <tr>\n",
       "      <th>16</th>\n",
       "      <td>0</td>\n",
       "      <td>0.332525</td>\n",
       "      <td>-0.428434</td>\n",
       "      <td>POLYGON ((80.06419 12.80755, 80.06449 12.80755...</td>\n",
       "    </tr>\n",
       "    <tr>\n",
       "      <th>17</th>\n",
       "      <td>0</td>\n",
       "      <td>0.490585</td>\n",
       "      <td>-0.509406</td>\n",
       "      <td>POLYGON ((80.06419 12.80725, 80.06449 12.80725...</td>\n",
       "    </tr>\n",
       "    <tr>\n",
       "      <th>18</th>\n",
       "      <td>0</td>\n",
       "      <td>0.751034</td>\n",
       "      <td>-0.650690</td>\n",
       "      <td>POLYGON ((80.06419 12.80695, 80.06449 12.80695...</td>\n",
       "    </tr>\n",
       "    <tr>\n",
       "      <th>19</th>\n",
       "      <td>0</td>\n",
       "      <td>0.729067</td>\n",
       "      <td>-0.631634</td>\n",
       "      <td>POLYGON ((80.06419 12.80665, 80.06449 12.80665...</td>\n",
       "    </tr>\n",
       "    <tr>\n",
       "      <th>20</th>\n",
       "      <td>0</td>\n",
       "      <td>0.536775</td>\n",
       "      <td>-0.528262</td>\n",
       "      <td>POLYGON ((80.06449 12.80785, 80.06479 12.80785...</td>\n",
       "    </tr>\n",
       "    <tr>\n",
       "      <th>21</th>\n",
       "      <td>0</td>\n",
       "      <td>0.473595</td>\n",
       "      <td>-0.498377</td>\n",
       "      <td>POLYGON ((80.06449 12.80755, 80.06479 12.80755...</td>\n",
       "    </tr>\n",
       "    <tr>\n",
       "      <th>22</th>\n",
       "      <td>0</td>\n",
       "      <td>0.584049</td>\n",
       "      <td>-0.552627</td>\n",
       "      <td>POLYGON ((80.06449 12.80725, 80.06479 12.80725...</td>\n",
       "    </tr>\n",
       "    <tr>\n",
       "      <th>23</th>\n",
       "      <td>0</td>\n",
       "      <td>0.718389</td>\n",
       "      <td>-0.620778</td>\n",
       "      <td>POLYGON ((80.06449 12.80695, 80.06479 12.80695...</td>\n",
       "    </tr>\n",
       "    <tr>\n",
       "      <th>24</th>\n",
       "      <td>0</td>\n",
       "      <td>0.686127</td>\n",
       "      <td>-0.604793</td>\n",
       "      <td>POLYGON ((80.06449 12.80665, 80.06479 12.80665...</td>\n",
       "    </tr>\n",
       "    <tr>\n",
       "      <th>25</th>\n",
       "      <td>0</td>\n",
       "      <td>0.673580</td>\n",
       "      <td>-0.594034</td>\n",
       "      <td>POLYGON ((80.06479 12.80785, 80.06509 12.80785...</td>\n",
       "    </tr>\n",
       "    <tr>\n",
       "      <th>26</th>\n",
       "      <td>0</td>\n",
       "      <td>0.712310</td>\n",
       "      <td>-0.613078</td>\n",
       "      <td>POLYGON ((80.06479 12.80755, 80.06509 12.80755...</td>\n",
       "    </tr>\n",
       "    <tr>\n",
       "      <th>27</th>\n",
       "      <td>0</td>\n",
       "      <td>0.736787</td>\n",
       "      <td>-0.629573</td>\n",
       "      <td>POLYGON ((80.06479 12.80725, 80.06509 12.80725...</td>\n",
       "    </tr>\n",
       "    <tr>\n",
       "      <th>28</th>\n",
       "      <td>0</td>\n",
       "      <td>0.689408</td>\n",
       "      <td>-0.598936</td>\n",
       "      <td>POLYGON ((80.06479 12.80695, 80.06509 12.80695...</td>\n",
       "    </tr>\n",
       "    <tr>\n",
       "      <th>29</th>\n",
       "      <td>0</td>\n",
       "      <td>0.603860</td>\n",
       "      <td>-0.569554</td>\n",
       "      <td>POLYGON ((80.06479 12.80665, 80.06509 12.80665...</td>\n",
       "    </tr>\n",
       "    <tr>\n",
       "      <th>30</th>\n",
       "      <td>0</td>\n",
       "      <td>0.692022</td>\n",
       "      <td>-0.601264</td>\n",
       "      <td>POLYGON ((80.06509 12.80785, 80.06538 12.80785...</td>\n",
       "    </tr>\n",
       "    <tr>\n",
       "      <th>31</th>\n",
       "      <td>0</td>\n",
       "      <td>0.705771</td>\n",
       "      <td>-0.612698</td>\n",
       "      <td>POLYGON ((80.06509 12.80755, 80.06538 12.80755...</td>\n",
       "    </tr>\n",
       "    <tr>\n",
       "      <th>32</th>\n",
       "      <td>0</td>\n",
       "      <td>0.720692</td>\n",
       "      <td>-0.621364</td>\n",
       "      <td>POLYGON ((80.06509 12.80725, 80.06538 12.80725...</td>\n",
       "    </tr>\n",
       "    <tr>\n",
       "      <th>33</th>\n",
       "      <td>0</td>\n",
       "      <td>0.684699</td>\n",
       "      <td>-0.602180</td>\n",
       "      <td>POLYGON ((80.06509 12.80695, 80.06538 12.80695...</td>\n",
       "    </tr>\n",
       "    <tr>\n",
       "      <th>34</th>\n",
       "      <td>0</td>\n",
       "      <td>0.569090</td>\n",
       "      <td>-0.544520</td>\n",
       "      <td>POLYGON ((80.06509 12.80665, 80.06538 12.80665...</td>\n",
       "    </tr>\n",
       "  </tbody>\n",
       "</table>\n",
       "</div>"
      ],
      "text/plain": [
       "   id  meanNDVI  meanNDWI                                           geometry\n",
       "0   0  0.463330 -0.488192  POLYGON ((80.06329 12.80785, 80.06359 12.80785...\n",
       "1   0  0.475252 -0.498321  POLYGON ((80.06329 12.80755, 80.06359 12.80755...\n",
       "2   0  0.480651 -0.506540  POLYGON ((80.06329 12.80725, 80.06359 12.80725...\n",
       "3   0  0.456463 -0.498263  POLYGON ((80.06329 12.80695, 80.06359 12.80695...\n",
       "4   0  0.461658 -0.489714  POLYGON ((80.06329 12.80665, 80.06359 12.80665...\n",
       "5   0  0.390998 -0.465844  POLYGON ((80.06359 12.80785, 80.06389 12.80785...\n",
       "6   0  0.377489 -0.451299  POLYGON ((80.06359 12.80755, 80.06389 12.80755...\n",
       "7   0  0.364442 -0.442767  POLYGON ((80.06359 12.80725, 80.06389 12.80725...\n",
       "8   0  0.370753 -0.447478  POLYGON ((80.06359 12.80695, 80.06389 12.80695...\n",
       "9   0  0.367706 -0.441307  POLYGON ((80.06359 12.80665, 80.06389 12.80665...\n",
       "10  0  0.304664 -0.424362  POLYGON ((80.06389 12.80785, 80.06419 12.80785...\n",
       "11  0  0.308700 -0.414101  POLYGON ((80.06389 12.80755, 80.06419 12.80755...\n",
       "12  0  0.438164 -0.476897  POLYGON ((80.06389 12.80725, 80.06419 12.80725...\n",
       "13  0  0.596644 -0.570177  POLYGON ((80.06389 12.80695, 80.06419 12.80695...\n",
       "14  0  0.573164 -0.549008  POLYGON ((80.06389 12.80665, 80.06419 12.80665...\n",
       "15  0  0.362280 -0.444767  POLYGON ((80.06419 12.80785, 80.06449 12.80785...\n",
       "16  0  0.332525 -0.428434  POLYGON ((80.06419 12.80755, 80.06449 12.80755...\n",
       "17  0  0.490585 -0.509406  POLYGON ((80.06419 12.80725, 80.06449 12.80725...\n",
       "18  0  0.751034 -0.650690  POLYGON ((80.06419 12.80695, 80.06449 12.80695...\n",
       "19  0  0.729067 -0.631634  POLYGON ((80.06419 12.80665, 80.06449 12.80665...\n",
       "20  0  0.536775 -0.528262  POLYGON ((80.06449 12.80785, 80.06479 12.80785...\n",
       "21  0  0.473595 -0.498377  POLYGON ((80.06449 12.80755, 80.06479 12.80755...\n",
       "22  0  0.584049 -0.552627  POLYGON ((80.06449 12.80725, 80.06479 12.80725...\n",
       "23  0  0.718389 -0.620778  POLYGON ((80.06449 12.80695, 80.06479 12.80695...\n",
       "24  0  0.686127 -0.604793  POLYGON ((80.06449 12.80665, 80.06479 12.80665...\n",
       "25  0  0.673580 -0.594034  POLYGON ((80.06479 12.80785, 80.06509 12.80785...\n",
       "26  0  0.712310 -0.613078  POLYGON ((80.06479 12.80755, 80.06509 12.80755...\n",
       "27  0  0.736787 -0.629573  POLYGON ((80.06479 12.80725, 80.06509 12.80725...\n",
       "28  0  0.689408 -0.598936  POLYGON ((80.06479 12.80695, 80.06509 12.80695...\n",
       "29  0  0.603860 -0.569554  POLYGON ((80.06479 12.80665, 80.06509 12.80665...\n",
       "30  0  0.692022 -0.601264  POLYGON ((80.06509 12.80785, 80.06538 12.80785...\n",
       "31  0  0.705771 -0.612698  POLYGON ((80.06509 12.80755, 80.06538 12.80755...\n",
       "32  0  0.720692 -0.621364  POLYGON ((80.06509 12.80725, 80.06538 12.80725...\n",
       "33  0  0.684699 -0.602180  POLYGON ((80.06509 12.80695, 80.06538 12.80695...\n",
       "34  0  0.569090 -0.544520  POLYGON ((80.06509 12.80665, 80.06538 12.80665..."
      ]
     },
     "execution_count": 6,
     "metadata": {},
     "output_type": "execute_result"
    }
   ],
   "source": [
    "aug23_10"
   ]
  },
  {
   "cell_type": "code",
   "execution_count": 11,
   "metadata": {
    "scrolled": true
   },
   "outputs": [
    {
     "data": {
      "text/html": [
       "<div>\n",
       "<style scoped>\n",
       "    .dataframe tbody tr th:only-of-type {\n",
       "        vertical-align: middle;\n",
       "    }\n",
       "\n",
       "    .dataframe tbody tr th {\n",
       "        vertical-align: top;\n",
       "    }\n",
       "\n",
       "    .dataframe thead th {\n",
       "        text-align: right;\n",
       "    }\n",
       "</style>\n",
       "<table border=\"1\" class=\"dataframe\">\n",
       "  <thead>\n",
       "    <tr style=\"text-align: right;\">\n",
       "      <th></th>\n",
       "      <th>meanNDVI</th>\n",
       "      <th>meanNDWI</th>\n",
       "      <th>geometry</th>\n",
       "    </tr>\n",
       "  </thead>\n",
       "  <tbody>\n",
       "    <tr>\n",
       "      <th>0</th>\n",
       "      <td>0.463330</td>\n",
       "      <td>-0.488192</td>\n",
       "      <td>POLYGON ((80.06329 12.80785, 80.06359 12.80785...</td>\n",
       "    </tr>\n",
       "    <tr>\n",
       "      <th>1</th>\n",
       "      <td>0.475252</td>\n",
       "      <td>-0.498321</td>\n",
       "      <td>POLYGON ((80.06329 12.80755, 80.06359 12.80755...</td>\n",
       "    </tr>\n",
       "    <tr>\n",
       "      <th>2</th>\n",
       "      <td>0.480651</td>\n",
       "      <td>-0.506540</td>\n",
       "      <td>POLYGON ((80.06329 12.80725, 80.06359 12.80725...</td>\n",
       "    </tr>\n",
       "    <tr>\n",
       "      <th>3</th>\n",
       "      <td>0.456463</td>\n",
       "      <td>-0.498263</td>\n",
       "      <td>POLYGON ((80.06329 12.80695, 80.06359 12.80695...</td>\n",
       "    </tr>\n",
       "    <tr>\n",
       "      <th>4</th>\n",
       "      <td>0.461658</td>\n",
       "      <td>-0.489714</td>\n",
       "      <td>POLYGON ((80.06329 12.80665, 80.06359 12.80665...</td>\n",
       "    </tr>\n",
       "    <tr>\n",
       "      <th>5</th>\n",
       "      <td>0.390998</td>\n",
       "      <td>-0.465844</td>\n",
       "      <td>POLYGON ((80.06359 12.80785, 80.06389 12.80785...</td>\n",
       "    </tr>\n",
       "    <tr>\n",
       "      <th>6</th>\n",
       "      <td>0.377489</td>\n",
       "      <td>-0.451299</td>\n",
       "      <td>POLYGON ((80.06359 12.80755, 80.06389 12.80755...</td>\n",
       "    </tr>\n",
       "    <tr>\n",
       "      <th>7</th>\n",
       "      <td>0.364442</td>\n",
       "      <td>-0.442767</td>\n",
       "      <td>POLYGON ((80.06359 12.80725, 80.06389 12.80725...</td>\n",
       "    </tr>\n",
       "    <tr>\n",
       "      <th>8</th>\n",
       "      <td>0.370753</td>\n",
       "      <td>-0.447478</td>\n",
       "      <td>POLYGON ((80.06359 12.80695, 80.06389 12.80695...</td>\n",
       "    </tr>\n",
       "    <tr>\n",
       "      <th>9</th>\n",
       "      <td>0.367706</td>\n",
       "      <td>-0.441307</td>\n",
       "      <td>POLYGON ((80.06359 12.80665, 80.06389 12.80665...</td>\n",
       "    </tr>\n",
       "    <tr>\n",
       "      <th>10</th>\n",
       "      <td>0.304664</td>\n",
       "      <td>-0.424362</td>\n",
       "      <td>POLYGON ((80.06389 12.80785, 80.06419 12.80785...</td>\n",
       "    </tr>\n",
       "    <tr>\n",
       "      <th>11</th>\n",
       "      <td>0.308700</td>\n",
       "      <td>-0.414101</td>\n",
       "      <td>POLYGON ((80.06389 12.80755, 80.06419 12.80755...</td>\n",
       "    </tr>\n",
       "    <tr>\n",
       "      <th>12</th>\n",
       "      <td>0.438164</td>\n",
       "      <td>-0.476897</td>\n",
       "      <td>POLYGON ((80.06389 12.80725, 80.06419 12.80725...</td>\n",
       "    </tr>\n",
       "    <tr>\n",
       "      <th>13</th>\n",
       "      <td>0.596644</td>\n",
       "      <td>-0.570177</td>\n",
       "      <td>POLYGON ((80.06389 12.80695, 80.06419 12.80695...</td>\n",
       "    </tr>\n",
       "    <tr>\n",
       "      <th>14</th>\n",
       "      <td>0.573164</td>\n",
       "      <td>-0.549008</td>\n",
       "      <td>POLYGON ((80.06389 12.80665, 80.06419 12.80665...</td>\n",
       "    </tr>\n",
       "    <tr>\n",
       "      <th>15</th>\n",
       "      <td>0.362280</td>\n",
       "      <td>-0.444767</td>\n",
       "      <td>POLYGON ((80.06419 12.80785, 80.06449 12.80785...</td>\n",
       "    </tr>\n",
       "    <tr>\n",
       "      <th>16</th>\n",
       "      <td>0.332525</td>\n",
       "      <td>-0.428434</td>\n",
       "      <td>POLYGON ((80.06419 12.80755, 80.06449 12.80755...</td>\n",
       "    </tr>\n",
       "    <tr>\n",
       "      <th>17</th>\n",
       "      <td>0.490585</td>\n",
       "      <td>-0.509406</td>\n",
       "      <td>POLYGON ((80.06419 12.80725, 80.06449 12.80725...</td>\n",
       "    </tr>\n",
       "    <tr>\n",
       "      <th>18</th>\n",
       "      <td>0.751034</td>\n",
       "      <td>-0.650690</td>\n",
       "      <td>POLYGON ((80.06419 12.80695, 80.06449 12.80695...</td>\n",
       "    </tr>\n",
       "    <tr>\n",
       "      <th>19</th>\n",
       "      <td>0.729067</td>\n",
       "      <td>-0.631634</td>\n",
       "      <td>POLYGON ((80.06419 12.80665, 80.06449 12.80665...</td>\n",
       "    </tr>\n",
       "    <tr>\n",
       "      <th>20</th>\n",
       "      <td>0.536775</td>\n",
       "      <td>-0.528262</td>\n",
       "      <td>POLYGON ((80.06449 12.80785, 80.06479 12.80785...</td>\n",
       "    </tr>\n",
       "    <tr>\n",
       "      <th>21</th>\n",
       "      <td>0.473595</td>\n",
       "      <td>-0.498377</td>\n",
       "      <td>POLYGON ((80.06449 12.80755, 80.06479 12.80755...</td>\n",
       "    </tr>\n",
       "    <tr>\n",
       "      <th>22</th>\n",
       "      <td>0.584049</td>\n",
       "      <td>-0.552627</td>\n",
       "      <td>POLYGON ((80.06449 12.80725, 80.06479 12.80725...</td>\n",
       "    </tr>\n",
       "    <tr>\n",
       "      <th>23</th>\n",
       "      <td>0.718389</td>\n",
       "      <td>-0.620778</td>\n",
       "      <td>POLYGON ((80.06449 12.80695, 80.06479 12.80695...</td>\n",
       "    </tr>\n",
       "    <tr>\n",
       "      <th>24</th>\n",
       "      <td>0.686127</td>\n",
       "      <td>-0.604793</td>\n",
       "      <td>POLYGON ((80.06449 12.80665, 80.06479 12.80665...</td>\n",
       "    </tr>\n",
       "    <tr>\n",
       "      <th>25</th>\n",
       "      <td>0.673580</td>\n",
       "      <td>-0.594034</td>\n",
       "      <td>POLYGON ((80.06479 12.80785, 80.06509 12.80785...</td>\n",
       "    </tr>\n",
       "    <tr>\n",
       "      <th>26</th>\n",
       "      <td>0.712310</td>\n",
       "      <td>-0.613078</td>\n",
       "      <td>POLYGON ((80.06479 12.80755, 80.06509 12.80755...</td>\n",
       "    </tr>\n",
       "    <tr>\n",
       "      <th>27</th>\n",
       "      <td>0.736787</td>\n",
       "      <td>-0.629573</td>\n",
       "      <td>POLYGON ((80.06479 12.80725, 80.06509 12.80725...</td>\n",
       "    </tr>\n",
       "    <tr>\n",
       "      <th>28</th>\n",
       "      <td>0.689408</td>\n",
       "      <td>-0.598936</td>\n",
       "      <td>POLYGON ((80.06479 12.80695, 80.06509 12.80695...</td>\n",
       "    </tr>\n",
       "    <tr>\n",
       "      <th>29</th>\n",
       "      <td>0.603860</td>\n",
       "      <td>-0.569554</td>\n",
       "      <td>POLYGON ((80.06479 12.80665, 80.06509 12.80665...</td>\n",
       "    </tr>\n",
       "    <tr>\n",
       "      <th>30</th>\n",
       "      <td>0.692022</td>\n",
       "      <td>-0.601264</td>\n",
       "      <td>POLYGON ((80.06509 12.80785, 80.06538 12.80785...</td>\n",
       "    </tr>\n",
       "    <tr>\n",
       "      <th>31</th>\n",
       "      <td>0.705771</td>\n",
       "      <td>-0.612698</td>\n",
       "      <td>POLYGON ((80.06509 12.80755, 80.06538 12.80755...</td>\n",
       "    </tr>\n",
       "    <tr>\n",
       "      <th>32</th>\n",
       "      <td>0.720692</td>\n",
       "      <td>-0.621364</td>\n",
       "      <td>POLYGON ((80.06509 12.80725, 80.06538 12.80725...</td>\n",
       "    </tr>\n",
       "    <tr>\n",
       "      <th>33</th>\n",
       "      <td>0.684699</td>\n",
       "      <td>-0.602180</td>\n",
       "      <td>POLYGON ((80.06509 12.80695, 80.06538 12.80695...</td>\n",
       "    </tr>\n",
       "    <tr>\n",
       "      <th>34</th>\n",
       "      <td>0.569090</td>\n",
       "      <td>-0.544520</td>\n",
       "      <td>POLYGON ((80.06509 12.80665, 80.06538 12.80665...</td>\n",
       "    </tr>\n",
       "  </tbody>\n",
       "</table>\n",
       "</div>"
      ],
      "text/plain": [
       "    meanNDVI  meanNDWI                                           geometry\n",
       "0   0.463330 -0.488192  POLYGON ((80.06329 12.80785, 80.06359 12.80785...\n",
       "1   0.475252 -0.498321  POLYGON ((80.06329 12.80755, 80.06359 12.80755...\n",
       "2   0.480651 -0.506540  POLYGON ((80.06329 12.80725, 80.06359 12.80725...\n",
       "3   0.456463 -0.498263  POLYGON ((80.06329 12.80695, 80.06359 12.80695...\n",
       "4   0.461658 -0.489714  POLYGON ((80.06329 12.80665, 80.06359 12.80665...\n",
       "5   0.390998 -0.465844  POLYGON ((80.06359 12.80785, 80.06389 12.80785...\n",
       "6   0.377489 -0.451299  POLYGON ((80.06359 12.80755, 80.06389 12.80755...\n",
       "7   0.364442 -0.442767  POLYGON ((80.06359 12.80725, 80.06389 12.80725...\n",
       "8   0.370753 -0.447478  POLYGON ((80.06359 12.80695, 80.06389 12.80695...\n",
       "9   0.367706 -0.441307  POLYGON ((80.06359 12.80665, 80.06389 12.80665...\n",
       "10  0.304664 -0.424362  POLYGON ((80.06389 12.80785, 80.06419 12.80785...\n",
       "11  0.308700 -0.414101  POLYGON ((80.06389 12.80755, 80.06419 12.80755...\n",
       "12  0.438164 -0.476897  POLYGON ((80.06389 12.80725, 80.06419 12.80725...\n",
       "13  0.596644 -0.570177  POLYGON ((80.06389 12.80695, 80.06419 12.80695...\n",
       "14  0.573164 -0.549008  POLYGON ((80.06389 12.80665, 80.06419 12.80665...\n",
       "15  0.362280 -0.444767  POLYGON ((80.06419 12.80785, 80.06449 12.80785...\n",
       "16  0.332525 -0.428434  POLYGON ((80.06419 12.80755, 80.06449 12.80755...\n",
       "17  0.490585 -0.509406  POLYGON ((80.06419 12.80725, 80.06449 12.80725...\n",
       "18  0.751034 -0.650690  POLYGON ((80.06419 12.80695, 80.06449 12.80695...\n",
       "19  0.729067 -0.631634  POLYGON ((80.06419 12.80665, 80.06449 12.80665...\n",
       "20  0.536775 -0.528262  POLYGON ((80.06449 12.80785, 80.06479 12.80785...\n",
       "21  0.473595 -0.498377  POLYGON ((80.06449 12.80755, 80.06479 12.80755...\n",
       "22  0.584049 -0.552627  POLYGON ((80.06449 12.80725, 80.06479 12.80725...\n",
       "23  0.718389 -0.620778  POLYGON ((80.06449 12.80695, 80.06479 12.80695...\n",
       "24  0.686127 -0.604793  POLYGON ((80.06449 12.80665, 80.06479 12.80665...\n",
       "25  0.673580 -0.594034  POLYGON ((80.06479 12.80785, 80.06509 12.80785...\n",
       "26  0.712310 -0.613078  POLYGON ((80.06479 12.80755, 80.06509 12.80755...\n",
       "27  0.736787 -0.629573  POLYGON ((80.06479 12.80725, 80.06509 12.80725...\n",
       "28  0.689408 -0.598936  POLYGON ((80.06479 12.80695, 80.06509 12.80695...\n",
       "29  0.603860 -0.569554  POLYGON ((80.06479 12.80665, 80.06509 12.80665...\n",
       "30  0.692022 -0.601264  POLYGON ((80.06509 12.80785, 80.06538 12.80785...\n",
       "31  0.705771 -0.612698  POLYGON ((80.06509 12.80755, 80.06538 12.80755...\n",
       "32  0.720692 -0.621364  POLYGON ((80.06509 12.80725, 80.06538 12.80725...\n",
       "33  0.684699 -0.602180  POLYGON ((80.06509 12.80695, 80.06538 12.80695...\n",
       "34  0.569090 -0.544520  POLYGON ((80.06509 12.80665, 80.06538 12.80665..."
      ]
     },
     "execution_count": 11,
     "metadata": {},
     "output_type": "execute_result"
    }
   ],
   "source": [
    "aug23_10 = aug23_10.drop('id', axis=1)\n",
    "aug23_10"
   ]
  },
  {
   "cell_type": "code",
   "execution_count": 15,
   "metadata": {},
   "outputs": [],
   "source": [
    "aug23_10.to_csv(\"output.csv\")"
   ]
  },
  {
   "cell_type": "code",
   "execution_count": 8,
   "metadata": {},
   "outputs": [],
   "source": [
    "def getScore(dataframe, column, threshold): \n",
    "    score = len(dataframe[(dataframe[column]>threshold)])/dataframe.shape[0] \n",
    "    score = score*100\n",
    "    return round(score,3)"
   ]
  },
  {
   "cell_type": "code",
   "execution_count": 9,
   "metadata": {},
   "outputs": [
    {
     "data": {
      "text/plain": [
       "51.429"
      ]
     },
     "execution_count": 9,
     "metadata": {},
     "output_type": "execute_result"
    }
   ],
   "source": [
    "aug23ndviscore10 = getScore(aug23_10, 'meanNDVI', 0.5)\n",
    "aug23ndviscore10"
   ]
  },
  {
   "cell_type": "code",
   "execution_count": 47,
   "metadata": {},
   "outputs": [
    {
     "data": {
      "text/plain": [
       "57.143"
      ]
     },
     "execution_count": 47,
     "metadata": {},
     "output_type": "execute_result"
    }
   ],
   "source": [
    "aug23ndwiscore10 = getScore(aug23_10, 'meanNDWI', -0.55)\n",
    "aug23ndwiscore10"
   ]
  },
  {
   "cell_type": "code",
   "execution_count": 48,
   "metadata": {},
   "outputs": [
    {
     "data": {
      "text/plain": [
       "48.571"
      ]
     },
     "execution_count": 48,
     "metadata": {},
     "output_type": "execute_result"
    }
   ],
   "source": [
    "aug28ndviscore10 = getScore(aug28_10, 'meanNDVI', 0.5)\n",
    "aug28ndviscore10"
   ]
  },
  {
   "cell_type": "code",
   "execution_count": 49,
   "metadata": {},
   "outputs": [
    {
     "data": {
      "text/plain": [
       "57.143"
      ]
     },
     "execution_count": 49,
     "metadata": {},
     "output_type": "execute_result"
    }
   ],
   "source": [
    "aug28ndwiscore10 = getScore(aug28_10, 'meanNDWI', -0.55)\n",
    "aug28ndwiscore10"
   ]
  },
  {
   "cell_type": "code",
   "execution_count": 50,
   "metadata": {},
   "outputs": [],
   "source": [
    "def getChange(newscore, oldscore):\n",
    "    difference = newscore - oldscore\n",
    "    change = difference/oldscore\n",
    "    changePercent = change * 100\n",
    "    return round(changePercent)"
   ]
  },
  {
   "cell_type": "code",
   "execution_count": 51,
   "metadata": {},
   "outputs": [
    {
     "data": {
      "text/plain": [
       "-6"
      ]
     },
     "execution_count": 51,
     "metadata": {},
     "output_type": "execute_result"
    }
   ],
   "source": [
    "ndviGrowth10 = getChange(aug28ndviscore10, aug23ndviscore10)\n",
    "ndviGrowth10"
   ]
  },
  {
   "cell_type": "code",
   "execution_count": 52,
   "metadata": {},
   "outputs": [
    {
     "data": {
      "text/plain": [
       "0"
      ]
     },
     "execution_count": 52,
     "metadata": {},
     "output_type": "execute_result"
    }
   ],
   "source": [
    "ndwiGrowth10 = getChange(aug28ndwiscore10, aug23ndwiscore10)\n",
    "ndwiGrowth10"
   ]
  },
  {
   "cell_type": "code",
   "execution_count": 54,
   "metadata": {
    "scrolled": false
   },
   "outputs": [
    {
     "data": {
      "text/plain": [
       "Text(0.5, 1.0, 'Aug28 NDVI')"
      ]
     },
     "execution_count": 54,
     "metadata": {},
     "output_type": "execute_result"
    },
    {
     "data": {
      "image/png": "[encoded data removed]",
      "text/plain": [
       "<Figure size 720x720 with 4 Axes>"
      ]
     },
     "metadata": {
      "needs_background": "light"
     },
     "output_type": "display_data"
    }
   ],
   "source": [
    "f = plt.figure(figsize=(10,10))\n",
    "\n",
    "ax = f.add_subplot(121)\n",
    "aug23_10.plot('meanNDVI', cmap = 'RdYlGn', ax=ax, legend=True)\n",
    "plt.axis('off')\n",
    "plt.title('Aug23 NDVI')\n",
    "\n",
    "ax2 = f.add_subplot(122)\n",
    "plt.axis('off')\n",
    "aug28_10.plot('meanNDVI', cmap = 'RdYlGn', ax=ax2, legend=True)\n",
    "plt.title('Aug28 NDVI')"
   ]
  },
  {
   "cell_type": "code",
   "execution_count": 55,
   "metadata": {},
   "outputs": [
    {
     "data": {
      "text/plain": [
       "Text(0.5, 1.0, 'Aug28 NDWI')"
      ]
     },
     "execution_count": 55,
     "metadata": {},
     "output_type": "execute_result"
    },
    {
     "data": {
      "image/png": "[encoded data removed]",
      "text/plain": [
       "<Figure size 720x720 with 4 Axes>"
      ]
     },
     "metadata": {
      "needs_background": "light"
     },
     "output_type": "display_data"
    }
   ],
   "source": [
    "f = plt.figure(figsize=(10,10))\n",
    "\n",
    "ax = f.add_subplot(121)\n",
    "aug23_10.plot('meanNDWI', cmap = 'Blues', ax=ax, legend=True)\n",
    "plt.axis('off')\n",
    "plt.title('Aug23 NDWI')\n",
    "\n",
    "ax2 = f.add_subplot(122)\n",
    "plt.axis('off')\n",
    "aug28_10.plot('meanNDWI', cmap = 'Blues', ax=ax2, legend=True)\n",
    "plt.title('Aug28 NDWI')"
   ]
  },
  {
   "cell_type": "code",
   "execution_count": 56,
   "metadata": {},
   "outputs": [
    {
     "ename": "ValueError",
     "evalue": "Cannot describe a DataFrame without columns",
     "output_type": "error",
     "traceback": [
      "\u001b[1;31m---------------------------------------------------------------------------\u001b[0m",
      "\u001b[1;31mValueError\u001b[0m                                Traceback (most recent call last)",
      "\u001b[1;32m<ipython-input-56-75428c1646bd>\u001b[0m in \u001b[0;36m<module>\u001b[1;34m\u001b[0m\n\u001b[1;32m----> 1\u001b[1;33m \u001b[0maug23\u001b[0m\u001b[1;33m.\u001b[0m\u001b[0mdescribe\u001b[0m\u001b[1;33m(\u001b[0m\u001b[1;33m)\u001b[0m\u001b[1;33m\u001b[0m\u001b[1;33m\u001b[0m\u001b[0m\n\u001b[0m",
      "\u001b[1;32m~\\Anaconda3\\envs\\antpod\\lib\\site-packages\\pandas\\core\\generic.py\u001b[0m in \u001b[0;36mdescribe\u001b[1;34m(self, percentiles, include, exclude, datetime_is_numeric)\u001b[0m\n\u001b[0;32m   9963\u001b[0m         \"\"\"\n\u001b[0;32m   9964\u001b[0m         \u001b[1;32mif\u001b[0m \u001b[0mself\u001b[0m\u001b[1;33m.\u001b[0m\u001b[0mndim\u001b[0m \u001b[1;33m==\u001b[0m \u001b[1;36m2\u001b[0m \u001b[1;32mand\u001b[0m \u001b[0mself\u001b[0m\u001b[1;33m.\u001b[0m\u001b[0mcolumns\u001b[0m\u001b[1;33m.\u001b[0m\u001b[0msize\u001b[0m \u001b[1;33m==\u001b[0m \u001b[1;36m0\u001b[0m\u001b[1;33m:\u001b[0m\u001b[1;33m\u001b[0m\u001b[1;33m\u001b[0m\u001b[0m\n\u001b[1;32m-> 9965\u001b[1;33m             \u001b[1;32mraise\u001b[0m \u001b[0mValueError\u001b[0m\u001b[1;33m(\u001b[0m\u001b[1;34m\"Cannot describe a DataFrame without columns\"\u001b[0m\u001b[1;33m)\u001b[0m\u001b[1;33m\u001b[0m\u001b[1;33m\u001b[0m\u001b[0m\n\u001b[0m\u001b[0;32m   9966\u001b[0m \u001b[1;33m\u001b[0m\u001b[0m\n\u001b[0;32m   9967\u001b[0m         \u001b[1;32mif\u001b[0m \u001b[0mpercentiles\u001b[0m \u001b[1;32mis\u001b[0m \u001b[1;32mnot\u001b[0m \u001b[1;32mNone\u001b[0m\u001b[1;33m:\u001b[0m\u001b[1;33m\u001b[0m\u001b[1;33m\u001b[0m\u001b[0m\n",
      "\u001b[1;31mValueError\u001b[0m: Cannot describe a DataFrame without columns"
     ]
    }
   ],
   "source": [
    "aug23_10.describe()"
   ]
  },
  {
   "cell_type": "code",
   "execution_count": 57,
   "metadata": {
    "scrolled": true
   },
   "outputs": [
    {
     "data": {
      "text/html": [
       "<div>\n",
       "<style scoped>\n",
       "    .dataframe tbody tr th:only-of-type {\n",
       "        vertical-align: middle;\n",
       "    }\n",
       "\n",
       "    .dataframe tbody tr th {\n",
       "        vertical-align: top;\n",
       "    }\n",
       "\n",
       "    .dataframe thead th {\n",
       "        text-align: right;\n",
       "    }\n",
       "</style>\n",
       "<table border=\"1\" class=\"dataframe\">\n",
       "  <thead>\n",
       "    <tr style=\"text-align: right;\">\n",
       "      <th></th>\n",
       "      <th>meanNDVI</th>\n",
       "      <th>meanNDWI</th>\n",
       "    </tr>\n",
       "  </thead>\n",
       "  <tbody>\n",
       "    <tr>\n",
       "      <th>count</th>\n",
       "      <td>35.000000</td>\n",
       "      <td>35.000000</td>\n",
       "    </tr>\n",
       "    <tr>\n",
       "      <th>mean</th>\n",
       "      <td>0.505193</td>\n",
       "      <td>-0.533993</td>\n",
       "    </tr>\n",
       "    <tr>\n",
       "      <th>std</th>\n",
       "      <td>0.166511</td>\n",
       "      <td>0.085038</td>\n",
       "    </tr>\n",
       "    <tr>\n",
       "      <th>min</th>\n",
       "      <td>0.265155</td>\n",
       "      <td>-0.674899</td>\n",
       "    </tr>\n",
       "    <tr>\n",
       "      <th>25%</th>\n",
       "      <td>0.352142</td>\n",
       "      <td>-0.616438</td>\n",
       "    </tr>\n",
       "    <tr>\n",
       "      <th>50%</th>\n",
       "      <td>0.493658</td>\n",
       "      <td>-0.535338</td>\n",
       "    </tr>\n",
       "    <tr>\n",
       "      <th>75%</th>\n",
       "      <td>0.667386</td>\n",
       "      <td>-0.458876</td>\n",
       "    </tr>\n",
       "    <tr>\n",
       "      <th>max</th>\n",
       "      <td>0.767166</td>\n",
       "      <td>-0.405168</td>\n",
       "    </tr>\n",
       "  </tbody>\n",
       "</table>\n",
       "</div>"
      ],
      "text/plain": [
       "        meanNDVI   meanNDWI\n",
       "count  35.000000  35.000000\n",
       "mean    0.505193  -0.533993\n",
       "std     0.166511   0.085038\n",
       "min     0.265155  -0.674899\n",
       "25%     0.352142  -0.616438\n",
       "50%     0.493658  -0.535338\n",
       "75%     0.667386  -0.458876\n",
       "max     0.767166  -0.405168"
      ]
     },
     "execution_count": 57,
     "metadata": {},
     "output_type": "execute_result"
    }
   ],
   "source": [
    "aug28_10.describe()"
   ]
  },
  {
   "cell_type": "markdown",
   "metadata": {},
   "source": [
    "ACRE 20"
   ]
  },
  {
   "cell_type": "code",
   "execution_count": 5,
   "metadata": {},
   "outputs": [],
   "source": [
    "aug23_20 = gpd.GeoDataFrame()\n",
    "aug28_20 = gpd.GeoDataFrame()\n",
    "aug23_20 = r23ndvi.assignMean(acre20.copy())\n",
    "aug23_20 = r23ndwi.assignMean(aug23_20)\n",
    "aug28_20 = r28ndvi.assignMean(acre20.copy())\n",
    "aug28_20 = r28ndwi.assignMean(aug28_20)"
   ]
  },
  {
   "cell_type": "code",
   "execution_count": 15,
   "metadata": {},
   "outputs": [
    {
     "data": {
      "text/plain": [
       "24.286"
      ]
     },
     "execution_count": 15,
     "metadata": {},
     "output_type": "execute_result"
    }
   ],
   "source": [
    "aug23ndviscore20 = getScore(aug23_20, 'meanNDVI', 0.45)\n",
    "aug23ndviscore20"
   ]
  },
  {
   "cell_type": "code",
   "execution_count": 19,
   "metadata": {},
   "outputs": [
    {
     "data": {
      "text/plain": [
       "10.0"
      ]
     },
     "execution_count": 19,
     "metadata": {},
     "output_type": "execute_result"
    }
   ],
   "source": [
    "aug23ndwiscore20 = getScore(aug23_20, 'meanNDWI', -0.40)\n",
    "aug23ndwiscore20"
   ]
  },
  {
   "cell_type": "code",
   "execution_count": 17,
   "metadata": {},
   "outputs": [
    {
     "data": {
      "text/plain": [
       "5.714"
      ]
     },
     "execution_count": 17,
     "metadata": {},
     "output_type": "execute_result"
    }
   ],
   "source": [
    "aug28ndviscore20 = getScore(aug28_20, 'meanNDVI', 0.45)\n",
    "aug28ndviscore20"
   ]
  },
  {
   "cell_type": "code",
   "execution_count": 20,
   "metadata": {},
   "outputs": [
    {
     "data": {
      "text/plain": [
       "21.429"
      ]
     },
     "execution_count": 20,
     "metadata": {},
     "output_type": "execute_result"
    }
   ],
   "source": [
    "aug28ndwiscore20 = getScore(aug28_20, 'meanNDWI', -0.40)\n",
    "aug28ndwiscore20"
   ]
  },
  {
   "cell_type": "code",
   "execution_count": 14,
   "metadata": {
    "scrolled": true
   },
   "outputs": [
    {
     "data": {
      "text/plain": [
       "Text(0.5, 1.0, 'Aug28 NDVI')"
      ]
     },
     "execution_count": 14,
     "metadata": {},
     "output_type": "execute_result"
    },
    {
     "data": {
      "image/png": "[encoded data removed]",
      "text/plain": [
       "<Figure size 720x720 with 4 Axes>"
      ]
     },
     "metadata": {
      "needs_background": "light"
     },
     "output_type": "display_data"
    }
   ],
   "source": [
    "f = plt.figure(figsize=(10,10))\n",
    "\n",
    "ax = f.add_subplot(121)\n",
    "aug23_20.plot('meanNDVI', cmap = 'RdYlGn', ax=ax, legend=True)\n",
    "plt.axis('off')\n",
    "plt.title('Aug23 NDVI')\n",
    "\n",
    "ax2 = f.add_subplot(122)\n",
    "plt.axis('off')\n",
    "aug28_20.plot('meanNDVI', cmap = 'RdYlGn', ax=ax2, legend=True)\n",
    "plt.title('Aug28 NDVI')"
   ]
  },
  {
   "cell_type": "code",
   "execution_count": 18,
   "metadata": {
    "scrolled": false
   },
   "outputs": [
    {
     "data": {
      "text/plain": [
       "Text(0.5, 1.0, 'Aug28 NDWI')"
      ]
     },
     "execution_count": 18,
     "metadata": {},
     "output_type": "execute_result"
    },
    {
     "data": {
      "image/png": "[encoded data removed]",
      "text/plain": [
       "<Figure size 720x720 with 4 Axes>"
      ]
     },
     "metadata": {
      "needs_background": "light"
     },
     "output_type": "display_data"
    }
   ],
   "source": [
    "f = plt.figure(figsize=(10,10))\n",
    "\n",
    "ax = f.add_subplot(121)\n",
    "aug23_20.plot('meanNDWI', cmap = 'Blues', ax=ax, legend=True)\n",
    "plt.axis('off')\n",
    "plt.title('Aug23 NDWI')\n",
    "\n",
    "ax2 = f.add_subplot(122)\n",
    "plt.axis('off')\n",
    "aug28_20.plot('meanNDWI', cmap = 'Blues', ax=ax2, legend=True)\n",
    "plt.title('Aug28 NDWI')"
   ]
  },
  {
   "cell_type": "code",
   "execution_count": 21,
   "metadata": {},
   "outputs": [
    {
     "data": {
      "text/html": [
       "<div>\n",
       "<style scoped>\n",
       "    .dataframe tbody tr th:only-of-type {\n",
       "        vertical-align: middle;\n",
       "    }\n",
       "\n",
       "    .dataframe tbody tr th {\n",
       "        vertical-align: top;\n",
       "    }\n",
       "\n",
       "    .dataframe thead th {\n",
       "        text-align: right;\n",
       "    }\n",
       "</style>\n",
       "<table border=\"1\" class=\"dataframe\">\n",
       "  <thead>\n",
       "    <tr style=\"text-align: right;\">\n",
       "      <th></th>\n",
       "      <th>meanNDVI</th>\n",
       "      <th>meanNDWI</th>\n",
       "    </tr>\n",
       "  </thead>\n",
       "  <tbody>\n",
       "    <tr>\n",
       "      <th>count</th>\n",
       "      <td>70.000000</td>\n",
       "      <td>70.000000</td>\n",
       "    </tr>\n",
       "    <tr>\n",
       "      <th>mean</th>\n",
       "      <td>0.386455</td>\n",
       "      <td>-0.466091</td>\n",
       "    </tr>\n",
       "    <tr>\n",
       "      <th>std</th>\n",
       "      <td>0.085766</td>\n",
       "      <td>0.046105</td>\n",
       "    </tr>\n",
       "    <tr>\n",
       "      <th>min</th>\n",
       "      <td>0.207701</td>\n",
       "      <td>-0.549916</td>\n",
       "    </tr>\n",
       "    <tr>\n",
       "      <th>25%</th>\n",
       "      <td>0.325282</td>\n",
       "      <td>-0.497857</td>\n",
       "    </tr>\n",
       "    <tr>\n",
       "      <th>50%</th>\n",
       "      <td>0.367604</td>\n",
       "      <td>-0.468534</td>\n",
       "    </tr>\n",
       "    <tr>\n",
       "      <th>75%</th>\n",
       "      <td>0.438470</td>\n",
       "      <td>-0.436910</td>\n",
       "    </tr>\n",
       "    <tr>\n",
       "      <th>max</th>\n",
       "      <td>0.552887</td>\n",
       "      <td>-0.331309</td>\n",
       "    </tr>\n",
       "  </tbody>\n",
       "</table>\n",
       "</div>"
      ],
      "text/plain": [
       "        meanNDVI   meanNDWI\n",
       "count  70.000000  70.000000\n",
       "mean    0.386455  -0.466091\n",
       "std     0.085766   0.046105\n",
       "min     0.207701  -0.549916\n",
       "25%     0.325282  -0.497857\n",
       "50%     0.367604  -0.468534\n",
       "75%     0.438470  -0.436910\n",
       "max     0.552887  -0.331309"
      ]
     },
     "execution_count": 21,
     "metadata": {},
     "output_type": "execute_result"
    }
   ],
   "source": [
    "aug23_20.describe()"
   ]
  },
  {
   "cell_type": "code",
   "execution_count": 23,
   "metadata": {
    "scrolled": true
   },
   "outputs": [
    {
     "data": {
      "text/html": [
       "<div>\n",
       "<style scoped>\n",
       "    .dataframe tbody tr th:only-of-type {\n",
       "        vertical-align: middle;\n",
       "    }\n",
       "\n",
       "    .dataframe tbody tr th {\n",
       "        vertical-align: top;\n",
       "    }\n",
       "\n",
       "    .dataframe thead th {\n",
       "        text-align: right;\n",
       "    }\n",
       "</style>\n",
       "<table border=\"1\" class=\"dataframe\">\n",
       "  <thead>\n",
       "    <tr style=\"text-align: right;\">\n",
       "      <th></th>\n",
       "      <th>meanNDVI</th>\n",
       "      <th>meanNDWI</th>\n",
       "    </tr>\n",
       "  </thead>\n",
       "  <tbody>\n",
       "    <tr>\n",
       "      <th>count</th>\n",
       "      <td>70.000000</td>\n",
       "      <td>70.000000</td>\n",
       "    </tr>\n",
       "    <tr>\n",
       "      <th>mean</th>\n",
       "      <td>0.311663</td>\n",
       "      <td>-0.437513</td>\n",
       "    </tr>\n",
       "    <tr>\n",
       "      <th>std</th>\n",
       "      <td>0.079283</td>\n",
       "      <td>0.049066</td>\n",
       "    </tr>\n",
       "    <tr>\n",
       "      <th>min</th>\n",
       "      <td>0.215011</td>\n",
       "      <td>-0.537638</td>\n",
       "    </tr>\n",
       "    <tr>\n",
       "      <th>25%</th>\n",
       "      <td>0.241920</td>\n",
       "      <td>-0.477212</td>\n",
       "    </tr>\n",
       "    <tr>\n",
       "      <th>50%</th>\n",
       "      <td>0.287149</td>\n",
       "      <td>-0.428556</td>\n",
       "    </tr>\n",
       "    <tr>\n",
       "      <th>75%</th>\n",
       "      <td>0.391102</td>\n",
       "      <td>-0.404766</td>\n",
       "    </tr>\n",
       "    <tr>\n",
       "      <th>max</th>\n",
       "      <td>0.481529</td>\n",
       "      <td>-0.333798</td>\n",
       "    </tr>\n",
       "  </tbody>\n",
       "</table>\n",
       "</div>"
      ],
      "text/plain": [
       "        meanNDVI   meanNDWI\n",
       "count  70.000000  70.000000\n",
       "mean    0.311663  -0.437513\n",
       "std     0.079283   0.049066\n",
       "min     0.215011  -0.537638\n",
       "25%     0.241920  -0.477212\n",
       "50%     0.287149  -0.428556\n",
       "75%     0.391102  -0.404766\n",
       "max     0.481529  -0.333798"
      ]
     },
     "execution_count": 23,
     "metadata": {},
     "output_type": "execute_result"
    }
   ],
   "source": [
    "aug28_20.describe()"
   ]
  },
  {
   "cell_type": "code",
   "execution_count": 26,
   "metadata": {},
   "outputs": [
    {
     "data": {
      "text/plain": [
       "-76"
      ]
     },
     "execution_count": 26,
     "metadata": {},
     "output_type": "execute_result"
    }
   ],
   "source": [
    "ndviGrowth20 = getChange(aug28ndviscore20, aug23ndviscore20)\n",
    "ndviGrowth20"
   ]
  },
  {
   "cell_type": "code",
   "execution_count": 27,
   "metadata": {},
   "outputs": [
    {
     "data": {
      "text/plain": [
       "114"
      ]
     },
     "execution_count": 27,
     "metadata": {},
     "output_type": "execute_result"
    }
   ],
   "source": [
    "ndwiGrowth = getChange(aug28ndwiscore20, aug23ndwiscore20)\n",
    "ndwiGrowth"
   ]
  }
 ],
 "metadata": {
  "kernelspec": {
   "display_name": "Python 3",
   "language": "python",
   "name": "python3"
  },
  "language_info": {
   "codemirror_mode": {
    "name": "ipython",
    "version": 3
   },
   "file_extension": ".py",
   "mimetype": "text/x-python",
   "name": "python",
   "nbconvert_exporter": "python",
   "pygments_lexer": "ipython3",
   "version": "3.8.5"
  }
 },
 "nbformat": 4,
 "nbformat_minor": 4
}
