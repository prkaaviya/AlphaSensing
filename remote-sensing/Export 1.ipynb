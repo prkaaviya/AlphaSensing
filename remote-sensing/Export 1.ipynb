{
 "cells": [
  {
   "cell_type": "code",
   "execution_count": 56,
   "metadata": {},
   "outputs": [],
   "source": [
    "import ee\n",
    "import sys\n",
    "sys.path.insert(1,'s:/alpha/apGIS-0.4.0/')\n",
    "from apgis import *\n",
    "from apgis.gisgeodf import *\n",
    "from apgis.apresource import *\n",
    "from apgis.gisgeodf import *\n",
    "from apgis.gisraster import *\n",
    "from apgis.geespatial import *\n",
    "from apgis.apjsonio import *\n",
    "import contextily as ctx\n",
    "from apgis.apresource import *\n",
    "import matplotlib.pyplot as plt"
   ]
  },
  {
   "cell_type": "code",
   "execution_count": 57,
   "metadata": {},
   "outputs": [],
   "source": [
    "eeInitialize(internalConfig=True)"
   ]
  },
  {
   "cell_type": "code",
   "execution_count": 58,
   "metadata": {},
   "outputs": [],
   "source": [
    "res1 = Resource(remotefile=\"mettupalayam1_S.geojson\")\n",
    "res2 = Resource(remotefile=\"mettupalayam2_S.geojson\")\n",
    "geo1 = res1.field.eeROI\n",
    "geo2 = res2.field.eeROI"
   ]
  },
  {
   "cell_type": "code",
   "execution_count": 59,
   "metadata": {},
   "outputs": [],
   "source": [
    "s2res1 = ee.ImageCollection(\"COPERNICUS/S2_SR\").filterDate(\"2020-08-01\", \"2020-08-31\").filterBounds(geo1)\n",
    "s2res2 = ee.ImageCollection(\"COPERNICUS/S2_SR\").filterDate(\"2020-08-01\", \"2020-08-31\").filterBounds(geo2)"
   ]
  },
  {
   "cell_type": "code",
   "execution_count": 79,
   "metadata": {},
   "outputs": [],
   "source": [
    "rq = RequestList([\"NDVI\", \"NDMI\"], \"L2A\")"
   ]
  },
  {
   "cell_type": "code",
   "execution_count": null,
   "metadata": {},
   "outputs": [],
   "source": [
    "Resource.showAvailable()"
   ]
  },
  {
   "cell_type": "code",
   "execution_count": null,
   "metadata": {},
   "outputs": [],
   "source": []
  },
  {
   "cell_type": "code",
   "execution_count": null,
   "metadata": {},
   "outputs": [],
   "source": [
    "from apgis.geeexport import Export\n",
    "tasks1 = Export.ImageCollection.toDrive(imageCol=s2res1, requestList=rq, field=res1.field, folder=\"Batch Export 2\")\n",
    "# tasks2 = Export.ImageCollection.toDrive(imageCol=s2res2, requestList=rq, field=res2.field, folder=\"Batch Export 2\")"
   ]
  },
  {
   "cell_type": "code",
   "execution_count": null,
   "metadata": {},
   "outputs": [],
   "source": [
    "# for task in tasks1:\n",
    "#     for t in task:\n",
    "#         t.start()\n",
    "        \n",
    "# for task in tasks2:\n",
    "#     for t in task:\n",
    "#         t.start()"
   ]
  },
  {
   "cell_type": "code",
   "execution_count": null,
   "metadata": {},
   "outputs": [],
   "source": [
    "from glob import glob"
   ]
  },
  {
   "cell_type": "code",
   "execution_count": null,
   "metadata": {},
   "outputs": [],
   "source": [
    "files3 = glob(\"s:\\\\alpha\\\\remote-sensing\\\\imagery\\\\exports\\\\*435*-08-03.tif\")\n",
    "files8 = glob(\"s:\\\\alpha\\\\remote-sensing\\\\imagery\\\\exports\\\\*435*08-08.tif\")\n",
    "files13 = glob(\"s:\\\\alpha\\\\remote-sensing\\\\imagery\\\\exports\\\\*435*08-13.tif\")\n",
    "files18 = glob(\"s:\\\\alpha\\\\remote-sensing\\\\imagery\\\\exports\\\\*435*-08-18.tif\")\n",
    "files23 = glob(\"s:\\\\alpha\\\\remote-sensing\\\\imagery\\\\exports\\\\*435*-08-23.tif\")\n",
    "files28 = glob(\"s:\\\\alpha\\\\remote-sensing\\\\imagery\\\\exports\\\\*435*-08-28.tif\")"
   ]
  },
  {
   "cell_type": "code",
   "execution_count": null,
   "metadata": {},
   "outputs": [],
   "source": [
    "# import json\n",
    "# json.dumps(res1.geojson.geojson)\n",
    "\n",
    "# json.dumps(res2.geojson.geojson)"
   ]
  },
  {
   "cell_type": "code",
   "execution_count": null,
   "metadata": {},
   "outputs": [],
   "source": [
    "import numpy as np\n",
    "import pandas as pd\n",
    "farm1 = makeGridDF(\"farm1.geojson\", \"epsg:4326\", spacing=0.0003)\n",
    "farm1 = dropColumns(farm1, ['antpod', 'request'])\n",
    "farm2 = makeGridDF(\"farm2.geojson\", \"epsg:4326\", spacing=0.0003)\n",
    "farm2 = dropColumns(farm2, ['antpod', 'request'])\n",
    "\n",
    "r = Raster(\"S:\\\\alpha\\\\remote-sensing\\\\imagery\\\\exports\\\\AP-demo000-1494dfd6f29afbc31ddf4e35aeb61c83-930-L2A-NDMI-2020-08-08.tif\")\n",
    "x = r.assignMean(farm1)\n",
    "r = Raster(\"S:\\\\alpha\\\\remote-sensing\\\\imagery\\\\exports\\\\AP-demo000-1494dfd6f29afbc31ddf4e35aeb61c83-930-L2A-NDVI-2020-08-08.tif\")\n",
    "x = r.assignMean(x)"
   ]
  },
  {
   "cell_type": "code",
   "execution_count": null,
   "metadata": {},
   "outputs": [],
   "source": []
  },
  {
   "cell_type": "code",
   "execution_count": null,
   "metadata": {},
   "outputs": [],
   "source": []
  },
  {
   "cell_type": "code",
   "execution_count": null,
   "metadata": {},
   "outputs": [],
   "source": [
    "acre10 = makeGridDF(\"acre10.geojson\", \"epsg:4326\", spacing=0.0003)\n",
    "r8ndvi = Raster(files8[1])\n",
    "r13ndvi = Raster(files13[1])\n",
    "r18ndvi = Raster(files18[1])\n",
    "r23ndvi = Raster(files23[1])\n",
    "r28ndvi = Raster(files28[1])\n",
    "\n",
    "aug8 = gpd.GeoDataFrame()\n",
    "# aug13 = gpd.GeoDataFrame()\n",
    "# aug18 = gpd.GeoDataFrame()\n",
    "# aug23 = gpd.GeoDataFrame()\n",
    "# aug28 = gpd.GeoDataFrame()\n",
    "\n",
    "aug8 = r8ndvi.assignMean(acre10.copy())\n",
    "# # aug8 = r23ndwi.assignMean(aug8)\n",
    "# aug13 = r13ndvi.assignMean(acre10.copy())\n",
    "# # aug13 = r28ndwi.assignMean(aug13)\n",
    "# aug18 = r18ndvi.assignMean(acre10.copy())\n",
    "# # aug18 = r23ndwi.assignMean(aug18)\n",
    "# aug23 = r23ndvi.assignMean(acre10.copy())\n",
    "# # aug23 = r28ndwi.assignMean(aug23)\n",
    "# aug28 = r28ndvi.assignMean(acre10.copy())\n",
    "# # aug28 = r23ndwi.assignMean(aug28)"
   ]
  },
  {
   "cell_type": "code",
   "execution_count": 71,
   "metadata": {},
   "outputs": [
    {
     "data": {
      "text/html": [
       "<div>\n",
       "<style scoped>\n",
       "    .dataframe tbody tr th:only-of-type {\n",
       "        vertical-align: middle;\n",
       "    }\n",
       "\n",
       "    .dataframe tbody tr th {\n",
       "        vertical-align: top;\n",
       "    }\n",
       "\n",
       "    .dataframe thead th {\n",
       "        text-align: right;\n",
       "    }\n",
       "</style>\n",
       "<table border=\"1\" class=\"dataframe\">\n",
       "  <thead>\n",
       "    <tr style=\"text-align: right;\">\n",
       "      <th></th>\n",
       "      <th>geometry</th>\n",
       "    </tr>\n",
       "  </thead>\n",
       "  <tbody>\n",
       "    <tr>\n",
       "      <th>0</th>\n",
       "      <td>POLYGON ((80.05419 12.75933, 80.05419 12.75925...</td>\n",
       "    </tr>\n",
       "    <tr>\n",
       "      <th>1</th>\n",
       "      <td>POLYGON ((80.05415 12.75925, 80.05419 12.75925...</td>\n",
       "    </tr>\n",
       "    <tr>\n",
       "      <th>2</th>\n",
       "      <td>POLYGON ((80.05403 12.75895, 80.05419 12.75895...</td>\n",
       "    </tr>\n",
       "    <tr>\n",
       "      <th>3</th>\n",
       "      <td>POLYGON ((80.05391 12.75865, 80.05419 12.75865...</td>\n",
       "    </tr>\n",
       "    <tr>\n",
       "      <th>4</th>\n",
       "      <td>POLYGON ((80.05449 12.75982, 80.05449 12.75955...</td>\n",
       "    </tr>\n",
       "    <tr>\n",
       "      <th>...</th>\n",
       "      <td>...</td>\n",
       "    </tr>\n",
       "    <tr>\n",
       "      <th>174</th>\n",
       "      <td>POLYGON ((80.06131 12.75955, 80.06109 12.75955...</td>\n",
       "    </tr>\n",
       "    <tr>\n",
       "      <th>175</th>\n",
       "      <td>POLYGON ((80.06109 12.75955, 80.06131 12.75955...</td>\n",
       "    </tr>\n",
       "    <tr>\n",
       "      <th>176</th>\n",
       "      <td>POLYGON ((80.06109 12.75925, 80.06125 12.75925...</td>\n",
       "    </tr>\n",
       "    <tr>\n",
       "      <th>177</th>\n",
       "      <td>POLYGON ((80.06109 12.75895, 80.06119 12.75895...</td>\n",
       "    </tr>\n",
       "    <tr>\n",
       "      <th>178</th>\n",
       "      <td>POLYGON ((80.06109 12.75865, 80.06113 12.75865...</td>\n",
       "    </tr>\n",
       "  </tbody>\n",
       "</table>\n",
       "<p>179 rows × 1 columns</p>\n",
       "</div>"
      ],
      "text/plain": [
       "                                              geometry\n",
       "0    POLYGON ((80.05419 12.75933, 80.05419 12.75925...\n",
       "1    POLYGON ((80.05415 12.75925, 80.05419 12.75925...\n",
       "2    POLYGON ((80.05403 12.75895, 80.05419 12.75895...\n",
       "3    POLYGON ((80.05391 12.75865, 80.05419 12.75865...\n",
       "4    POLYGON ((80.05449 12.75982, 80.05449 12.75955...\n",
       "..                                                 ...\n",
       "174  POLYGON ((80.06131 12.75955, 80.06109 12.75955...\n",
       "175  POLYGON ((80.06109 12.75955, 80.06131 12.75955...\n",
       "176  POLYGON ((80.06109 12.75925, 80.06125 12.75925...\n",
       "177  POLYGON ((80.06109 12.75895, 80.06119 12.75895...\n",
       "178  POLYGON ((80.06109 12.75865, 80.06113 12.75865...\n",
       "\n",
       "[179 rows x 1 columns]"
      ]
     },
     "execution_count": 71,
     "metadata": {},
     "output_type": "execute_result"
    }
   ],
   "source": [
    "farm1 = makeGridDF(\"farm1.geojson\", \"epsg:4326\", spacing=0.0003)\n",
    "farm1 = dropColumns(farm1, ['antpod', 'request'])\n",
    "farm1"
   ]
  },
  {
   "cell_type": "code",
   "execution_count": 72,
   "metadata": {},
   "outputs": [],
   "source": [
    "x1 = gpd.GeoDataFrame()\n",
    "x2 = gpd.GeoDataFrame()\n",
    "# x3 = gpd.GeoDataFrame()\n",
    "# x4 = gpd.GeoDataFrame()\n",
    "# x5 = gpd.GeoDataFrame()"
   ]
  },
  {
   "cell_type": "code",
   "execution_count": 73,
   "metadata": {},
   "outputs": [],
   "source": [
    "r1 = Raster(\"S:\\\\alpha\\\\remote-sensing\\\\imagery\\\\exports\\\\AP-demo000-1494dfd6f29afbc31ddf4e35aeb61c83-930-L2A-NDVI-2020-08-08.tif\")\n",
    "x1 = r.assignMean(farm1.copy())\n",
    "r2 = Raster(\"S:\\\\alpha\\\\remote-sensing\\\\imagery\\\\exports\\\\AP-demo000-1494dfd6f29afbc31ddf4e35aeb61c83-930-L2A-NDVI-2020-08-13.tif\")\n",
    "x2 = r.assignMean(farm1.copy())\n",
    "r3 = Raster(\"S:\\\\alpha\\\\remote-sensing\\\\imagery\\\\exports\\\\AP-demo000-1494dfd6f29afbc31ddf4e35aeb61c83-930-L2A-NDVI-2020-08-18.tif\")\n",
    "x3 = r.assignMean(farm1.copy())\n",
    "r4 = Raster(\"S:\\\\alpha\\\\remote-sensing\\\\imagery\\\\exports\\\\AP-demo000-1494dfd6f29afbc31ddf4e35aeb61c83-930-L2A-NDVI-2020-08-23.tif\")\n",
    "x4 = r.assignMean(farm1.copy())\n",
    "r5 = Raster(\"S:\\\\alpha\\\\remote-sensing\\\\imagery\\\\exports\\\\AP-demo000-1494dfd6f29afbc31ddf4e35aeb61c83-930-L2A-NDVI-2020-08-28.tif\")\n",
    "x5 = r.assignMean(farm1.copy())\n"
   ]
  },
  {
   "cell_type": "code",
   "execution_count": 75,
   "metadata": {},
   "outputs": [
    {
     "data": {
      "text/plain": [
       "<matplotlib.axes._subplots.AxesSubplot at 0x201bd2070d0>"
      ]
     },
     "execution_count": 75,
     "metadata": {},
     "output_type": "execute_result"
    },
    {
     "data": {
      "image/png": "[encoded data removed]",
      "text/plain": [
       "<Figure size 720x720 with 2 Axes>"
      ]
     },
     "metadata": {
      "needs_background": "light"
     },
     "output_type": "display_data"
    }
   ],
   "source": [
    "r1 = Raster(\"S:\\\\alpha\\\\remote-sensing\\\\imagery\\\\exports\\\\AP-demo000-1494dfd6f29afbc31ddf4e35aeb61c83-930-L2A-NDVI-2020-08-08.tif\")\n",
    "x1 = r.assignMean(farm1.copy())\n",
    "x1.plot('meanNDMI', figsize =(10,10), cmap = 'RdYlGn', legend=True, vmin=-1, vmax=1)"
   ]
  },
  {
   "cell_type": "code",
   "execution_count": 77,
   "metadata": {},
   "outputs": [
    {
     "data": {
      "text/plain": [
       "<matplotlib.axes._subplots.AxesSubplot at 0x201bcfad280>"
      ]
     },
     "execution_count": 77,
     "metadata": {},
     "output_type": "execute_result"
    },
    {
     "data": {
      "image/png": "[encoded data removed]",
      "text/plain": [
       "<Figure size 720x720 with 2 Axes>"
      ]
     },
     "metadata": {
      "needs_background": "light"
     },
     "output_type": "display_data"
    }
   ],
   "source": [
    "r2 = Raster(\"S:\\\\alpha\\\\remote-sensing\\\\imagery\\\\exports\\\\AP-demo000-1494dfd6f29afbc31ddf4e35aeb61c83-930-L2A-NDVI-2020-08-13.tif\")\n",
    "x2 = r.assignMean(farm1.copy())\n",
    "x2.plot('meanNDMI', figsize =(10,10), cmap = 'RdYlGn', legend=True, vmin =-1, vmax=1)"
   ]
  },
  {
   "cell_type": "code",
   "execution_count": 78,
   "metadata": {},
   "outputs": [
    {
     "data": {
      "text/html": [
       "<div>\n",
       "<style scoped>\n",
       "    .dataframe tbody tr th:only-of-type {\n",
       "        vertical-align: middle;\n",
       "    }\n",
       "\n",
       "    .dataframe tbody tr th {\n",
       "        vertical-align: top;\n",
       "    }\n",
       "\n",
       "    .dataframe thead th {\n",
       "        text-align: right;\n",
       "    }\n",
       "</style>\n",
       "<table border=\"1\" class=\"dataframe\">\n",
       "  <thead>\n",
       "    <tr style=\"text-align: right;\">\n",
       "      <th></th>\n",
       "      <th>meanNDMI</th>\n",
       "      <th>geometry</th>\n",
       "    </tr>\n",
       "  </thead>\n",
       "  <tbody>\n",
       "    <tr>\n",
       "      <th>0</th>\n",
       "      <td>NaN</td>\n",
       "      <td>POLYGON ((80.05419 12.75933, 80.05419 12.75925...</td>\n",
       "    </tr>\n",
       "    <tr>\n",
       "      <th>1</th>\n",
       "      <td>0.135746</td>\n",
       "      <td>POLYGON ((80.05415 12.75925, 80.05419 12.75925...</td>\n",
       "    </tr>\n",
       "    <tr>\n",
       "      <th>2</th>\n",
       "      <td>0.155895</td>\n",
       "      <td>POLYGON ((80.05403 12.75895, 80.05419 12.75895...</td>\n",
       "    </tr>\n",
       "    <tr>\n",
       "      <th>3</th>\n",
       "      <td>NaN</td>\n",
       "      <td>POLYGON ((80.05391 12.75865, 80.05419 12.75865...</td>\n",
       "    </tr>\n",
       "    <tr>\n",
       "      <th>4</th>\n",
       "      <td>0.148867</td>\n",
       "      <td>POLYGON ((80.05449 12.75982, 80.05449 12.75955...</td>\n",
       "    </tr>\n",
       "    <tr>\n",
       "      <th>...</th>\n",
       "      <td>...</td>\n",
       "      <td>...</td>\n",
       "    </tr>\n",
       "    <tr>\n",
       "      <th>174</th>\n",
       "      <td>0.160201</td>\n",
       "      <td>POLYGON ((80.06131 12.75955, 80.06109 12.75955...</td>\n",
       "    </tr>\n",
       "    <tr>\n",
       "      <th>175</th>\n",
       "      <td>0.137107</td>\n",
       "      <td>POLYGON ((80.06109 12.75955, 80.06131 12.75955...</td>\n",
       "    </tr>\n",
       "    <tr>\n",
       "      <th>176</th>\n",
       "      <td>0.112533</td>\n",
       "      <td>POLYGON ((80.06109 12.75925, 80.06125 12.75925...</td>\n",
       "    </tr>\n",
       "    <tr>\n",
       "      <th>177</th>\n",
       "      <td>0.102177</td>\n",
       "      <td>POLYGON ((80.06109 12.75895, 80.06119 12.75895...</td>\n",
       "    </tr>\n",
       "    <tr>\n",
       "      <th>178</th>\n",
       "      <td>0.145422</td>\n",
       "      <td>POLYGON ((80.06109 12.75865, 80.06113 12.75865...</td>\n",
       "    </tr>\n",
       "  </tbody>\n",
       "</table>\n",
       "<p>179 rows × 2 columns</p>\n",
       "</div>"
      ],
      "text/plain": [
       "     meanNDMI                                           geometry\n",
       "0         NaN  POLYGON ((80.05419 12.75933, 80.05419 12.75925...\n",
       "1    0.135746  POLYGON ((80.05415 12.75925, 80.05419 12.75925...\n",
       "2    0.155895  POLYGON ((80.05403 12.75895, 80.05419 12.75895...\n",
       "3         NaN  POLYGON ((80.05391 12.75865, 80.05419 12.75865...\n",
       "4    0.148867  POLYGON ((80.05449 12.75982, 80.05449 12.75955...\n",
       "..        ...                                                ...\n",
       "174  0.160201  POLYGON ((80.06131 12.75955, 80.06109 12.75955...\n",
       "175  0.137107  POLYGON ((80.06109 12.75955, 80.06131 12.75955...\n",
       "176  0.112533  POLYGON ((80.06109 12.75925, 80.06125 12.75925...\n",
       "177  0.102177  POLYGON ((80.06109 12.75895, 80.06119 12.75895...\n",
       "178  0.145422  POLYGON ((80.06109 12.75865, 80.06113 12.75865...\n",
       "\n",
       "[179 rows x 2 columns]"
      ]
     },
     "execution_count": 78,
     "metadata": {},
     "output_type": "execute_result"
    }
   ],
   "source": [
    "x2"
   ]
  },
  {
   "cell_type": "code",
   "execution_count": null,
   "metadata": {
    "scrolled": false
   },
   "outputs": [],
   "source": [
    "x = [x1,x2,x3,x4,x5]\n",
    "for a in x:\n",
    "    a.plot('meanNDVI', figsize =(10,10), cmap = 'RdYlGn', legend=True)\n",
    "    plt.axis('off')\n",
    "    plt.title('NDVI')"
   ]
  },
  {
   "cell_type": "code",
   "execution_count": null,
   "metadata": {},
   "outputs": [],
   "source": []
  },
  {
   "cell_type": "code",
   "execution_count": null,
   "metadata": {},
   "outputs": [],
   "source": []
  },
  {
   "cell_type": "code",
   "execution_count": null,
   "metadata": {},
   "outputs": [],
   "source": []
  },
  {
   "cell_type": "code",
   "execution_count": null,
   "metadata": {},
   "outputs": [],
   "source": []
  },
  {
   "cell_type": "code",
   "execution_count": null,
   "metadata": {},
   "outputs": [],
   "source": []
  },
  {
   "cell_type": "code",
   "execution_count": null,
   "metadata": {},
   "outputs": [],
   "source": []
  },
  {
   "cell_type": "code",
   "execution_count": null,
   "metadata": {
    "scrolled": false
   },
   "outputs": [],
   "source": [
    "x.head()"
   ]
  },
  {
   "cell_type": "code",
   "execution_count": null,
   "metadata": {},
   "outputs": [],
   "source": [
    "null_columns=x.columns[x.isnull().any()]\n",
    "null_columns"
   ]
  },
  {
   "cell_type": "code",
   "execution_count": null,
   "metadata": {},
   "outputs": [],
   "source": [
    "df = pd.DataFrame(x.drop(columns='geometry'))\n",
    "df"
   ]
  },
  {
   "cell_type": "code",
   "execution_count": null,
   "metadata": {
    "scrolled": false
   },
   "outputs": [],
   "source": [
    "df = df.astype(float)\n",
    "df = df.interpolate(method='linear', axis=0).ffill().bfill()\n",
    "df"
   ]
  },
  {
   "cell_type": "code",
   "execution_count": null,
   "metadata": {},
   "outputs": [],
   "source": [
    "x.update(df)"
   ]
  },
  {
   "cell_type": "code",
   "execution_count": null,
   "metadata": {
    "scrolled": true
   },
   "outputs": [],
   "source": [
    "x"
   ]
  },
  {
   "cell_type": "code",
   "execution_count": null,
   "metadata": {},
   "outputs": [],
   "source": [
    "x.describe()"
   ]
  },
  {
   "cell_type": "code",
   "execution_count": null,
   "metadata": {},
   "outputs": [],
   "source": [
    "x.loc[156]"
   ]
  },
  {
   "cell_type": "code",
   "execution_count": null,
   "metadata": {
    "scrolled": true
   },
   "outputs": [],
   "source": [
    "x.loc[157]"
   ]
  },
  {
   "cell_type": "code",
   "execution_count": null,
   "metadata": {},
   "outputs": [],
   "source": [
    "x.loc[158]"
   ]
  },
  {
   "cell_type": "code",
   "execution_count": null,
   "metadata": {},
   "outputs": [],
   "source": []
  },
  {
   "cell_type": "code",
   "execution_count": null,
   "metadata": {
    "scrolled": true
   },
   "outputs": [],
   "source": [
    "print(df[df[\"meanNDMI\"].isnull()][null_columns])"
   ]
  },
  {
   "cell_type": "code",
   "execution_count": null,
   "metadata": {
    "scrolled": true
   },
   "outputs": [],
   "source": [
    "x.iloc[157,2]"
   ]
  },
  {
   "cell_type": "code",
   "execution_count": null,
   "metadata": {},
   "outputs": [],
   "source": [
    "x.iloc[158,2]"
   ]
  },
  {
   "cell_type": "code",
   "execution_count": null,
   "metadata": {
    "scrolled": true
   },
   "outputs": [],
   "source": [
    "x.iloc[0,2]"
   ]
  },
  {
   "cell_type": "code",
   "execution_count": null,
   "metadata": {},
   "outputs": [],
   "source": [
    "x.iloc[3,2]"
   ]
  },
  {
   "cell_type": "code",
   "execution_count": null,
   "metadata": {},
   "outputs": [],
   "source": [
    "x.iloc[8,2]"
   ]
  },
  {
   "cell_type": "code",
   "execution_count": null,
   "metadata": {
    "scrolled": true
   },
   "outputs": [],
   "source": [
    "x.iloc[14,2]"
   ]
  },
  {
   "cell_type": "code",
   "execution_count": null,
   "metadata": {},
   "outputs": [],
   "source": [
    "x.iloc[21,2]"
   ]
  },
  {
   "cell_type": "code",
   "execution_count": null,
   "metadata": {
    "scrolled": true
   },
   "outputs": [],
   "source": [
    "x.iloc[1,2]"
   ]
  },
  {
   "cell_type": "code",
   "execution_count": null,
   "metadata": {},
   "outputs": [],
   "source": [
    "missing_kwds = dict(color = \"lightgrey\")"
   ]
  },
  {
   "cell_type": "code",
   "execution_count": null,
   "metadata": {
    "scrolled": true
   },
   "outputs": [],
   "source": [
    "x.plot('meanNDVI')"
   ]
  },
  {
   "cell_type": "code",
   "execution_count": null,
   "metadata": {},
   "outputs": [],
   "source": [
    "x.plot('meanNDVI')"
   ]
  },
  {
   "cell_type": "code",
   "execution_count": null,
   "metadata": {},
   "outputs": [],
   "source": [
    "x = farm2\n",
    "y = farm2\n",
    "z = farm2\n",
    "a = farm2\n",
    "b = farm2"
   ]
  },
  {
   "cell_type": "code",
   "execution_count": null,
   "metadata": {},
   "outputs": [],
   "source": [
    "for raster in files3:\n",
    "    r = Raster(raster)\n",
    "    x = r.assignMean(x)\n",
    "    output = 'farm2-' + r.day + '.csv'\n",
    "#     x = dropColumns(x, ['antpod', 'request'])\n",
    "    x.to_csv(output)"
   ]
  },
  {
   "cell_type": "code",
   "execution_count": null,
   "metadata": {},
   "outputs": [],
   "source": [
    "for raster in files8:\n",
    "    r = Raster(raster)\n",
    "    y = r.assignMean(y)\n",
    "    output = 'farm1-' + r.day + '.csv'\n",
    "    y.to_csv(output)"
   ]
  },
  {
   "cell_type": "code",
   "execution_count": null,
   "metadata": {},
   "outputs": [],
   "source": [
    "for raster in files13:\n",
    "    r = Raster(raster)\n",
    "    z = r.assignMean(z)\n",
    "    output = 'farm2-' + r.day + '.csv'\n",
    "    z.to_csv(output)"
   ]
  },
  {
   "cell_type": "code",
   "execution_count": null,
   "metadata": {},
   "outputs": [],
   "source": [
    "for raster in files18:\n",
    "    r = Raster(raster)\n",
    "    z = r.assignMean(z)\n",
    "    output = 'farm2-' + r.day + '.csv'\n",
    "    z.to_csv(output)"
   ]
  },
  {
   "cell_type": "code",
   "execution_count": null,
   "metadata": {},
   "outputs": [],
   "source": [
    "for raster in files23:\n",
    "    r = Raster(raster)\n",
    "    a = r.assignMean(z)\n",
    "    output = 'farm2-' + r.day + '.csv'\n",
    "    a.to_csv(output)"
   ]
  },
  {
   "cell_type": "code",
   "execution_count": null,
   "metadata": {},
   "outputs": [],
   "source": [
    "for raster in files28:\n",
    "    r = Raster(raster)\n",
    "    b = r.assignMean(z)\n",
    "    output = 'farm2-' + r.day + '.csv'\n",
    "    b.to_csv(output)"
   ]
  }
 ],
 "metadata": {
  "kernelspec": {
   "display_name": "Python 3",
   "language": "python",
   "name": "python3"
  },
  "language_info": {
   "codemirror_mode": {
    "name": "ipython",
    "version": 3
   },
   "file_extension": ".py",
   "mimetype": "text/x-python",
   "name": "python",
   "nbconvert_exporter": "python",
   "pygments_lexer": "ipython3",
   "version": "3.8.4"
  }
 },
 "nbformat": 4,
 "nbformat_minor": 4
}
