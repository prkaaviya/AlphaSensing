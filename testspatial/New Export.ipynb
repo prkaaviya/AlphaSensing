{
 "cells": [
  {
   "cell_type": "code",
   "execution_count": 21,
   "metadata": {},
   "outputs": [],
   "source": [
    "import ee\n",
    "import sys\n",
    "sys.path.insert(1, \"../apGIS/\")\n",
    "import apgis\n",
    "from apgis.apfield import Field\n",
    "from apgis.apgeojson import GeoJSON\n",
    "import apgis.apjsonio as apjsonio\n",
    "import apgis.geespatial as spatial"
   ]
  },
  {
   "cell_type": "code",
   "execution_count": null,
   "metadata": {},
   "outputs": [],
   "source": []
  },
  {
   "cell_type": "code",
   "execution_count": 3,
   "metadata": {},
   "outputs": [],
   "source": [
    "apgis.eeInitialize()"
   ]
  },
  {
   "cell_type": "code",
   "execution_count": 9,
   "metadata": {},
   "outputs": [],
   "source": [
    "localfileName = \"sample//f-42\"\n",
    "resource = GeoJSON(file=f\"{localfileName}.geojson\")"
   ]
  },
  {
   "cell_type": "code",
   "execution_count": null,
   "metadata": {},
   "outputs": [],
   "source": [
    "field  = Field(geojson=resource)"
   ]
  },
  {
   "cell_type": "code",
   "execution_count": 11,
   "metadata": {},
   "outputs": [],
   "source": [
    "farmData = resource.geoData"
   ]
  },
  {
   "cell_type": "code",
   "execution_count": 20,
   "metadata": {},
   "outputs": [],
   "source": [
    "farmData = resource.geoData"
   ]
  },
  {
   "cell_type": "code",
   "execution_count": 24,
   "metadata": {},
   "outputs": [],
   "source": [
    "units = [\"SQM\", \"SQKM\", \"HA\", \"ACRE\"]\n",
    "areaData = {}"
   ]
  },
  {
   "cell_type": "code",
   "execution_count": 25,
   "metadata": {},
   "outputs": [],
   "source": [
    "for unit in units:\n",
    "    area = spatial.getArea(field.eeAOI, unit)\n",
    "    areaData[unit] = area"
   ]
  },
  {
   "cell_type": "code",
   "execution_count": 26,
   "metadata": {},
   "outputs": [
    {
     "data": {
      "text/plain": [
       "{'SQM': 191095.507, 'SQKM': 0.191, 'HA': 19.11, 'ACRE': 47.221}"
      ]
     },
     "execution_count": 26,
     "metadata": {},
     "output_type": "execute_result"
    }
   ],
   "source": [
    "areaData"
   ]
  },
  {
   "cell_type": "code",
   "execution_count": 27,
   "metadata": {},
   "outputs": [],
   "source": [
    "centroid = field.centroid"
   ]
  },
  {
   "cell_type": "code",
   "execution_count": 36,
   "metadata": {},
   "outputs": [],
   "source": [
    "bbox = field.ROIBox\n",
    "polybox = field.ROI"
   ]
  },
  {
   "cell_type": "code",
   "execution_count": null,
   "metadata": {},
   "outputs": [],
   "source": []
  },
  {
   "cell_type": "code",
   "execution_count": 29,
   "metadata": {},
   "outputs": [],
   "source": [
    "farmBounds = field.AOI"
   ]
  },
  {
   "cell_type": "code",
   "execution_count": 37,
   "metadata": {},
   "outputs": [
    {
     "data": {
      "text/plain": [
       "{'area': {'SQM': 191095.507, 'SQKM': 0.191, 'HA': 19.11, 'ACRE': 47.221},\n",
       " 'centroid': [80.0929455, 12.6874165],\n",
       " 'bbox': [80.090612, 12.68446, 80.095279, 12.690373],\n",
       " 'polybox': [[80.090612, 12.68446],\n",
       "  [80.090612, 12.690373],\n",
       "  [80.095279, 12.690373],\n",
       "  [80.095279, 12.68446]],\n",
       " 'bounds': [[80.09088, 12.690373],\n",
       "  [80.090612, 12.689494],\n",
       "  [80.091009, 12.689096],\n",
       "  [80.090698, 12.687882],\n",
       "  [80.090805, 12.687778],\n",
       "  [80.090966, 12.685339],\n",
       "  [80.093799, 12.684941],\n",
       "  [80.093863, 12.68446],\n",
       "  [80.094142, 12.68446],\n",
       "  [80.094646, 12.685255],\n",
       "  [80.0947, 12.685705],\n",
       "  [80.094292, 12.686249],\n",
       "  [80.094335, 12.687129],\n",
       "  [80.094925, 12.686919],\n",
       "  [80.095279, 12.687683],\n",
       "  [80.095129, 12.687851],\n",
       "  [80.094002, 12.688468],\n",
       "  [80.093316, 12.688699],\n",
       "  [80.092704, 12.689264],\n",
       "  [80.091739, 12.689536],\n",
       "  [80.091385, 12.690311],\n",
       "  [80.09088, 12.690373]]}"
      ]
     },
     "execution_count": 37,
     "metadata": {},
     "output_type": "execute_result"
    }
   ],
   "source": [
    "meta = {\"area\":areaData, \"centroid\": centroid, \"bbox\": bbox, \"polybox\":polybox, \"bounds\": farmBounds}\n",
    "meta"
   ]
  },
  {
   "cell_type": "code",
   "execution_count": 38,
   "metadata": {},
   "outputs": [],
   "source": [
    "farmData['properties'][\"farmData\"] = meta"
   ]
  },
  {
   "cell_type": "code",
   "execution_count": null,
   "metadata": {},
   "outputs": [],
   "source": []
  },
  {
   "cell_type": "code",
   "execution_count": null,
   "metadata": {},
   "outputs": [],
   "source": []
  },
  {
   "cell_type": "code",
   "execution_count": null,
   "metadata": {},
   "outputs": [],
   "source": []
  },
  {
   "cell_type": "code",
   "execution_count": 17,
   "metadata": {},
   "outputs": [],
   "source": [
    "x = apjsonio.geojsonRead(\"S:\\\\antpod\\\\testspatial\\\\sample\\\\f-42-2-TestExportAcq-NDMIRender.geojson\")\n",
    "y = apjsonio.geojsonRead(\"S:\\\\antpod\\\\testspatial\\\\sample\\\\f-42-2-TestExportAcq-NDVIRender.geojson\")\n",
    "z = apjsonio.geojsonRead(\"S:\\\\antpod\\\\testspatial\\\\sample\\\\f-42-2-TestExportAcq-RawData.geojson\")\n",
    "w = apjsonio.geojsonRead(\"S:\\\\antpod\\\\testspatial\\\\sample\\\\f-42-2-TestExportAcq-SZRender.geojson\")"
   ]
  },
  {
   "cell_type": "code",
   "execution_count": null,
   "metadata": {},
   "outputs": [],
   "source": []
  },
  {
   "cell_type": "code",
   "execution_count": 39,
   "metadata": {},
   "outputs": [],
   "source": [
    "exportList = {\n",
    "    \"NDMIRender\": x, \n",
    "    \"NDVIRender\": y, \n",
    "    \"RawData\": z, \n",
    "    \"SZRender\": w,\n",
    "    \"Farm\": farmData\n",
    "}"
   ]
  },
  {
   "cell_type": "code",
   "execution_count": null,
   "metadata": {},
   "outputs": [],
   "source": []
  },
  {
   "cell_type": "code",
   "execution_count": null,
   "metadata": {},
   "outputs": [],
   "source": []
  },
  {
   "cell_type": "code",
   "execution_count": null,
   "metadata": {},
   "outputs": [],
   "source": []
  },
  {
   "cell_type": "code",
   "execution_count": 40,
   "metadata": {},
   "outputs": [],
   "source": [
    "apjsonio.jsonWrite(exportList, \"output\")"
   ]
  },
  {
   "cell_type": "code",
   "execution_count": null,
   "metadata": {},
   "outputs": [],
   "source": []
  },
  {
   "cell_type": "code",
   "execution_count": null,
   "metadata": {},
   "outputs": [],
   "source": []
  }
 ],
 "metadata": {
  "kernelspec": {
   "display_name": "Python 3",
   "language": "python",
   "name": "python3"
  },
  "language_info": {
   "codemirror_mode": {
    "name": "ipython",
    "version": 3
   },
   "file_extension": ".py",
   "mimetype": "text/x-python",
   "name": "python",
   "nbconvert_exporter": "python",
   "pygments_lexer": "ipython3",
   "version": "3.8.5"
  }
 },
 "nbformat": 4,
 "nbformat_minor": 4
}
