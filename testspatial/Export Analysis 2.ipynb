{
 "cells": [
  {
   "cell_type": "code",
   "execution_count": 1,
   "metadata": {},
   "outputs": [],
   "source": [
    "localfileName = \"f-17\""
   ]
  },
  {
   "cell_type": "code",
   "execution_count": 2,
   "metadata": {},
   "outputs": [],
   "source": [
    "import ee\n",
    "import sys\n",
    "sys.path.insert(1, \"../apGIS/\")\n",
    "import apgis\n",
    "from apgis.apgeojson import GeoJSON\n",
    "from apgis.apfield import Field\n",
    "import apgis.geespatial as spatial\n",
    "from apgis.apdate import Date\n",
    "import apgis.apexception as apexception "
   ]
  },
  {
   "cell_type": "code",
   "execution_count": 3,
   "metadata": {},
   "outputs": [],
   "source": [
    "# apgis.eeInitialize()\n",
    "import geemap\n",
    "Map = geemap.Map()\n",
    "Map.add_basemap(\"SATELLITE\")"
   ]
  },
  {
   "cell_type": "code",
   "execution_count": 4,
   "metadata": {},
   "outputs": [],
   "source": [
    "def genSZRender(ndviLayerCol, ndvi: ee.Image, field: Field) -> ee.FeatureCollection:\n",
    "    try:\n",
    "        def applySNIC(clusterImage):\n",
    "\n",
    "            seeds = ee.Algorithms.Image.Segmentation.seedGrid(size=round(threshPixel*2), gridType='hex')\n",
    "            geoClusterImage = (ee.Algorithms.Image.Segmentation.SNIC(image=clusterImage, size=round(threshPixel*5),\n",
    "                                                                     compactness=5, seeds=seeds).select(['clusters'])\n",
    "                               .clip(clusterImage.geometry()))\n",
    "\n",
    "            return geoClusterImage\n",
    "\n",
    "        cleanSZ = spatial.genCleanSZ(ndviLayerCol, field)       \n",
    "        \n",
    "        if cleanSZ.size().getInfo() == 0:\n",
    "            raise apexception.EEEmptyCollectionError\n",
    "\n",
    "        areaSZ = cleanSZ.map(spatial.setArea)\n",
    "        \n",
    "#         area = spatial.getArea(ee.Geometry(field.eeAOI, \"HA\"))\n",
    "#         if 0.5 < area < 1:\n",
    "#             divisor =\n",
    "\n",
    "        threshArea = round(field.eeAOI.area(5).multiply(0.2).getInfo())\n",
    "        threshPixel = round(threshArea / 100)\n",
    "\n",
    "        bigSZLayers, smallSZLayers = spatial.splitSZLayers(areaSZ, threshArea)\n",
    "\n",
    "        if bigSZLayers.size().getInfo() != 0: \n",
    "            clusterImageList = spatial.areaLayers(bigSZLayers)\n",
    "            clusterCollection = ee.ImageCollection.fromImages(clusterImageList)\n",
    "\n",
    "            geoClusters = clusterCollection.map(applySNIC)\n",
    "\n",
    "            clusterFeatureList = ee.List(geoClusters.iterate(spatial.getClusterFeatureList, ee.List([]))).flatten()\n",
    "            SNICCol = ee.FeatureCollection(clusterFeatureList).merge(smallSZLayers)    \n",
    "\n",
    "        else:\n",
    "            SNICCol = smallSZLayers\n",
    "\n",
    "        SNICCol = ndvi.reduceRegions(collection=SNICCol, reducer=ee.Reducer.mean()).map(spatial.fixSNIC)\n",
    "        SNICCol = SNICCol.map(spatial.setArea)      \n",
    "        \n",
    "        \n",
    "        if SNICCol.size().getInfo() == 0:\n",
    "            raise apexception.EEEmptyCollectionError\n",
    "    \n",
    "        return SNICCol\n",
    "\n",
    "    except Exception as e:\n",
    "        raise apexception.EERuntimeError(f\"StressZone SNIC Render Generation Failed @ Runtime: {e}\")"
   ]
  },
  {
   "cell_type": "code",
   "execution_count": 5,
   "metadata": {},
   "outputs": [],
   "source": [
    "ndvi2Vis = {\n",
    "    'min': 0, \n",
    "    'max': 10, \n",
    "    'palette': ['FFFFFF', 'CE7E45', 'DF923D', 'F1B555', 'FCD163', '99B718', '74A901', '66A000', '529400', \n",
    "                '3E8601', '207401', '056201', '004C00', '023B01', '012E01', '011D01', '011301']\n",
    "}\n",
    "\n",
    "S2TC = {\n",
    "    'min': 0, \n",
    "    'max': 255,\n",
    "    'bands': ['TCI_R', 'TCI_G', 'TCI_B']\n",
    "}"
   ]
  },
  {
   "cell_type": "code",
   "execution_count": 6,
   "metadata": {},
   "outputs": [
    {
     "name": "stdout",
     "output_type": "stream",
     "text": [
      "32\n"
     ]
    }
   ],
   "source": [
    "drange = (Date(\"2019-01-20\"), Date(\"2020-09-30\"))\n",
    "field = Field(localfile=f\"{localfileName}.geojson\")\n",
    "\n",
    "S2 = apgis.gee.genCollection(sensor=\"L2A\", daterange=drange, geometry=field.eeROI)\\\n",
    ".filter(ee.Filter.lt('CLOUDY_PIXEL_PERCENTAGE', 15))\n",
    "\n",
    "print(S2.size().getInfo())"
   ]
  },
  {
   "cell_type": "code",
   "execution_count": 7,
   "metadata": {},
   "outputs": [
    {
     "name": "stdout",
     "output_type": "stream",
     "text": [
      "1.816\n"
     ]
    }
   ],
   "source": [
    "print(spatial.getArea(ee.Geometry(field.geometry), \"HA\"))"
   ]
  },
  {
   "cell_type": "code",
   "execution_count": 8,
   "metadata": {},
   "outputs": [],
   "source": [
    "image = S2.first().clip(field.eeROI)"
   ]
  },
  {
   "cell_type": "code",
   "execution_count": 9,
   "metadata": {},
   "outputs": [],
   "source": [
    "Map.addLayer(field.eeAOI, {}, \"bounds\")\n",
    "Map.addLayer(image, S2TC, \"TC\")\n",
    "Map.centerObject(field.eeROI,zoom=15)"
   ]
  },
  {
   "cell_type": "code",
   "execution_count": 10,
   "metadata": {},
   "outputs": [
    {
     "data": {
      "application/vnd.jupyter.widget-view+json": {
       "model_id": "4c7920ad68364472807828d334fc3758",
       "version_major": 2,
       "version_minor": 0
      },
      "text/plain": [
       "Map(center=[11.317747000638239, 79.70686199982545], controls=(WidgetControl(options=['position'], widget=HBox(…"
      ]
     },
     "metadata": {},
     "output_type": "display_data"
    }
   ],
   "source": [
    "Map"
   ]
  },
  {
   "cell_type": "code",
   "execution_count": 11,
   "metadata": {},
   "outputs": [],
   "source": [
    "ndvi = apgis.index.generateIndex(image=image, sensor=\"L2A\", index=\"NDVI\").clip(field.eeAOI)\n",
    "# ndmi = apgis.index.generateIndex(image=image, sensor=\"L2A\", index=\"NDMI\").clip(spatial.genBufferGeo(field, 50))"
   ]
  },
  {
   "cell_type": "code",
   "execution_count": 12,
   "metadata": {},
   "outputs": [],
   "source": [
    "ndviRender = spatial.renderNDVI(ndvi)\n",
    "# ndmiRender = spatial.renderNDMI(ndmi)\n",
    "\n",
    "ndviLayerRender = spatial.layerCoding(ndviRender)\n",
    "# ndmiLayerRender = spatial.layerCoding(ndmiRender)\n",
    "\n",
    "ndviLayerCol = spatial.mergeLayerPolygons(ndviLayerRender)\n",
    "# ndmiLayerCol = spatial.mergeLayerPolygons(ndmiLayerRender)\n",
    "\n",
    "# indexes = ndvi.addBands(ndmi)\n",
    "\n",
    "# rawData = spatial.accumulateRawValue(indexes, field)\n",
    "# scoredData = spatial.scoreBuilder(rawData)"
   ]
  },
  {
   "cell_type": "code",
   "execution_count": 13,
   "metadata": {},
   "outputs": [],
   "source": [
    "SNICCol = genSZRender(ndviLayerCol, ndvi, field)"
   ]
  },
  {
   "cell_type": "code",
   "execution_count": 14,
   "metadata": {},
   "outputs": [],
   "source": [
    "Map.addLayer(ndvi, ndvi2Vis, \"ndvi\")"
   ]
  },
  {
   "cell_type": "code",
   "execution_count": 15,
   "metadata": {},
   "outputs": [
    {
     "data": {
      "text/plain": [
       "5"
      ]
     },
     "execution_count": 15,
     "metadata": {},
     "output_type": "execute_result"
    }
   ],
   "source": [
    "SNICCol.size().getInfo()"
   ]
  },
  {
   "cell_type": "code",
   "execution_count": 16,
   "metadata": {},
   "outputs": [],
   "source": [
    "Map.addLayer(SNICCol, {}, \"sz\")"
   ]
  },
  {
   "cell_type": "code",
   "execution_count": null,
   "metadata": {},
   "outputs": [],
   "source": []
  },
  {
   "cell_type": "code",
   "execution_count": null,
   "metadata": {},
   "outputs": [],
   "source": []
  },
  {
   "cell_type": "code",
   "execution_count": 17,
   "metadata": {},
   "outputs": [],
   "source": [
    "# marginal1 = [\"f-31\", \"f-32\"]"
   ]
  },
  {
   "cell_type": "code",
   "execution_count": 18,
   "metadata": {},
   "outputs": [],
   "source": [
    "# marginal2 = [\"f-23\",\"f-33\",\"f-34\"]"
   ]
  },
  {
   "cell_type": "code",
   "execution_count": 19,
   "metadata": {},
   "outputs": [],
   "source": [
    "# small = [\"f-25\",\"f-19\",\"f-17\",\"f-41\",\"f-28\",\"f-12\"]"
   ]
  },
  {
   "cell_type": "code",
   "execution_count": 20,
   "metadata": {},
   "outputs": [],
   "source": [
    "# semimedium1=  [\"f-15\",\"f-04\",\"f-37\",\"f-06\",\"f-10\",\"f-09\"] #\"f-26\",\"f-29\",\"f-38\",\"f-21\",\"f-01\",\"f-14\",\"f-08\",\"f-02\", \"f-16\"]"
   ]
  },
  {
   "cell_type": "code",
   "execution_count": 21,
   "metadata": {},
   "outputs": [],
   "source": [
    "# semimedium2 = [\"f-30\",\"f-20\",\"f-27\",\"f-22\",\"f-39\",\"f-40\"]"
   ]
  },
  {
   "cell_type": "code",
   "execution_count": 22,
   "metadata": {},
   "outputs": [],
   "source": [
    "# medium1 = [\"f-35\", \"f-03\", \"f-07\"]"
   ]
  },
  {
   "cell_type": "code",
   "execution_count": 23,
   "metadata": {},
   "outputs": [],
   "source": [
    "# medium2 = [\"f-24\",\"f-05\",\"f-53\", \"f-36\", \"f-18\"]"
   ]
  },
  {
   "cell_type": "code",
   "execution_count": 24,
   "metadata": {},
   "outputs": [],
   "source": [
    "# medium3 = [\"f-13\", \"f-11\"]"
   ]
  },
  {
   "cell_type": "code",
   "execution_count": 25,
   "metadata": {},
   "outputs": [],
   "source": [
    "# large1 = [\"f-43\",\"f-52\",\"f-51\",\"f-56\",\"f-54\",\"f-42\",\"f-48\"]"
   ]
  },
  {
   "cell_type": "code",
   "execution_count": 26,
   "metadata": {},
   "outputs": [],
   "source": [
    "# large2 = [\"f-44\",\"f-47\",\"f-45\",\"f-50\",\"f-46\"]"
   ]
  },
  {
   "cell_type": "code",
   "execution_count": 27,
   "metadata": {},
   "outputs": [],
   "source": [
    "# filenames = large2\n",
    "# print(filenames)"
   ]
  },
  {
   "cell_type": "code",
   "execution_count": 28,
   "metadata": {},
   "outputs": [],
   "source": [
    "# Map"
   ]
  },
  {
   "cell_type": "code",
   "execution_count": 29,
   "metadata": {
    "scrolled": false
   },
   "outputs": [],
   "source": [
    "# for index, file in enumerate(filenames):\n",
    "#     drange = (Date(\"2019-06-30\"), Date(\"2020-09-30\"))\n",
    "#     field = Field(localfile=f\"{file}.geojson\")\n",
    "\n",
    "#     S2 = apgis.gee.genCollection(sensor=\"L2A\", daterange=drange, geometry=field.eeROI)\\\n",
    "#     .filter(ee.Filter.lt('CLOUDY_PIXEL_PERCENTAGE', 15))\n",
    "#     print(index+1)\n",
    "    \n",
    "#     image = S2.first().clip(field.eeROI)\n",
    "          \n",
    "#     ndvi = apgis.index.generateIndex(image=image, sensor=\"L2A\", index=\"NDVI\").clip(field.eeAOI)\n",
    "# #     ndmi = apgis.index.generateIndex(image=image, sensor=\"L2A\", index=\"NDMI\").clip(spatial.genBufferGeo(field, 50))\n",
    "          \n",
    "#     ndviRender = spatial.renderNDVI(ndvi)\n",
    "# #     ndmiRender = spatial.renderNDMI(ndmi)\n",
    "    \n",
    "#     Map.centerObject(field.eeROI,zoom=15)\n",
    "#     Map.addLayer(field.eeAOI, {}, f\"bounds-{index}\")\n",
    "    \n",
    "#     print(\"Collection size\",S2.size().getInfo())\n",
    "    \n",
    "#     ndviLayerRender = spatial.layerCoding(ndviRender)\n",
    "# #     ndmiLayerRender = spatial.layerCoding(ndmiRender)\n",
    "    \n",
    "#     ndviLayerCol = spatial.mergeLayerPolygons(ndviLayerRender)\n",
    "# #     ndmiLayerCol = spatial.mergeLayerPolygons(ndmiLayerRender)\n",
    "    \n",
    "#     print(spatial.getArea(ee.Geometry(field.geometry), \"HA\"))\n",
    "    \n",
    "# #     indexes = ndvi.addBands(ndmi)\n",
    "\n",
    "# #     rawData = spatial.accumulateRawValue(indexes, field)\n",
    "# #     scoredData = spatial.scoreBuilder(rawData)\n",
    "#     SNICCol = genSZRender(ndviLayerCol, ndvi, field)\n",
    "          \n",
    "#     print(\"Stress zones:\", SNICCol.size().getInfo())\n",
    "    \n",
    "#     Map.addLayer(SNICCol, {}, f\"SZ-{index}\")"
   ]
  },
  {
   "cell_type": "code",
   "execution_count": null,
   "metadata": {},
   "outputs": [],
   "source": []
  }
 ],
 "metadata": {
  "kernelspec": {
   "display_name": "Python 3",
   "language": "python",
   "name": "python3"
  },
  "language_info": {
   "codemirror_mode": {
    "name": "ipython",
    "version": 3
   },
   "file_extension": ".py",
   "mimetype": "text/x-python",
   "name": "python",
   "nbconvert_exporter": "python",
   "pygments_lexer": "ipython3",
   "version": "3.8.4"
  }
 },
 "nbformat": 4,
 "nbformat_minor": 4
}
