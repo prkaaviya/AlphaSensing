{
 "cells": [
  {
   "cell_type": "code",
   "execution_count": 4,
   "metadata": {},
   "outputs": [],
   "source": [
    "import ee\n",
    "import sys\n",
    "sys.path.insert(1, \"../apGIS/\")\n",
    "import apgis\n",
    "import apgis.geespatial as spatial\n",
    "from apgis.apfield import Field"
   ]
  },
  {
   "cell_type": "code",
   "execution_count": 2,
   "metadata": {},
   "outputs": [],
   "source": [
    "apgis.eeInitialize()"
   ]
  },
  {
   "cell_type": "code",
   "execution_count": 3,
   "metadata": {},
   "outputs": [],
   "source": [
    "from glob import glob\n",
    "\n",
    "files = glob(\"*.geojson\")"
   ]
  },
  {
   "cell_type": "code",
   "execution_count": 5,
   "metadata": {},
   "outputs": [
    {
     "name": "stdout",
     "output_type": "stream",
     "text": [
      "1 2.774\n",
      "2 2.582\n",
      "3 8.792\n",
      "4 1.978\n",
      "5 8.764\n",
      "6 2.785\n",
      "7 2.21\n",
      "8 2.908\n",
      "9 1.816\n",
      "10 6.962\n",
      "11 1.379\n",
      "12 2.828\n",
      "13 3.125\n",
      "14 2.731\n",
      "15 3.407\n",
      "16 0.557\n",
      "17 5.218\n",
      "18 1.222\n",
      "19 2.61\n",
      "20 3.288\n",
      "21 1.948\n",
      "22 2.611\n",
      "23 4.434\n",
      "24 3.109\n",
      "25 0.262\n",
      "26 0.398\n",
      "27 0.721\n",
      "28 0.794\n",
      "29 4.325\n",
      "30 5.861\n",
      "31 2.475\n",
      "32 2.679\n",
      "33 3.711\n",
      "34 2.258\n",
      "35 3.906\n",
      "36 1.926\n",
      "37 19.11\n",
      "38 11.604\n",
      "39 25.002\n",
      "40 40.619\n",
      "41 5.412\n",
      "42 2.528\n",
      "43 4.561\n",
      "44 2.792\n",
      "45 2.609\n"
     ]
    }
   ],
   "source": [
    "for index, file in enumerate(files):\n",
    "    localfileName = file.split('.')[0]\n",
    "    field = Field(localfile=f\"{localfileName}.geojson\")\n",
    "    area = spatial.getArea(field.eeAOI, \"HA\")\n",
    "    print(index+1, area)"
   ]
  }
 ],
 "metadata": {
  "kernelspec": {
   "display_name": "Python 3",
   "language": "python",
   "name": "python3"
  },
  "language_info": {
   "codemirror_mode": {
    "name": "ipython",
    "version": 3
   },
   "file_extension": ".py",
   "mimetype": "text/x-python",
   "name": "python",
   "nbconvert_exporter": "python",
   "pygments_lexer": "ipython3",
   "version": "3.8.4"
  }
 },
 "nbformat": 4,
 "nbformat_minor": 4
}
