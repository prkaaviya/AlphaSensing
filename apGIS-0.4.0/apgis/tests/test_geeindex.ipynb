{
 "cells": [
  {
   "cell_type": "code",
   "execution_count": 7,
   "metadata": {},
   "outputs": [],
   "source": [
    "import sys\n",
    "sys.path.insert(0, 'w:/antpod/GIS/')\n",
    "import ee\n",
    "import apgis\n",
    "import apgis.geeindex as index\n",
    "import apgis.geebase as base\n",
    "import geemap"
   ]
  },
  {
   "cell_type": "code",
   "execution_count": 8,
   "metadata": {},
   "outputs": [],
   "source": [
    "Map = geemap.Map(zoom=1)\n",
    "Map.add_basemap(\"SATELLITE\")"
   ]
  },
  {
   "cell_type": "code",
   "execution_count": 9,
   "metadata": {},
   "outputs": [],
   "source": [
    "# Setup\n",
    "\n",
    "s2 = ee.ImageCollection('COPERNICUS/S2_SR') \n",
    "l8 = ee.ImageCollection('LANDSAT/LC08/C01/T1_SR')\n",
    "sdate = '2020-01-06'\n",
    "edate = '2020-06-30'\n",
    "dList = [sdate, edate]\n",
    "\n",
    "aoi = ee.Geometry.Polygon([\n",
    "              [80.056515,12.796234],\n",
    "              [80.056515,12.828205],\n",
    "              [80.085268,12.828205],\n",
    "              [80.085268,12.796234]])\n",
    "\n",
    "s2image = s2.filterDate(dList[0], dList[1]).filterBounds(aoi).first().clip(aoi)\n",
    "l8image = l8.filterDate(dList[0], dList[1]).filterBounds(aoi).first().clip(aoi)\n",
    "Map.centerObject(aoi, zoom=14)"
   ]
  },
  {
   "cell_type": "code",
   "execution_count": 10,
   "metadata": {},
   "outputs": [],
   "source": [
    "vis = {'min': 0.0, 'max': 1.0, 'palette': ['FFFFFF', 'CE7E45', 'DF923D', 'F1B555', 'FCD163', '99B718',\n",
    "                                               '74A901', '66A000', '529400', '3E8601', '207401', '056201',\n",
    "                                               '004C00', '023B01', '012E01', '011D01', '011301']}"
   ]
  },
  {
   "cell_type": "code",
   "execution_count": 11,
   "metadata": {},
   "outputs": [],
   "source": [
    "# Sentinel Visualization\n",
    "\n",
    "Map.addLayer(index.calculateNDVI_S2(s2image), vis)\n",
    "Map.addLayer(index.calculateSAVI_S2(s2image), vis)\n",
    "Map.addLayer(index.calculateAVI_S2(s2image), vis)\n",
    "Map.addLayer(index.calculateEVI_S2(s2image), vis)\n",
    "Map.addLayer(index.calculateARVI_S2(s2image), vis)\n",
    "Map.addLayer(index.calculateGNDVI_S2(s2image), vis)\n",
    "Map.addLayer(index.calculateNDCI_S2(s2image), vis)\n",
    "Map.addLayer(index.calculateNPCRI_S2(s2image), vis)\n",
    "Map.addLayer(index.calculatePSRI_S2(s2image), vis)\n",
    "Map.addLayer(index.calculateBSI_S2(s2image), vis)\n",
    "Map.addLayer(index.calculateNDWI_S2(s2image), vis)\n",
    "Map.addLayer(index.calculateNDMI_S2(s2image), vis)\n",
    "Map.addLayer(index.calculateNDGI_S2(s2image), vis)\n",
    "Map.addLayer(index.calculateNDSI_S2(s2image), vis)\n",
    "Map.addLayer(index.calculateNBRI_S2(s2image), vis)\n",
    "Map.addLayer(index.calculateSI_S2(s2image), vis)\n",
    "Map.addLayer(index.calculateMCARI_S2(s2image), vis)"
   ]
  },
  {
   "cell_type": "code",
   "execution_count": 12,
   "metadata": {},
   "outputs": [],
   "source": [
    "# Landsat Visualization\n",
    "\n",
    "Map.addLayer(index.calculateNDVI_L8(l8image), vis)\n",
    "Map.addLayer(index.calculateSAVI_L8(l8image), vis)\n",
    "Map.addLayer(index.calculateAVI_L8(l8image), vis)\n",
    "Map.addLayer(index.calculateEVI_L8(l8image), vis)\n",
    "Map.addLayer(index.calculateARVI_L8(l8image), vis)\n",
    "Map.addLayer(index.calculateGNDVI_L8(l8image), vis)\n",
    "Map.addLayer(index.calculateNPCRI_L8(l8image), vis)\n",
    "Map.addLayer(index.calculateBSI_L8(l8image), vis)\n",
    "Map.addLayer(index.calculateNDWI_L8(l8image), vis)\n",
    "Map.addLayer(index.calculateNDMI_L8(l8image), vis)\n",
    "Map.addLayer(index.calculateNDGI_L8(l8image), vis)\n",
    "Map.addLayer(index.calculateNDSI_L8(s2image), vis)\n",
    "Map.addLayer(index.calculateNBRI_L8(l8image), vis)\n",
    "Map.addLayer(index.calculateSI_L8(l8image), vis)"
   ]
  },
  {
   "cell_type": "code",
   "execution_count": 13,
   "metadata": {
    "scrolled": true
   },
   "outputs": [
    {
     "data": {
      "application/vnd.jupyter.widget-view+json": {
       "model_id": "2efd47bb41544b0aa68c91587a2d90f7",
       "version_major": 2,
       "version_minor": 0
      },
      "text/plain": [
       "Map(center=[12.812219551915618, 80.07089149999587], controls=(WidgetControl(options=['position'], widget=HBox(…"
      ]
     },
     "metadata": {},
     "output_type": "display_data"
    }
   ],
   "source": [
    "Map"
   ]
  },
  {
   "cell_type": "code",
   "execution_count": 14,
   "metadata": {},
   "outputs": [],
   "source": [
    "# Tests for function - generateIndex\n",
    "\n",
    "s2Index = index.generateIndex(s2image, index=\"NDVI\", sensor=\"L2A\")\n",
    "l8Index = index.generateIndex(l8image, index=\"NDVI\", sensor=\"L8SR\")"
   ]
  }
 ],
 "metadata": {
  "kernelspec": {
   "display_name": "Python 3",
   "language": "python",
   "name": "python3"
  },
  "language_info": {
   "codemirror_mode": {
    "name": "ipython",
    "version": 3
   },
   "file_extension": ".py",
   "mimetype": "text/x-python",
   "name": "python",
   "nbconvert_exporter": "python",
   "pygments_lexer": "ipython3",
   "version": "3.8.5"
  }
 },
 "nbformat": 4,
 "nbformat_minor": 4
}
