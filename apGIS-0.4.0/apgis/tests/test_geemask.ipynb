{
 "cells": [
  {
   "cell_type": "code",
   "execution_count": 1,
   "metadata": {},
   "outputs": [],
   "source": [
    "import sys\n",
    "sys.path.insert(0, 'w:/antpod/GIS/')\n",
    "import ee\n",
    "import apgis\n",
    "import apgis.geemask as mask\n",
    "import apgis.geebase as base\n",
    "import geemap"
   ]
  },
  {
   "cell_type": "code",
   "execution_count": 2,
   "metadata": {},
   "outputs": [],
   "source": [
    "Map = geemap.Map(zoom=1)\n",
    "Map.add_basemap(\"SATELLITE\")"
   ]
  },
  {
   "cell_type": "code",
   "execution_count": 3,
   "metadata": {},
   "outputs": [],
   "source": [
    "# Setup\n",
    "\n",
    "s2 = ee.ImageCollection('COPERNICUS/S2_SR') \n",
    "sdate = '2020-01-06'\n",
    "edate = '2020-01-31'\n",
    "dList = [sdate, edate]\n",
    "\n",
    "aoi = ee.Geometry.Polygon([\n",
    "              [80.056515,12.796234],\n",
    "              [80.056515,12.828205],\n",
    "              [80.085268,12.828205],\n",
    "              [80.085268,12.796234]])\n",
    "\n",
    "    \n",
    "s2image = s2.filterDate(dList[0], dList[1]).filterBounds(aoi).first().clip(aoi)\n",
    "ndvi = s2image.normalizedDifference(['B8','B4']).rename('NDVI')\n",
    "vis = {'min': 0.0, 'max': 1.0, 'palette': ['FFFFFF', 'CE7E45', 'DF923D', 'F1B555', 'FCD163', '99B718',\n",
    "                                               '74A901', '66A000', '529400', '3E8601', '207401', '056201',\n",
    "                                               '004C00', '023B01', '012E01', '011D01', '011301']}\n",
    "Map.centerObject(aoi, zoom=14)"
   ]
  },
  {
   "cell_type": "code",
   "execution_count": 4,
   "metadata": {},
   "outputs": [],
   "source": [
    "# Test for function - generateRangeMask\n",
    "\n",
    "rangemask1 = mask.generateRangeMask(image=ndvi, low=0.5, high= 0.8)\n",
    "rangemask2 = mask.generateRangeMask(image=ndvi, low=0.2, high= 0.3)\n",
    "\n",
    "Map.addLayer(rangemask1, vis, 'rangemask1')\n",
    "Map.addLayer(rangemask2, vis, 'rangemask2')"
   ]
  },
  {
   "cell_type": "code",
   "execution_count": 5,
   "metadata": {},
   "outputs": [],
   "source": [
    "# Test for function - generateMultiRangeMask\n",
    "\n",
    "maskcol1 = mask.generateMultiRangeMask(ndvi, [-1, 0.25, 0.33, 0.4, 0.5, 1])\n",
    "maskcol2 = mask.generateMultiRangeMask(ndvi, [-1, 0.2, 0.31, 0.45, 0.62, 1])\n",
    "\n",
    "for i in range(5):\n",
    "    layer1 = 'maskcol1'+ ' Layer ' + str(i)\n",
    "    layer2 = 'maskcol2'+ ' Layer ' + str(i)\n",
    "    image1 = base.extractImage(maskcol1, int(i))\n",
    "    image2 = base.extractImage(maskcol2, int(i))\n",
    "    Map.addLayer(image1, vis, layer1)\n",
    "    Map.addLayer(image2, vis, layer2)\n"
   ]
  },
  {
   "cell_type": "code",
   "execution_count": 6,
   "metadata": {},
   "outputs": [
    {
     "data": {
      "application/vnd.jupyter.widget-view+json": {
       "model_id": "7bda0c95a3ec4a668b0575bba06a8549",
       "version_major": 2,
       "version_minor": 0
      },
      "text/plain": [
       "Map(center=[12.812219551915618, 80.07089149999587], controls=(WidgetControl(options=['position'], widget=HBox(…"
      ]
     },
     "metadata": {},
     "output_type": "display_data"
    }
   ],
   "source": [
    "Map"
   ]
  }
 ],
 "metadata": {
  "kernelspec": {
   "display_name": "Python 3",
   "language": "python",
   "name": "python3"
  },
  "language_info": {
   "codemirror_mode": {
    "name": "ipython",
    "version": 3
   },
   "file_extension": ".py",
   "mimetype": "text/x-python",
   "name": "python",
   "nbconvert_exporter": "python",
   "pygments_lexer": "ipython3",
   "version": "3.8.5"
  }
 },
 "nbformat": 4,
 "nbformat_minor": 4
}
