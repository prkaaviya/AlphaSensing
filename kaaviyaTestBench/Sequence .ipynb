{
 "cells": [
  {
   "cell_type": "code",
   "execution_count": null,
   "metadata": {},
   "outputs": [],
   "source": [
    "import antpodGIS as apd"
   ]
  },
  {
   "cell_type": "code",
   "execution_count": null,
   "metadata": {},
   "outputs": [],
   "source": [
    "import os\n",
    "os.getcwd()"
   ]
  },
  {
   "cell_type": "code",
   "execution_count": null,
   "metadata": {},
   "outputs": [],
   "source": [
    "import geopandas as gpd\n",
    "\n",
    "geo = gpd.read_file(\"S:\\\\antpodGIS\\\\geojson\\\\FarmKanchi.geojson\")\n",
    "geo.plot(edgecolor='black')"
   ]
  },
  {
   "cell_type": "code",
   "execution_count": null,
   "metadata": {},
   "outputs": [],
   "source": [
    "import rasterio as rio\n",
    "\n",
    "tiff = rio.open(\"S:\\\\antpodGIS\\\\tiff\\\\APX00000-XX-L2A-VXX-2020-02-15.tif\")"
   ]
  },
  {
   "cell_type": "code",
   "execution_count": null,
   "metadata": {},
   "outputs": [],
   "source": [
    "os.getcwd()"
   ]
  },
  {
   "cell_type": "code",
   "execution_count": null,
   "metadata": {},
   "outputs": [],
   "source": [
    "import antpodGIS as apd\n",
    "apd.showRaster(tiff, 1)"
   ]
  },
  {
   "cell_type": "code",
   "execution_count": 1,
   "metadata": {},
   "outputs": [
    {
     "data": {
      "text/plain": [
       "'2020-02-15'"
      ]
     },
     "execution_count": 1,
     "metadata": {},
     "output_type": "execute_result"
    }
   ],
   "source": [
    "import antpodGIS as apd\n",
    "date = apd.extractSingleDate(\"APX00000-XX-L2A-VXX-2020-02-15.tif\")\n",
    "date"
   ]
  },
  {
   "cell_type": "code",
   "execution_count": null,
   "metadata": {},
   "outputs": [],
   "source": [
    "tiff.count"
   ]
  },
  {
   "cell_type": "code",
   "execution_count": null,
   "metadata": {},
   "outputs": [],
   "source": [
    "import numpy as np\n",
    "from shapely.geometry import Polygon\n",
    "\n",
    "xmin,ymin,xmax,ymax =  geo.total_bounds\n",
    "side = 0.0005\n",
    "rows = int(np.ceil((ymax-ymin) /  side))\n",
    "cols = int(np.ceil((xmax-xmin) / side))\n",
    "XleftOrigin = xmin\n",
    "XrightOrigin = xmin + side\n",
    "YtopOrigin = ymax\n",
    "YbottomOrigin = ymax- side\n",
    "polygons =[]\n",
    "for i in range(cols):\n",
    "    Ytop = YtopOrigin\n",
    "    Ybottom =YbottomOrigin\n",
    "    for j in range(rows):\n",
    "        polygons.append(Polygon([(XleftOrigin, Ytop), (XrightOrigin, Ytop), (XrightOrigin, Ybottom), (XleftOrigin, Ybottom)])) \n",
    "        Ytop = Ytop - side\n",
    "        Ybottom = Ybottom - side\n",
    "    XleftOrigin = XleftOrigin + side\n",
    "    XrightOrigin = XrightOrigin + side\n",
    "#grid = gpd.GeoDataFrame({'geometry':polygons}, crs={'init': 'epsg:4326'})\n",
    "grid = gpd.GeoDataFrame({'geometry':polygons})\n",
    "grid.plot(figsize = (10,10),edgecolor='black')"
   ]
  },
  {
   "cell_type": "code",
   "execution_count": null,
   "metadata": {},
   "outputs": [],
   "source": [
    "geodf = gpd.overlay(grid,geo)\n",
    "#geodf.crs\n",
    "#geodf.set_crs({\"EPSG:4326\"})\n",
    "geodf.plot(figsize = (10,10),edgecolor='black')"
   ]
  },
  {
   "cell_type": "code",
   "execution_count": null,
   "metadata": {},
   "outputs": [],
   "source": [
    "geodf"
   ]
  },
  {
   "cell_type": "code",
   "execution_count": null,
   "metadata": {},
   "outputs": [],
   "source": [
    "dataset = tiff.read(1)\n",
    "VXXProducts =['NDVI', 'SAVI', 'AVI', 'EVI', 'ARVI', 'GNDVI', 'NDCI', 'NPCRI', 'PSRI', 'BSI', 'NDMI', 'NDWI', 'SI']\n",
    "geodf = apd.fillMeanIndexValues(tiff, geodf, VXXProducts)\n",
    "geodf"
   ]
  },
  {
   "cell_type": "code",
   "execution_count": null,
   "metadata": {
    "scrolled": false
   },
   "outputs": [],
   "source": [
    "import matplotlib.pyplot as plt \n",
    "import geoplot as gplt\n",
    "import geoplot.crs as gcrs\n",
    "ax = gplt.polyplot(\n",
    "  geodf,\n",
    "  edgecolor=\"white\",\n",
    "  facecolor=\"lightgray\",\n",
    "  figsize=(8, 8),\n",
    "  projection=gcrs.AlbersEqualArea()\n",
    ")\n",
    "#geodf[geodf['meanNDVI'] < 0.3].plot('meanNDVI', figsize = (12,12), legend = True)\n",
    "geodf.boundary.plot(a  x=plt.gca(),color='k')\n",
    "plt.tight_layout()"
   ]
  },
  {
   "cell_type": "code",
   "execution_count": null,
   "metadata": {},
   "outputs": [],
   "source": [
    "ax = gplt.polyplot(geodf, projection=gcrs.AlbersEqualArea())\n",
    "gplt.choropleth(\n",
    "  geodf,\n",
    "  hue=\"meanNDVI\",\n",
    "  edgecolor=\"white\",\n",
    "  linewidth=1,\n",
    "  cmap=\"Greens\",\n",
    "  ax=ax\n",
    ")\n",
    "plt.tight_layout()"
   ]
  },
  {
   "cell_type": "code",
   "execution_count": null,
   "metadata": {},
   "outputs": [],
   "source": [
    "x = geodf.to_json()\n",
    "x\n",
    "geodf.to_file('y.geojson', driver='GeoJSON')\n",
    "#geodf.crs"
   ]
  },
  {
   "cell_type": "code",
   "execution_count": null,
   "metadata": {},
   "outputs": [],
   "source": [
    "geodf.to_file('x.shp', driver='ESRI Shapefile')"
   ]
  },
  {
   "cell_type": "code",
   "execution_count": null,
   "metadata": {
    "scrolled": false
   },
   "outputs": [],
   "source": [
    "%matplotlib inline\n",
    "\n",
    "from mpl_toolkits.basemap import Basemap"
   ]
  },
  {
   "cell_type": "code",
   "execution_count": null,
   "metadata": {},
   "outputs": [],
   "source": [
    "grid = apd.createGrid(geo)\n",
    "type(grid)"
   ]
  },
  {
   "cell_type": "code",
   "execution_count": null,
   "metadata": {},
   "outputs": [],
   "source": [
    "#grid = apd.setGeoDFCRS(grid, epsg=4326)\n",
    "geo = apd.setGeoDFCRS(geo, epsg=4326)"
   ]
  },
  {
   "cell_type": "code",
   "execution_count": null,
   "metadata": {},
   "outputs": [],
   "source": [
    "geos = apd.overlayGrid(geo, grid)"
   ]
  },
  {
   "cell_type": "code",
   "execution_count": null,
   "metadata": {},
   "outputs": [],
   "source": [
    "grid.crs = {'init' : 'epsg:4326'}\n",
    "geos = apd.overlayGrid(grid, geo)"
   ]
  }
 ],
 "metadata": {
  "kernelspec": {
   "display_name": "Python 3",
   "language": "python",
   "name": "python3"
  },
  "language_info": {
   "codemirror_mode": {
    "name": "ipython",
    "version": 3
   },
   "file_extension": ".py",
   "mimetype": "text/x-python",
   "name": "python",
   "nbconvert_exporter": "python",
   "pygments_lexer": "ipython3",
   "version": "3.8.4"
  }
 },
 "nbformat": 4,
 "nbformat_minor": 4
}
